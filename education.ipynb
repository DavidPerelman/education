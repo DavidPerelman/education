{
 "cells": [
  {
   "cell_type": "markdown",
   "id": "f8736586",
   "metadata": {},
   "source": [
    "## סדר פעולות:\n",
    "\n",
    "העלאת טבלאות\n",
    "\n",
    "סידור שמות השדות באנגלית\n",
    "טבלת מוסדות אחודה- ID, src\n",
    "בקרה על כפילויות מאותו מקור\n",
    "סימון בתי ספר עם הפרשים גדולים בין המקורות\n",
    "מחיקת רשומות ממקור לא מועדף\n",
    "בניית מקדם מספר כיתות מתוך תלמידים.\n",
    "החלת המקדם על כל בתי הספר, עיגול מספר התלמידים\n",
    "\n",
    "מיקום\n",
    "דאטה גוב\n",
    "ירושלים- עירייה\n",
    "בית שמש- עירייה בעזרת סקריפט גאוקודינג\n",
    "גוגל בעזרת כלים אוטומטיים\n",
    "יצירת רשימת מוסדות ללא מיקום\n",
    "חיבור נתונים בעזרת merge\n",
    "ייצוא לעיגון ידני\n",
    "העלאת שכבת מוסדות מעיגון ידני\n",
    "חיבור שכבת העיגון הידני לשאר המוסדות\n",
    "הוספת שם השכונה\n",
    "\n",
    "בונוס- תעסוקה\n",
    "יצירת מקדם מועסקים לפי נתוני למס מעיבוד מיוחד\n",
    "החלת המקדם, עיגול מספר המועסקים\n",
    "\n",
    "ייצוא\n",
    "שכבת נקודות\n",
    "שכבת אזורי תנועה\n",
    "סטטיסטיקות מעניינות\n",
    "טבלת מוסדות עם פער גדול בנתונים\n"
   ]
  },
  {
   "cell_type": "markdown",
   "id": "26ded864",
   "metadata": {},
   "source": [
    "## ייבוא\n"
   ]
  },
  {
   "cell_type": "markdown",
   "id": "73e43b46",
   "metadata": {},
   "source": [
    "### ספריות\n"
   ]
  },
  {
   "cell_type": "code",
   "execution_count": 1,
   "id": "f96083d7",
   "metadata": {
    "scrolled": true
   },
   "outputs": [],
   "source": [
    "import pandas as pd\n",
    "import geopandas as gpd\n",
    "import numpy as np\n",
    "from shapely.geometry import Point\n",
    "import os\n",
    "import sys\n",
    "import math\n",
    "import warnings\n",
    "from geopy.geocoders import Nominatim\n",
    "import pyproj\n",
    "\n",
    "pd.set_option('display.max_rows', None)\n",
    "pd.set_option('display.max_columns', None)\n",
    "pd.set_option('display.float_format', lambda x: '%.2f' % x)"
   ]
  },
  {
   "cell_type": "markdown",
   "id": "34de119f",
   "metadata": {},
   "source": [
    "### העלת משתנים להרצת הקוד\n"
   ]
  },
  {
   "cell_type": "code",
   "execution_count": 2,
   "id": "3e5db60a",
   "metadata": {},
   "outputs": [],
   "source": [
    "cwd = os.getcwd()\n",
    "\n",
    "education_folder_path = os.path.dirname(cwd)\n",
    "\n",
    "sys.path.append(education_folder_path)\n"
   ]
  },
  {
   "cell_type": "markdown",
   "id": "e9663d51",
   "metadata": {},
   "source": [
    "### פונקציות גלובליות\n"
   ]
  },
  {
   "cell_type": "code",
   "execution_count": 3,
   "id": "a3f41635",
   "metadata": {},
   "outputs": [],
   "source": [
    "from global_functions import remove_spaces_in_columns, up_load_shp, up_load_df, drop_geo, change_cols_names, get_newest_date_file, get_output_folder_location"
   ]
  },
  {
   "cell_type": "markdown",
   "id": "eb42b994",
   "metadata": {},
   "source": [
    "### הגדרת מיקום הפלט\n"
   ]
  },
  {
   "cell_type": "code",
   "execution_count": 4,
   "id": "7297fded",
   "metadata": {},
   "outputs": [],
   "source": [
    "output_folder_location=get_output_folder_location(r'{}\\background_files\\output_folder_location.txt'.format(cwd))\n",
    "out_shp = r'{}\\education.shp'.format(output_folder_location)"
   ]
  },
  {
   "cell_type": "markdown",
   "id": "b64e8fe5",
   "metadata": {},
   "source": [
    "## העלאת טבלאות\n"
   ]
  },
  {
   "cell_type": "code",
   "execution_count": 5,
   "id": "a8389a74",
   "metadata": {
    "scrolled": true
   },
   "outputs": [],
   "source": [
    "#בתי ספר וגנים מעיריית בית שמש\n",
    "BShemesh=up_load_df(r'{}\\background_files\\betshemesh_muni\\חינוך'.format(cwd),'מצבת מוסדות חינוך תשפג משרדי')\n",
    "BShemesh = remove_spaces_in_columns(BShemesh)"
   ]
  },
  {
   "cell_type": "code",
   "execution_count": 6,
   "id": "b90485a9",
   "metadata": {},
   "outputs": [],
   "source": [
    "#בתי ספר וגנים מעיריית ירושלים\n",
    "JLM=up_load_df(r'{}\\background_files\\jerusalem_muni'.format(cwd),'מוסדות בירושלים 2020')\n",
    "JLM = remove_spaces_in_columns(JLM)"
   ]
  },
  {
   "cell_type": "code",
   "execution_count": 7,
   "id": "63beb076",
   "metadata": {
    "scrolled": true
   },
   "outputs": [],
   "source": [
    "#גנים ממשרד החינוך בכל הארץ\n",
    "GKgarden=up_load_df(r'{}\\background_files\\ministry_of_education\\מוסדות'.format(cwd),'kgarden_2023')\n",
    "GKgarden = remove_spaces_in_columns(GKgarden)"
   ]
  },
  {
   "cell_type": "code",
   "execution_count": 8,
   "id": "46ef4361",
   "metadata": {},
   "outputs": [],
   "source": [
    "#בתי ספר ממשרד החינוך בכל הארץ\n",
    "Gschool=up_load_df(r'{}\\background_files\\ministry_of_education\\מוסדות'.format(cwd),'schools_2023')\n",
    "Gschool = remove_spaces_in_columns(Gschool)"
   ]
  },
  {
   "cell_type": "code",
   "execution_count": 9,
   "id": "84add54d",
   "metadata": {},
   "outputs": [],
   "source": [
    "#יישובים בשטח צתאל שם וקוד יישוב\n",
    "JTMT_setls=up_load_df(r'{}\\background_files'.format(cwd),'210615_מקוצר_רשימת_יישובים_באחריות_צתאל')\n",
    "JTMT_setls = remove_spaces_in_columns(JTMT_setls)"
   ]
  },
  {
   "cell_type": "code",
   "execution_count": 10,
   "id": "cd0fd7c1",
   "metadata": {},
   "outputs": [],
   "source": [
    "#קאורדינטות של מוסדות חינוך בכל הארץ ממשרד החינוך\n",
    "GXY=up_load_df(r'{}\\background_files\\ministry_of_education\\מוסדות'.format(cwd),'moe_mosdot_coordinates_2022')\n",
    "GXY = remove_spaces_in_columns(GXY)"
   ]
  },
  {
   "cell_type": "code",
   "execution_count": 11,
   "id": "def0f9c7",
   "metadata": {},
   "outputs": [],
   "source": [
    "#מספרי מוסדות, כיתות, ותלמידים בכל רשות מתוך קובץ יישובים של למ\"ס\n",
    "CBS_setl=up_load_df(r'{}\\background_files\\cbs'.format(cwd),'CBS_EDU_yishuv_2021')\n",
    "CBS_setl = remove_spaces_in_columns(CBS_setl)"
   ]
  },
  {
   "cell_type": "markdown",
   "id": "bcf90bb6",
   "metadata": {},
   "source": [
    "### not in use yet\n"
   ]
  },
  {
   "cell_type": "code",
   "execution_count": 293,
   "id": "972463f8",
   "metadata": {},
   "outputs": [],
   "source": [
    "EastJlm = remove_spaces_in_columns(pd.read_excel(\n",
    "    r'\\\\file-srv\\Jtmt\\projections_team\\GIS_backround\\INFO\\מכון ירושלים\\מוסדות_חינוך_פרטיים_מזרח_העיר\\_חינוך_פרטי_2021.xlsx')).dropna(how='all')"
   ]
  },
  {
   "cell_type": "code",
   "execution_count": 294,
   "id": "425d7ea6",
   "metadata": {},
   "outputs": [],
   "source": [
    "dormsJLM = remove_spaces_in_columns(pd.read_excel(\n",
    "    r'\\\\file-srv\\Jtmt\\projections_team\\GIS_backround\\INFO\\עיריית ירושלים\\חינוך\\פנימיות מוכרות עיריית ירושלים.xlsx')).dropna(how='all')"
   ]
  },
  {
   "cell_type": "code",
   "execution_count": null,
   "id": "cbb8b01b",
   "metadata": {},
   "outputs": [],
   "source": []
  },
  {
   "cell_type": "markdown",
   "id": "c944c220",
   "metadata": {},
   "source": [
    "## שדות\n"
   ]
  },
  {
   "cell_type": "markdown",
   "id": "1ce491c9",
   "metadata": {},
   "source": [
    "ID\n",
    "address\n",
    "sector\n",
    "kgarden_stu\n",
    "ele_stu\n",
    "mid_stu\n",
    "high_stu\n",
    "kgarden_class\n",
    "ele_class\n",
    "mid_class\n",
    "high_class\n",
    "'x'\n",
    "'y'\n",
    "src\n"
   ]
  },
  {
   "cell_type": "markdown",
   "id": "47059b09",
   "metadata": {},
   "source": [
    "#### פונקציות\n"
   ]
  },
  {
   "cell_type": "code",
   "execution_count": 295,
   "id": "19216191",
   "metadata": {},
   "outputs": [],
   "source": [
    "def age_distribute(df):\n",
    "    #ages definition\n",
    "    ages = {'kgarden':[3, 4, 5],'ele':['א', 'ב', 'ג', 'ד','ה','ו'],'mid':['ז', 'ח', 'ט'], 'high':['י', 'יא', 'יב', 'יג', 'יד']}\n",
    "    ages_number ={'גן':1,'א': 1,'ב': 2,'ג': 3,'ד': 4,'ה': 5,'ו': 6,'ז': 7,\n",
    "        'ח': 8,'ט': 9,'יד': 12.5,'יג': 12.3,'יב': 12,'יא': 11,'י': 10}\n",
    "    for i in ages_number:\n",
    "        df.loc[df['bottom_age']==i,'b_age_num']=ages_number[i]\n",
    "        df.loc[df['top_age']==i,'t_age_num']=ages_number[i]\n",
    "\n",
    "    ##calculate new columns\n",
    "\n",
    "    #kgarden student\n",
    "    df.loc[df['top_age'].isin(ages['kgarden']),'kgarden_stu'] = df['students_total']\n",
    "    if not len(df.loc[df['bottom_age'].isin(ages['kgarden']) & ~df['top_age'].isin(ages['kgarden'])])==0:\n",
    "        print('need to write code for situation of kgarden and school in the same institution')\n",
    "\n",
    "    #high school fixing where it's 0. \n",
    "    #assumes that every age has equal number of student (exept of 13 and 14 class which 0.3 and 0.2 of the other classes)\n",
    "\n",
    "    #all ages are high school\n",
    "    df.loc[(df['b_age_num']>9) & (df['high_stu']==0),'high_stu'] =df['students_total'].round()\n",
    "\n",
    "    #ages are middle and high school and there is a middle school students\n",
    "    df.loc[(df['t_age_num']>9) &(df['b_age_num']>6) & (df['high_stu']==0)& (df['mid_stu']!=0),'high_stu'] =\\\n",
    "    (df['students_total']- df['mid_stu'])\n",
    "\n",
    "    #ages are elementary, middle and high school and there is a middle school ages\n",
    "    df.loc[(df['t_age_num']>9) &(df['b_age_num']<7) & (df['high_stu']==0)& (df['mid_stu']!=0),'high_stu'] =\\\n",
    "    ((df['students_total']- df['mid_stu'])*((df['t_age_num']-9)/(df['t_age_num']-df['b_age_num']-2))).round()\n",
    "\n",
    "    #ages are middle and high school or diverse all school ages\n",
    "    df.loc[(df['t_age_num']>9) &(df['b_age_num']<10) & (df['high_stu']==0)& (df['mid_stu']==0),'high_stu'] =\\\n",
    "    (df['students_total']*((df['t_age_num']-9)/(df['t_age_num']-df['b_age_num']+1))).round()\n",
    "\n",
    "\n",
    "\n",
    "    #middle school fix where it's 0. \n",
    "    #assumes that every age has equal number of student (exept of 13 and 14 class which 0.3 and 0.2 of the other classes)\n",
    "\n",
    "    #all ages are middle school\n",
    "    df.loc[(df['t_age_num']<10) & (df['b_age_num']>6) & (df['mid_stu']==0),'mid_stu'] =df['students_total'].round()\n",
    "\n",
    "    #ages are middle and high school\n",
    "    df.loc[(df['b_age_num']<10) &(df['b_age_num']>6) & (df['mid_stu']==0),'mid_stu'] =\\\n",
    "    (df['students_total']- df['high_stu'])\n",
    "\n",
    "    #ages are middle and elementary school\n",
    "    df.loc[(df['t_age_num']>6) &(df['t_age_num']<10) & (df['mid_stu']==0),'mid_stu'] =\\\n",
    "    df['students_total']*((df['t_age_num']-6)/(df['t_age_num']-df['b_age_num']+1)).round()\n",
    "\n",
    "    #diverse all school ages\n",
    "    df.loc[(df['t_age_num']>6) &(df['b_age_num']<7) & (df['mid_stu']==0),'mid_stu'] =\\\n",
    "    df['students_total']*(3/(df['t_age_num']-df['b_age_num']+1)).round()\n",
    "\n",
    "    #calculate elementary student\n",
    "    df.loc[(df['b_age_num']<7),'ele_stu']=df['students_total']-df['high_stu']-df['mid_stu'].round()\n",
    "\n",
    "    #checking student numbers\n",
    "    if len(df.loc[df['students_total']!=df['high_stu']+df['mid_stu']+df['ele_stu']+df['kgarden_stu']]):\n",
    "        warnings.warn(f\"Warning: there is a problem with age distribution. total studens is different fof sum of them\")\n",
    "\n",
    "    return df"
   ]
  },
  {
   "cell_type": "markdown",
   "id": "8f0d7dfc",
   "metadata": {},
   "source": [
    "#### עיריית בית שמש\n"
   ]
  },
  {
   "cell_type": "code",
   "execution_count": 296,
   "id": "f6bea733",
   "metadata": {},
   "outputs": [],
   "source": [
    "#change hebrew\n",
    "BShemesh.columns = ['sector', 'name', 'ID', 'neighbourhood', 'address', 'b2', 'a1',\n",
    "       'a5', 'a8', 'a7', 'a6', 'a4', 'a3',\n",
    "       'a9', 'a11', 'a10', 'Kgarden4', 'Kgarden5',\n",
    "       'SpeKgarden', 'Kgarden_total', '1_1', '1_2', '1_3', '1_4', '1_5', '1_', '2_1', '2_2', '2_3', '2_4', '2_', '3_1', '3_2', '3_3', '3_4', '3_', '4_1', '4_2', '4_3', '4_4', '4_', '5_1', '5_2', '5_3', '5_4', '5_', '6_1', '6_2', '6_3', '6_4', '6_', 'a20', '7_1', '7_2', '7_3', '7_4', '7_', '8_1', '8_2', '8_3', '8_4', '8_', '', '9_1', '9_2', '9_3', '9_', '10_1', '10_2', '10_3', '10_', '11_1', '11_2', '11_3', '11_', '12_1', '12_2', '12_3', '12_', 'a22', 'a21']\n",
    "\n",
    "#calculate columns\n",
    "#student number\n",
    "BShemesh['kgarden_stu'] = BShemesh['Kgarden_total'] \n",
    "BShemesh['ele_stu'] = BShemesh[['1_1', '1_2', '1_3', '1_4', '1_5',\n",
    "                            '2_1', '2_2', '2_3', '2_4',\n",
    "                            '3_1', '3_2', '3_3', '3_4',\n",
    "                            '4_1', '4_2', '4_3', '4_4',\n",
    "                            '5_1', '5_2', '5_3', '5_4',\n",
    "                            '6_1', '6_2', '6_3', '6_4',\n",
    "                            '1_', '2_', '3_', '4_','5_', '6_']].sum(axis=1)\n",
    "\n",
    "BShemesh['mid_stu'] = BShemesh[['6_1', '6_2', '6_3', '6_4',\n",
    "                            '7_1', '7_2', '7_3', '7_4',\n",
    "                            '8_1', '8_2', '8_3', '8_4',\n",
    "                            '9_1', '9_2', '9_3',\n",
    "                            '7_', '8_','9_']].sum(axis=1)\n",
    "BShemesh['high_stu'] = BShemesh[['10_1', '10_2', '10_3',\n",
    "                            '11_1', '11_2', '11_3',\n",
    "                            '12_1', '12_2', '12_3',\n",
    "                            '10_', '11_', '12_']].sum(axis=1)\n",
    "\n",
    "BShemesh['kgarden_class'] = BShemesh[['Kgarden4', 'Kgarden5']].count(axis=1)\n",
    "#classes\n",
    "BShemesh['ele_class'] = BShemesh[['1_1', '1_2', '1_3', '1_4', '1_5',\n",
    "                            '2_1', '2_2', '2_3', '2_4',\n",
    "                            '3_1', '3_2', '3_3', '3_4',\n",
    "                            '4_1', '4_2', '4_3', '4_4',\n",
    "                            '5_1', '5_2', '5_3', '5_4',\n",
    "                            '6_1', '6_2', '6_3', '6_4',\n",
    "                            '1_', '2_', '3_', '4_','5_', '6_']].count(axis=1)\n",
    "\n",
    "BShemesh['mid_class'] = BShemesh[['6_1', '6_2', '6_3', '6_4',\n",
    "                            '7_1', '7_2', '7_3', '7_4',\n",
    "                            '8_1', '8_2', '8_3', '8_4',\n",
    "                            '9_1', '9_2', '9_3',\n",
    "                            '7_', '8_','9_']].count(axis=1)\n",
    "BShemesh['high_class'] = BShemesh[['10_1', '10_2', '10_3',\n",
    "                            '11_1', '11_2', '11_3',\n",
    "                            '12_1', '12_2', '12_3',\n",
    "                            '10_', '11_', '12_']].count(axis=1)\n",
    "#sector\n",
    "BShemesh.loc[BShemesh['sector']=='חרדי','sector'] = 2\n",
    "BShemesh.loc[BShemesh['sector']=='ממ\"ח','sector'] = 2\n",
    "BShemesh.loc[BShemesh['sector']=='ממ\"ד','sector'] = 3\n",
    "BShemesh.loc[BShemesh['sector']=='מ\"מ','sector'] = 3\n",
    "BShemesh.loc[BShemesh['sector']=='עירוני','sector'] = 3\n",
    "\n",
    "#adding another columns\n",
    "BShemesh['settlement'] = 'בית שמש'\n",
    "BShemesh[['x', 'y']] = 0\n",
    "\n",
    "#src\n",
    "BShemesh['src'] = 'Beit Shemesh muni'\n",
    "\n",
    "#erase Irelevant columns\n",
    "BShemesh = BShemesh[['ID','name','sector','address','settlement','x', 'y','kgarden_stu','ele_stu','mid_stu','high_stu',\n",
    "                     'kgarden_class','ele_class','mid_class','high_class','src']]"
   ]
  },
  {
   "cell_type": "markdown",
   "id": "fef0642b",
   "metadata": {},
   "source": [
    "#### עיריית ירושלים\n"
   ]
  },
  {
   "cell_type": "code",
   "execution_count": 297,
   "id": "14953bb0",
   "metadata": {},
   "outputs": [],
   "source": [
    "#change hebrew\n",
    "JLM.columns = ['muni_ID', 'ID', 'name', 'sector', 'פיקוח', 'שלב_חינוך',\n",
    "       'is_speciel', 'מעמד_משפטי', 'bottom_age', 'top_age', 'classes_total',\n",
    "       'mid_stu', 'high_stu', 'students_total',\n",
    "       'קוד_אזור_סטיסטי', 'תאור_אזור_סטטיסטי', 'x', 'y',\n",
    "       'Unnamed:_18', 'Unnamed:_19'] \n",
    "\n",
    "#adding new columns\n",
    "JLM['settlement'] = 'ירושלים'\n",
    "JLM[['address','kgarden_stu','ele_stu','kgarden_class', 'ele_class', 'mid_class', 'high_class']] = 0\n",
    "JLM[['kgarden_stu','high_stu','mid_stu']] = JLM[['kgarden_stu','high_stu','mid_stu']].fillna(0)\n",
    "\n",
    "#calculate student number\n",
    "JLM = age_distribute(JLM)\n",
    "\n",
    "#classes by age\n",
    "JLM['stu_to_class'] = JLM['students_total']/JLM['classes_total']\n",
    "for age in ['kgarden','ele','mid','high']:\n",
    "    JLM[age+'_class'] = (JLM[age+'_stu'] / JLM['stu_to_class']).round()\n",
    "\n",
    "average_student_to_class_in_jlm = JLM['students_total'].sum()/JLM['classes_total'].sum()\n",
    "    \n",
    "#sector\n",
    "JLM.loc[JLM['sector']=='ערבי','sector'] = 1\n",
    "JLM.loc[JLM['sector']=='חרדי','sector'] = 2\n",
    "JLM.loc[JLM['sector']=='כללי','sector'] = 3\n",
    "\n",
    "#src\n",
    "JLM['src'] = 'Jerusalem muni'\n",
    "\n",
    "#erase Irelevant columns\n",
    "JLM = JLM[['ID','name','sector','address','settlement','x', 'y','kgarden_stu','ele_stu','mid_stu','high_stu',\n",
    "                     'kgarden_class','ele_class','mid_class','high_class','src']]"
   ]
  },
  {
   "cell_type": "markdown",
   "id": "4645313a",
   "metadata": {},
   "source": [
    "#### משרד החינוך\n"
   ]
  },
  {
   "cell_type": "code",
   "execution_count": 298,
   "id": "f7b7ce02",
   "metadata": {},
   "outputs": [],
   "source": [
    "#change hebrew\n",
    "GKgarden.columns = ['ID', 'name', 'settlement', 'address','a','phone','type','legal_status',\n",
    "       'supervision_type', 'sector', 'יחידת_דיווח', 'age', 'kgarden_stu']\n",
    "Gschool.columns = ['ID', 'name', 'settlement', 'address','כתובת חט\"ב', 'טלפון', 'דוא\"ל_מזכירות',\n",
    "       'סוג_חינוך', 'legal_status','supervision_type', 'sector', 'יחידת_דיווח', 'ages', 'students_total']\n",
    "\n",
    "#take only in JTMT settlements\n",
    "setls = list(JTMT_setls['שם_יישוב'])\n",
    "GKgarden = GKgarden.loc[GKgarden['settlement'].isin(setls)]\n",
    "\n",
    "Gschool = Gschool.loc[Gschool['settlement'].isin(setls)]\n",
    "\n",
    "#calculate columns\n",
    "GKgarden[['ele_stu','mid_stu','high_stu','ele_class','mid_class','high_class','x','y']] = 0\n",
    "GKgarden['kgarden_class'] = 1\n",
    "\n",
    "Gschool[['bottom_age', 'top_age']] = Gschool['ages'].str.split(' - ',  expand=True)\n",
    "Gschool['students_total'] = Gschool['students_total'].fillna(0)\n",
    "Gschool[['kgarden_stu','ele_stu','mid_stu','high_stu','kgarden_class','ele_class','mid_class','high_class','x','y']] = 0\n",
    "\n",
    "Gschool = age_distribute(Gschool)\n",
    "\n",
    "#classes\n",
    "#classes by age from the average in jerusalem\n",
    "for age in ['kgarden','ele','mid','high']:\n",
    "    Gschool[age+'_class'] = (Gschool[age+'_stu'] / average_student_to_class_in_jlm).apply(lambda x: math.ceil(x))\n",
    "\n",
    "#sector\n",
    "Gschool.loc[Gschool['sector']!='יהודי','sector'] = 1\n",
    "Gschool.loc[Gschool['sector']=='יהודי','sector'] = 3\n",
    "Gschool.loc[Gschool['supervision_type']=='חרדי','sector'] = 2\n",
    "\n",
    "GKgarden.loc[GKgarden['sector']!='יהודי','sector'] = 1\n",
    "GKgarden.loc[GKgarden['sector']=='יהודי','sector'] = 3\n",
    "GKgarden.loc[GKgarden['supervision_type']=='חרדי','sector'] = 2\n",
    "\n",
    "#src\n",
    "Gschool['src'] = 'education ministry'\n",
    "GKgarden['src'] = 'education ministry'\n",
    "\n",
    "#erase Irelevant columns\n",
    "Gschool = Gschool[['ID','name','sector','address','settlement','x', 'y','kgarden_stu','ele_stu','mid_stu','high_stu',\n",
    "                     'kgarden_class','ele_class','mid_class','high_class','src']]\n",
    "GKgarden = GKgarden[['ID','name','sector','address','settlement','x', 'y','kgarden_stu','ele_stu','mid_stu','high_stu',\n",
    "                     'kgarden_class','ele_class','mid_class','high_class','src']]"
   ]
  },
  {
   "cell_type": "markdown",
   "id": "d717c392",
   "metadata": {},
   "source": [
    "#### למס\n"
   ]
  },
  {
   "cell_type": "code",
   "execution_count": 299,
   "id": "4332ea9a",
   "metadata": {},
   "outputs": [],
   "source": [
    "CBS_setl.columns = ['set_ID', 'settlement',\n",
    "       'kgarden_stu',\n",
    "       'ילדים_בגנים_של_משרד_החינוך_גיל_3_תשפ\"א_2020/21',\n",
    "       'ילדים_בגנים_של_משרד_החינוך_גיל_4_תשפ\"א_2020/21',\n",
    "       'ילדים_בגנים_של_משרד_החינוך_גיל_5_תשפ\"א_2020/21',\n",
    "       'ילדים_בגנים_של_משרד_החינוך_גיל_6_תשפ\"א_2020/21',\n",
    "       'schools',\n",
    "       'ele_schools',\n",
    "       'בתי_ספר_על-יסודיים_תשפ\"א_2020/21',\n",
    "       'mid_school', 'high_school',\n",
    "       'כיתות_סה\"כ_תשפ\"א_2020/21', 'ele_class',\n",
    "       'כיתות_בבתי_ספר_על-יסודיים_תשפ\"א_2020/21',\n",
    "       'mid_class',\n",
    "       'high_class', 'תלמידים_סה\"כ_תשפ\"א_2020/21',\n",
    "       'ele_stu',\n",
    "       'תלמידים_בבתי_ספר_על-יסודיים_תשפ\"א_2020/21',\n",
    "       'mid_stu',\n",
    "       'high_stu',\n",
    "       'ממוצע_תלמידים_לכיתה_בבתי_ספר_יסודיים_תשפ\"א_2020/21',\n",
    "       'אחוז_תלמידים_נושרים_סה\"כ_תשפ\"א_2020/21',\n",
    "       'אחוז_תלמידים_נושרים_בנים_תשפ\"א_2020/21',\n",
    "       'אחוז_תלמידים_נושרים_בנות_תשפ\"א_2020/21',\n",
    "       'אחוז_זכאים_לתעודת_בגרות_מבין_תלמידי_כיתות_יב_תשפ\"א_2020/21',\n",
    "       'אחוז_זכאים_לתעודת_בגרות_שעמדו_בדרישות_הסף_של_האוניברסיטאות_מבין_תלמידי_כיתות_יב_תשפ\"א_2020/21',\n",
    "       'השכלה_גבוהה_אחוז_בעלי_תארים_מישראל_מתוך_אוכלוסיית_בני_55-35_תשפ\"ב_2021/22',\n",
    "       'השכלה_גבוהה_אחוז_הנכנסים_להשכלה_גבוהה_בתוך_8_שנים_בקרב_תלמידי_יב_תשפ\"ב_2021/22',\n",
    "       'השכלה_גבוהה_אחוז_סטודנטים_מתוך_אוכלוסיית_בני_25-20_תשפ\"ב_2021/22',\n",
    "       'השכלה_גבוהה_אחוז_סטודנטים_מתוך_כלל_האוכלוסייה_תשפ\"ב_2021/22',\n",
    "       'עובדי_הוראה_מספר_עובדי_הוראה', 'עובדי_הוראה_ממוצע_שעות_עבודה_לשבוע',\n",
    "       'עובדי_הוראה_אחוז_עובדי_הוראה_חדשים',\n",
    "       'עובדי_הוראה_אחוז_שעות_היעדרות_מסך_שעות_עבודה_שנתיות',\n",
    "       'עובדי_הוראה_ממוצע_שנות_ותק_מוכרות_בהוראה',\n",
    "       'עובדי_הוראה_אחוז_בעלי_דרגת_שכר_תואר_שני_ומעלה',\n",
    "       'עובדי_הוראה_אחוז_עובדי_הוראה_משתלמים_מכלל_עובדי_הוראה',\n",
    "       'teacher_by_stu',\n",
    "       'עובדי_הוראה_ממוצע_שעות_עבודה_שבועיות_לתלמיד']\n",
    "\n",
    "CBS_setl = CBS_setl[['set_ID', 'settlement',\n",
    "       'kgarden_stu',\n",
    "       'schools',\n",
    "       'ele_class',\n",
    "       'mid_class',\n",
    "       'high_class', \n",
    "       'ele_stu',\n",
    "       'mid_stu',\n",
    "       'high_stu']]\n",
    "\n",
    "CBS_setl.replace('-', 0.001, inplace=True)"
   ]
  },
  {
   "cell_type": "markdown",
   "id": "4219b9d3",
   "metadata": {},
   "source": [
    "## טבלת מוסדות אחודה- ID, src\n"
   ]
  },
  {
   "cell_type": "code",
   "execution_count": 300,
   "id": "000b9da3",
   "metadata": {
    "scrolled": true
   },
   "outputs": [],
   "source": [
    "rows = pd.concat([BShemesh,Gschool,GKgarden,JLM]) #JLM is 2020, the others are 2023"
   ]
  },
  {
   "cell_type": "code",
   "execution_count": 301,
   "id": "d0e00935",
   "metadata": {},
   "outputs": [],
   "source": [
    "inst = rows.groupby('ID').agg('first').reset_index()"
   ]
  },
  {
   "cell_type": "markdown",
   "id": "74d95a0b",
   "metadata": {},
   "source": [
    "## מיקום\n"
   ]
  },
  {
   "cell_type": "markdown",
   "id": "4bcf0f2f",
   "metadata": {},
   "source": [
    "#### datagov from education ministry\n"
   ]
  },
  {
   "cell_type": "code",
   "execution_count": 302,
   "id": "8750747e",
   "metadata": {},
   "outputs": [],
   "source": [
    "inst_xy = inst.merge(GXY[['SEMEL_MOSAD','ITM_X', 'ITM_Y']],how='left',left_on = 'ID', right_on='SEMEL_MOSAD')\n",
    "\n",
    "inst_xy.loc[inst_xy['ITM_X'].notna(),'x'] = inst_xy['ITM_X']\n",
    "\n",
    "inst_xy.loc[inst_xy['ITM_Y'].notna(),'y'] = inst_xy['ITM_Y']\n",
    "\n",
    "inst = inst_xy[['ID','name','sector','address','settlement','x', 'y','kgarden_stu','ele_stu','mid_stu','high_stu',\n",
    "                     'kgarden_class','ele_class','mid_class','high_class','src']]"
   ]
  },
  {
   "cell_type": "markdown",
   "id": "8909f2d0",
   "metadata": {},
   "source": [
    "#### OSM geocoding\n"
   ]
  },
  {
   "cell_type": "code",
   "execution_count": 31,
   "id": "52d97878",
   "metadata": {},
   "outputs": [],
   "source": [
    "def OSMgeocoding(df):\n",
    "    geolocator = Nominatim(user_agent=\"my_geocoder\")\n",
    "    itm = pyproj.Proj(init='epsg:2039')\n",
    "    for i in df['ID']:\n",
    "        location = geolocator.geocode(str(df.loc[df['ID'] == i]['f_address'])[4:-31])\n",
    "        if location:\n",
    "            x, y = pyproj.transform(pyproj.Proj(init='epsg:4326'), itm, location.longitude, location.latitude) #to ITM\n",
    "            df.loc[df['ID']==i,'x_osm'] = x\n",
    "            df.loc[df['ID']==i,'y_osm'] = y\n",
    "    return df.loc[df['x_osm'].notna()]"
   ]
  },
  {
   "cell_type": "code",
   "execution_count": null,
   "id": "441868c1",
   "metadata": {},
   "outputs": [],
   "source": [
    "no_xy = inst.loc[(inst['x']==0) | (inst['x'].isna())][['ID','address','settlement']]\n",
    "# full address\n",
    "no_xy['f_address'] = no_xy['address'].astype(str).str.cat(no_xy['settlement'], sep=', ').apply(lambda x: f\"{x}, ישראל\")\n",
    "\n",
    "#search on OSM\n",
    "if input('take a lot of time, enter y for do it!\\n')=='y':\n",
    "    inst_xy_osm = OSMgeocoding(no_xy)"
   ]
  },
  {
   "cell_type": "code",
   "execution_count": 305,
   "id": "bd63ba01",
   "metadata": {},
   "outputs": [],
   "source": [
    "#merge to main inst dataframe\n",
    "inst_xy = inst.merge(inst_xy_osm[['ID','x_osm','y_osm']],how='left',on = 'ID')\n",
    "inst_xy.loc[(inst['x']==0)| (inst['x'].isna()),'x'] = inst_xy['x_osm']\n",
    "inst_xy.loc[(inst['y']==0)| (inst['y'].isna()),'y'] = inst_xy['y_osm']\n",
    "inst = inst_xy[['ID','name','sector','address','settlement','x', 'y','kgarden_stu','ele_stu','mid_stu','high_stu',\n",
    "                     'kgarden_class','ele_class','mid_class','high_class','src']]"
   ]
  },
  {
   "cell_type": "markdown",
   "id": "2ce187fc",
   "metadata": {},
   "source": [
    "~בית שמש- עירייה בעזרת סקריפט גאוקודינג- 89\n",
    "~- 298 גוגל בעזרת כלים אוטומטיים\n",
    "יצירת רשימת מוסדות ללא מיקום\n"
   ]
  },
  {
   "cell_type": "markdown",
   "id": "f750ee6f",
   "metadata": {},
   "source": [
    "### יצירת GDF\n"
   ]
  },
  {
   "cell_type": "code",
   "execution_count": 306,
   "id": "b949e07f",
   "metadata": {},
   "outputs": [],
   "source": [
    "geometry = [Point(xy) for xy in zip(inst['x'], inst['y'])]"
   ]
  },
  {
   "cell_type": "code",
   "execution_count": 307,
   "id": "7cfdc4f8",
   "metadata": {
    "scrolled": true
   },
   "outputs": [],
   "source": [
    "inst = gpd.GeoDataFrame(inst, geometry=geometry,crs='EPSG:2039')"
   ]
  },
  {
   "cell_type": "markdown",
   "id": "8566e3e4",
   "metadata": {},
   "source": [
    "## בקרה\n"
   ]
  },
  {
   "cell_type": "markdown",
   "id": "a04f0b21",
   "metadata": {},
   "source": [
    "### פונקציות\n"
   ]
  },
  {
   "cell_type": "code",
   "execution_count": 257,
   "id": "a62635be",
   "metadata": {},
   "outputs": [],
   "source": [
    "def compare_rows(df1, df2, ID_field, cmp_fields, threshold=0.2):\n",
    "    ratio_fields = [f+'_ratio' for f in cmp_fields]\n",
    "    \n",
    "    # Merge the two DataFrames on a common index or key\n",
    "    merged_df = pd.merge(df1, df2, on=ID_field, how='inner', suffixes=('_1', '_2'))\n",
    "    merged_df['isdifferent'] = False\n",
    "    #calculate ratio to a new column\n",
    "    for c in cmp_fields:\n",
    "        merged_df[c+'_ratio'] = merged_df[c+'_1'] / merged_df[c+'_2']\n",
    "        merged_df.loc[abs(merged_df[c+'_ratio']-1) > threshold,'isdifferent'] = True\n",
    "    \n",
    "    return merged_df.loc[merged_df['isdifferent']]"
   ]
  },
  {
   "cell_type": "markdown",
   "id": "7b1ab270",
   "metadata": {
    "heading_collapsed": true
   },
   "source": [
    "### השוואה ברמת מוסד\n"
   ]
  },
  {
   "cell_type": "markdown",
   "id": "eac169cd",
   "metadata": {
    "heading_collapsed": true,
    "hidden": true
   },
   "source": [
    "#### בית שמש - משרד החינוך\n"
   ]
  },
  {
   "cell_type": "code",
   "execution_count": null,
   "id": "8966c3dc",
   "metadata": {
    "hidden": true
   },
   "outputs": [],
   "source": [
    "#fields to compare\n",
    "cmp_setl = ['kgarden_stu',\n",
    "       'ele_class','mid_class','high_class', \n",
    "       'ele_stu','mid_stu','high_stu']\n",
    "#how much different\n",
    "threshold = 0.3\n",
    "dif = compare_rows(BShemesh, GKgarden,'ID',cmp_setl, threshold=threshold)\n",
    "len(dif)"
   ]
  },
  {
   "cell_type": "code",
   "execution_count": null,
   "id": "63322185",
   "metadata": {
    "hidden": true
   },
   "outputs": [],
   "source": [
    "#fields to compare\n",
    "cmp_setl = ['kgarden_stu',\n",
    "       'ele_class','mid_class','high_class', \n",
    "       'ele_stu','mid_stu','high_stu']\n",
    "#how much different\n",
    "threshold = 0.\n",
    "dif = compare_rows(BShemesh, GKgarden,'ID',cmp_setl, threshold=threshold)\n",
    "len(dif)"
   ]
  },
  {
   "cell_type": "code",
   "execution_count": null,
   "id": "b34d3940",
   "metadata": {
    "hidden": true
   },
   "outputs": [],
   "source": [
    "#fields to compare\n",
    "cmp_setl = ['kgarden_stu',\n",
    "       'ele_class','mid_class','high_class', \n",
    "       'ele_stu','mid_stu','high_stu']\n",
    "#how much different\n",
    "threshold = 0.3\n",
    "dif = compare_rows(BShemesh, Gschool,'ID',cmp_setl, threshold=threshold)\n",
    "len(dif)"
   ]
  },
  {
   "cell_type": "code",
   "execution_count": null,
   "id": "0bf33adf",
   "metadata": {
    "hidden": true
   },
   "outputs": [],
   "source": [
    "#fields to compare\n",
    "cmp_setl = ['kgarden_stu',\n",
    "       'ele_class','mid_class','high_class', \n",
    "       'ele_stu','mid_stu','high_stu']\n",
    "#how much different\n",
    "threshold = 0\n",
    "dif = compare_rows(BShemesh, GKgarden,'ID',cmp_setl, threshold=threshold)\n",
    "len(dif)"
   ]
  },
  {
   "cell_type": "markdown",
   "id": "b1ff5f7b",
   "metadata": {
    "heading_collapsed": true,
    "hidden": true
   },
   "source": [
    "#### ירושלים- משרד החינוך\n"
   ]
  },
  {
   "cell_type": "code",
   "execution_count": null,
   "id": "30f148d0",
   "metadata": {
    "hidden": true
   },
   "outputs": [],
   "source": [
    "#fields to compare\n",
    "cmp_setl = ['kgarden_stu',\n",
    "       'ele_class','mid_class','high_class', \n",
    "       'ele_stu','mid_stu','high_stu']\n",
    "#how much different\n",
    "threshold = 0.3\n",
    "dif = compare_rows(JLM, GKgarden,'ID',cmp_setl, threshold=threshold)\n",
    "len(dif)"
   ]
  },
  {
   "cell_type": "code",
   "execution_count": null,
   "id": "1bb73ff4",
   "metadata": {
    "hidden": true
   },
   "outputs": [],
   "source": [
    "#fields to compare\n",
    "cmp_setl = ['kgarden_stu',\n",
    "       'ele_class','mid_class','high_class', \n",
    "       'ele_stu','mid_stu','high_stu']\n",
    "#how much different\n",
    "threshold = 0\n",
    "dif = compare_rows(JLM, GKgarden,'ID',cmp_setl, threshold=threshold)\n",
    "len(dif)"
   ]
  },
  {
   "cell_type": "code",
   "execution_count": null,
   "id": "7beb6c99",
   "metadata": {
    "hidden": true
   },
   "outputs": [],
   "source": [
    "#fields to compare\n",
    "cmp_setl = ['kgarden_stu',\n",
    "       'ele_class','mid_class','high_class', \n",
    "       'ele_stu','mid_stu','high_stu']\n",
    "#how much different\n",
    "threshold = 0.3\n",
    "dif = compare_rows(JLM, Gschool,'ID',cmp_setl, threshold=threshold)\n",
    "len(dif)"
   ]
  },
  {
   "cell_type": "code",
   "execution_count": null,
   "id": "edb1ac93",
   "metadata": {
    "hidden": true
   },
   "outputs": [],
   "source": [
    "#fields to compare\n",
    "cmp_setl = ['kgarden_stu',\n",
    "       'ele_class','mid_class','high_class', \n",
    "       'ele_stu','mid_stu','high_stu']\n",
    "#how much different\n",
    "threshold = 0\n",
    "dif = compare_rows(JLM, Gschool,'ID',cmp_setl, threshold=threshold)\n",
    "len(dif)"
   ]
  },
  {
   "cell_type": "markdown",
   "id": "8f98db5b",
   "metadata": {},
   "source": [
    "### השוואה ברמת יישוב אל מול נתוני למס\n"
   ]
  },
  {
   "cell_type": "code",
   "execution_count": null,
   "id": "e197e292",
   "metadata": {},
   "outputs": [],
   "source": [
    "#sum by settiemnt\n",
    "settlement = inst.groupby('settlement').agg({'ID':'count', 'kgarden_stu':'sum', 'ele_stu':'sum', 'mid_stu':'sum',\n",
    "                                'high_stu':'sum', 'kgarden_class':'sum', 'ele_class':'sum',\n",
    "                                'mid_class':'sum', 'high_class':'sum'}).reset_index()\n",
    "settlement['schools'] = settlement['ID'] - settlement['kgarden_class']\n",
    "settlement.replace(0, 0.001, inplace=True)\n",
    "\n",
    "#fields to compare\n",
    "cmp_setl = ['kgarden_stu','schools', #<inst_count> - <kgarden_class> \n",
    "       'ele_class','mid_class','high_class', \n",
    "       'ele_stu','mid_stu','high_stu']\n",
    "#how much different\n",
    "threshold = 0.3\n",
    "\n",
    "different_settlements = compare_rows(settlement, CBS_setl,'settlement',cmp_setl, threshold=threshold)\n",
    "\n",
    "different_settlements"
   ]
  },
  {
   "cell_type": "markdown",
   "id": "e86716f0",
   "metadata": {},
   "source": [
    "בקרה על מספר המוסדות - שלא איבדנו מוסד.\n",
    "בקרה על מספר התלמידים והכיתות הכולל\n",
    "\n",
    "~סימון בתי ספר עם הפרשים גדולים בין המקורות\n"
   ]
  },
  {
   "cell_type": "markdown",
   "id": "76913a57",
   "metadata": {},
   "source": [
    "## ייצוא\n"
   ]
  },
  {
   "cell_type": "code",
   "execution_count": null,
   "id": "d05dc974",
   "metadata": {
    "scrolled": false
   },
   "outputs": [],
   "source": [
    "inst.to_file(out_shp,encoding='utf-8')"
   ]
  },
  {
   "cell_type": "code",
   "execution_count": null,
   "id": "f31ee936",
   "metadata": {},
   "outputs": [],
   "source": []
  }
 ],
 "metadata": {
  "kernelspec": {
   "display_name": "creat_forecast_ad_hoc_env",
   "language": "python",
   "name": "python3"
  },
  "language_info": {
   "codemirror_mode": {
    "name": "ipython",
    "version": 3
   },
   "file_extension": ".py",
   "mimetype": "text/x-python",
   "name": "python",
   "nbconvert_exporter": "python",
   "pygments_lexer": "ipython3",
   "version": "3.11.5"
  }
 },
 "nbformat": 4,
 "nbformat_minor": 5
}

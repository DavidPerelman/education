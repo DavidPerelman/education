{
 "cells": [
  {
   "cell_type": "markdown",
   "metadata": {},
   "source": [
    "### ספריות\n"
   ]
  },
  {
   "cell_type": "code",
   "execution_count": 1,
   "metadata": {},
   "outputs": [],
   "source": [
    "import pandas as pd\n",
    "import numpy as np\n",
    "import os\n",
    "import sys\n",
    "\n",
    "pd.set_option('display.max_rows', None)\n",
    "pd.set_option('display.max_columns', None)\n",
    "pd.set_option('display.float_format', lambda x: '%.2f' % x)"
   ]
  },
  {
   "cell_type": "code",
   "execution_count": 2,
   "metadata": {},
   "outputs": [],
   "source": [
    "cwd = os.getcwd()\n",
    "\n",
    "education_folder_path = os.path.dirname(cwd)\n",
    "\n",
    "sys.path.append(education_folder_path)"
   ]
  },
  {
   "cell_type": "markdown",
   "metadata": {},
   "source": [
    "### פונקציות גלובליות\n"
   ]
  },
  {
   "cell_type": "code",
   "execution_count": 3,
   "metadata": {},
   "outputs": [],
   "source": [
    "from global_functions import remove_spaces_in_columns, up_load_df, first_15_division, equal_distribution_students, split_to_layers"
   ]
  },
  {
   "cell_type": "markdown",
   "metadata": {},
   "source": [
    "### העלאת טבלאות\n"
   ]
  },
  {
   "cell_type": "code",
   "execution_count": null,
   "metadata": {},
   "outputs": [],
   "source": [
    "# בתי ספר ממשרד החינוך בכל הארץ\n",
    "Gschool=up_load_df(r'{}\\background_files\\ministry_of_education\\מוסדות'.format(education_folder_path),'schools_2023')\n",
    "Gschool = remove_spaces_in_columns(Gschool)\n",
    "Gschool['מספר_תלמידים'] = Gschool['מספר_תלמידים'].fillna(0)"
   ]
  },
  {
   "cell_type": "code",
   "execution_count": null,
   "metadata": {},
   "outputs": [],
   "source": [
    "# יישובים בשטח צתאל שם וקוד יישוב\n",
    "JTMT_setls=up_load_df(r'{}\\background_files'.format(education_folder_path),'210615_מקוצר_רשימת_יישובים_באחריות_צתאל')\n",
    "JTMT_setls = remove_spaces_in_columns(JTMT_setls)"
   ]
  },
  {
   "cell_type": "markdown",
   "metadata": {},
   "source": [
    "### עיבוד\n"
   ]
  },
  {
   "cell_type": "code",
   "execution_count": 6,
   "metadata": {},
   "outputs": [],
   "source": [
    "# סינון ליישובים שנמצאים בשטח צתאל\n",
    "Gschool=Gschool[Gschool['יישוב'].isin(JTMT_setls['שם_יישוב'])]"
   ]
  },
  {
   "cell_type": "code",
   "execution_count": 7,
   "metadata": {},
   "outputs": [],
   "source": [
    "# הורדה של מוסדות בירושלים ובית שמש\n",
    "Gschool=Gschool[Gschool['יישוב'] != 'ירושלים']\n",
    "Gschool=Gschool[Gschool['יישוב'] != 'בית שמש']"
   ]
  },
  {
   "cell_type": "code",
   "execution_count": null,
   "metadata": {},
   "outputs": [],
   "source": [
    "# קאורדינטות של מוסדות חינוך במרחב ירושלים\n",
    "JTMT_setls_schools_coordinates_with_src=up_load_df(r'{}\\background_files'.format(education_folder_path),'JTMT_setls_schools_coordinates_with_src')\n",
    "JTMT_setls_schools_coordinates_with_src=remove_spaces_in_columns(JTMT_setls_schools_coordinates_with_src)"
   ]
  },
  {
   "cell_type": "code",
   "execution_count": 9,
   "metadata": {},
   "outputs": [],
   "source": [
    "# בדיקה אם יש מוסדות עם אותו סמל מוסד\n",
    "is_unique = JTMT_setls_schools_coordinates_with_src['סמל_מוסד'].is_unique"
   ]
  },
  {
   "cell_type": "code",
   "execution_count": 10,
   "metadata": {},
   "outputs": [],
   "source": [
    "# מיזוג הטבלאות לפי העמודה \"סמל_מוסד\"\n",
    "Gschool = pd.merge(Gschool, JTMT_setls_schools_coordinates_with_src[['סמל_מוסד', 'coordinate_x', 'coordinate_y', 'SRC']],\n",
    "                     on='סמל_מוסד', how='left')\n",
    "\n",
    "# עדכון העמודות המקוריות\n",
    "Gschool['coordinate_x'] = Gschool['coordinate_x'].fillna(0)\n",
    "Gschool['coordinate_y'] = Gschool['coordinate_y'].fillna(0)"
   ]
  },
  {
   "cell_type": "code",
   "execution_count": 11,
   "metadata": {},
   "outputs": [],
   "source": [
    "# מחיקת עמודות המיותרות\n",
    "Gschool=Gschool.drop(columns=['כתובת_חט\"ב', \"טלפון\", 'דוא\"ל_מזכירות', \"מעמד_משפטי\"])"
   ]
  },
  {
   "cell_type": "code",
   "execution_count": 12,
   "metadata": {},
   "outputs": [],
   "source": [
    "Gschool[['מכיתה', 'עד_כיתה']] = Gschool['שכבה'].str.split(' - ', expand=True)\n",
    "Gschool.rename(columns={'מספר_תלמידים': 'סה\"כ_תלמידים'}, inplace=True)"
   ]
  },
  {
   "cell_type": "code",
   "execution_count": 13,
   "metadata": {},
   "outputs": [],
   "source": [
    "# הגדרת רשימת הכיתות לטווח גן עד יד'\n",
    "class_map = ['גן' ,'א', 'ב', 'ג', 'ד', 'ה', 'ו', 'ז', 'ח', 'ט', 'י', 'יא', 'יב', 'יג', 'יד']\n",
    "\n",
    "# הגדרת עמודות לכיתות עם NaN כערך ברירת מחדל\n",
    "for single_class in class_map:\n",
    "    Gschool[f'כיתה_{single_class}'] = np.nan\n",
    "\n",
    "# פונקציה לחלוקה ראשונית של 15 תלמידים לכל כיתה בטווח\n",
    "Gschool = Gschool.apply(lambda row: first_15_division(class_map, row), axis=1)\n",
    "# Gschool = first_15_division(class_map, Gschool)"
   ]
  },
  {
   "cell_type": "code",
   "execution_count": null,
   "metadata": {},
   "outputs": [],
   "source": [
    "# פונקציה לחלוקת התלמידים הנותרים שווה בשווה\n",
    "Gschool = Gschool.apply(lambda row: equal_distribution_students(class_map, row), axis=1)\n",
    "# Gschool = Gschool.apply(equal_distribution_students(class_map, Gschool), axis=1)"
   ]
  },
  {
   "cell_type": "code",
   "execution_count": 18,
   "metadata": {},
   "outputs": [],
   "source": [
    "# הגדרת רשימת הכיתות לטווח גן עד יד'\n",
    "class_map = ['כיתה_גן', 'כיתה_א', 'כיתה_ב', 'כיתה_ג', 'כיתה_ד', 'כיתה_ה', 'כיתה_ו', 'כיתה_ז', 'כיתה_ח', 'כיתה_ט', 'כיתה_י', 'כיתה_יא', 'כיתה_יב', 'כיתה_יג', 'כיתה_יד']\n",
    "\n",
    "# בדיקה בכל כיתה אם מספר התלמידים קטן מ-15 ועדכון ל-0\n",
    "for single_class in class_map:\n",
    "    Gschool[single_class] = Gschool[single_class].apply(lambda x: x if pd.isna(x) or x >= 15 else 0)"
   ]
  },
  {
   "cell_type": "code",
   "execution_count": 19,
   "metadata": {},
   "outputs": [],
   "source": [
    "# חלוקה לשכבות גיל\n",
    "ages = {\n",
    "    'ele': ['כיתה_א', 'כיתה_ב', 'כיתה_ג', 'כיתה_ד', 'כיתה_ה', 'כיתה_ו'],\n",
    "    'mid': ['כיתה_ז', 'כיתה_ח', 'כיתה_ט'],\n",
    "    'high': ['כיתה_י', 'כיתה_יא', 'כיתה_יב', 'כיתה_יג', 'כיתה_יד']\n",
    "}\n",
    "\n",
    "# חישוב מספר התלמידים לכל שכבת גיל\n",
    "Gschool = split_to_layers(Gschool, ages)\n",
    "\n",
    "# חלוקה למגזרים\n",
    "def set_sector(row):\n",
    "    if row['מגזר'] == 'ערבי':\n",
    "        return 1\n",
    "    elif row['מגזר'] == 'יהודי':\n",
    "        if row['סוג_פיקוח'] == 'חרדי':\n",
    "            return 2\n",
    "        elif row['סוג_פיקוח'] in ['ממלכתי', 'ממלכתי דתי']:\n",
    "            return 3\n",
    "    return None\n",
    "\n",
    "Gschool['sector'] = Gschool.apply(set_sector, axis=1)\n",
    "\n",
    "# שינוי שם של העמודות\n",
    "Gschool.rename(columns={'סמל_מוסד': 'ID'}, inplace=True)\n",
    "Gschool.rename(columns={'coordinate_x': 'x'}, inplace=True)\n",
    "Gschool.rename(columns={'coordinate_y': 'y'}, inplace=True)\n",
    "\n",
    "Gschool = Gschool.drop(['כיתה_גן', 'יישוב', 'כתובת', 'סוג_פיקוח', 'מגזר', 'יחידת_דיווח', 'שכבה', 'כיתה_א', 'כיתה_ב', 'כיתה_ג', 'כיתה_ד', 'כיתה_ה', 'כיתה_ו', 'כיתה_ז', 'כיתה_ח', 'כיתה_ט', 'כיתה_י', 'כיתה_יא', 'כיתה_יב', 'כיתה_יג', 'כיתה_יד', 'סה\"כ_תלמידים', 'מכיתה', 'עד_כיתה', 'שם_מוסד', 'סוג_חינוך'], axis=1)"
   ]
  },
  {
   "cell_type": "markdown",
   "metadata": {},
   "source": [
    "### ייצוא\n"
   ]
  },
  {
   "cell_type": "code",
   "execution_count": 20,
   "metadata": {},
   "outputs": [],
   "source": [
    "Gschool.to_excel(r'{}\\Intermediates\\Gschool_final.xlsx'.format(cwd), index=False)"
   ]
  }
 ],
 "metadata": {
  "kernelspec": {
   "display_name": "creat_forecast_ad_hoc_env",
   "language": "python",
   "name": "python3"
  },
  "language_info": {
   "codemirror_mode": {
    "name": "ipython",
    "version": 3
   },
   "file_extension": ".py",
   "mimetype": "text/x-python",
   "name": "python",
   "nbconvert_exporter": "python",
   "pygments_lexer": "ipython3",
   "version": "3.11.5"
  }
 },
 "nbformat": 4,
 "nbformat_minor": 2
}

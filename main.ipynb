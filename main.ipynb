{
 "cells": [
  {
   "cell_type": "markdown",
   "metadata": {},
   "source": [
    "### ספריות\n"
   ]
  },
  {
   "cell_type": "code",
   "execution_count": 1,
   "metadata": {},
   "outputs": [],
   "source": [
    "import pandas as pd\n",
    "import geopandas as gpd\n",
    "import numpy as np\n",
    "from shapely.geometry import Point\n",
    "import os\n",
    "import sys\n",
    "import math\n",
    "import warnings\n",
    "from geopy.geocoders import Nominatim\n",
    "import pyproj\n",
    "\n",
    "pd.set_option('display.max_rows', None)\n",
    "pd.set_option('display.max_columns', None)\n",
    "pd.set_option('display.float_format', lambda x: '%.2f' % x)"
   ]
  },
  {
   "cell_type": "markdown",
   "metadata": {},
   "source": [
    "### העלת משתנים להרצת הקוד\n"
   ]
  },
  {
   "cell_type": "code",
   "execution_count": null,
   "metadata": {},
   "outputs": [],
   "source": [
    "cwd = os.getcwd()\n",
    "\n",
    "education_folder_path = os.path.dirname(cwd)\n",
    "\n",
    "sys.path.append(education_folder_path)"
   ]
  },
  {
   "cell_type": "markdown",
   "metadata": {},
   "source": [
    "### פונקציות גלובליות\n"
   ]
  },
  {
   "cell_type": "code",
   "execution_count": null,
   "metadata": {},
   "outputs": [],
   "source": [
    "from global_functions import remove_spaces_in_columns, up_load_shp, up_load_df, drop_geo, change_cols_names, get_newest_date_file, get_output_folder_location"
   ]
  },
  {
   "cell_type": "markdown",
   "metadata": {},
   "source": [
    "### הגדרת מיקום הפלט\n"
   ]
  },
  {
   "cell_type": "code",
   "execution_count": null,
   "metadata": {},
   "outputs": [],
   "source": [
    "output_folder_location=get_output_folder_location(r'{}\\background_files\\output_folder_location.txt'.format(cwd))\n",
    "out_shp = r'{}\\education.shp'.format(output_folder_location)"
   ]
  },
  {
   "cell_type": "markdown",
   "metadata": {},
   "source": [
    "## העלאת טבלאות\n"
   ]
  },
  {
   "cell_type": "code",
   "execution_count": null,
   "metadata": {},
   "outputs": [],
   "source": [
    "#בתי ספר וגנים מעיריית בית שמש\n",
    "BShemesh=up_load_df(r'{}\\betshemesh_muni\\Intermediates'.format(cwd),'BShemesh_final')\n",
    "BShemesh = remove_spaces_in_columns(BShemesh)"
   ]
  },
  {
   "cell_type": "code",
   "execution_count": null,
   "metadata": {},
   "outputs": [],
   "source": [
    "#בתי ספר וגנים מעיריית ירושלים\n",
    "JLM=up_load_df(r'{}\\jerusalem_muni\\Intermediates'.format(cwd),'JLM_final')"
   ]
  },
  {
   "cell_type": "code",
   "execution_count": null,
   "metadata": {},
   "outputs": [],
   "source": [
    "#בתי ספר ממשרד החינוך במרחב\n",
    "Gschool=up_load_df(r'{}\\ministry_of_education\\Intermediates'.format(cwd),'Gschool_final')\n",
    "Gschool = remove_spaces_in_columns(Gschool)"
   ]
  }
 ],
 "metadata": {
  "kernelspec": {
   "display_name": "creat_forecast_ad_hoc_env",
   "language": "python",
   "name": "python3"
  },
  "language_info": {
   "codemirror_mode": {
    "name": "ipython",
    "version": 3
   },
   "file_extension": ".py",
   "mimetype": "text/x-python",
   "name": "python",
   "nbconvert_exporter": "python",
   "pygments_lexer": "ipython3",
   "version": "3.11.5"
  }
 },
 "nbformat": 4,
 "nbformat_minor": 2
}

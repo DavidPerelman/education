{
 "cells": [
  {
   "cell_type": "markdown",
   "metadata": {},
   "source": [
    "### ספריות\n"
   ]
  },
  {
   "cell_type": "code",
   "execution_count": null,
   "metadata": {},
   "outputs": [],
   "source": [
    "import pandas as pd\n",
    "import geopandas as gpd\n",
    "from shapely.geometry import Point\n",
    "import os\n",
    "\n",
    "pd.set_option('display.max_rows', None)\n",
    "pd.set_option('display.max_columns', None)\n",
    "pd.set_option('display.float_format', lambda x: '%.2f' % x)"
   ]
  },
  {
   "cell_type": "markdown",
   "metadata": {},
   "source": [
    "### העלת משתנים להרצת הקוד\n"
   ]
  },
  {
   "cell_type": "code",
   "execution_count": null,
   "metadata": {},
   "outputs": [],
   "source": [
    "cwd = os.getcwd()"
   ]
  },
  {
   "cell_type": "markdown",
   "metadata": {},
   "source": [
    "### פונקציות גלובליות\n"
   ]
  },
  {
   "cell_type": "code",
   "execution_count": 3,
   "metadata": {},
   "outputs": [],
   "source": [
    "from global_functions import up_load_df, get_output_folder_location"
   ]
  },
  {
   "cell_type": "markdown",
   "metadata": {},
   "source": [
    "### הגדרת מיקום הפלט\n"
   ]
  },
  {
   "cell_type": "code",
   "execution_count": null,
   "metadata": {},
   "outputs": [],
   "source": [
    "# תאריך\n",
    "file_date=pd.Timestamp.today().strftime('%y%m%d')"
   ]
  },
  {
   "cell_type": "code",
   "execution_count": null,
   "metadata": {},
   "outputs": [],
   "source": [
    "# מיקום תיקיית פלט\n",
    "output_folder_location=get_output_folder_location(r'{}\\background_files\\output_folder_location.txt'.format(cwd))\n",
    "# נתיב שכבת פלט\n",
    "out_shp = r'{}\\education_{}.shp'.format(output_folder_location, file_date)"
   ]
  },
  {
   "cell_type": "markdown",
   "metadata": {},
   "source": [
    "### יצירת נתוני מוסדות חינוך מעיריות ומשרד החינוך\n"
   ]
  },
  {
   "cell_type": "code",
   "execution_count": null,
   "metadata": {},
   "outputs": [],
   "source": [
    "# הרצת מחברות\n",
    "# עיריית ירושלים\n",
    "%run \"jerusalem_muni.ipynb\"\n",
    "# משרד החינוך\n",
    "%run \"ministry_of_education.ipynb\"\n",
    "# עיריית בית שמש\n",
    "%run \"betshemesh_muni.ipynb\""
   ]
  },
  {
   "cell_type": "markdown",
   "metadata": {},
   "source": [
    "### טעינת נתוני מוסדות חינוך מעיריות ומשרד החינוך\n"
   ]
  },
  {
   "cell_type": "code",
   "execution_count": null,
   "metadata": {},
   "outputs": [],
   "source": [
    "# בתי ספר וגנים מעיריית בית שמש\n",
    "BShemesh=up_load_df(r'{}\\Intermediates'.format(cwd),'BShemesh_final')"
   ]
  },
  {
   "cell_type": "code",
   "execution_count": null,
   "metadata": {},
   "outputs": [],
   "source": [
    "# בתי ספר וגנים מעיריית ירושלים\n",
    "JLM=up_load_df(r'{}\\Intermediates'.format(cwd),'JLM_final')"
   ]
  },
  {
   "cell_type": "code",
   "execution_count": null,
   "metadata": {},
   "outputs": [],
   "source": [
    "# בתי ספר ממשרד החינוך במרחב\n",
    "Gschool=up_load_df(r'{}\\Intermediates'.format(cwd),'Gschool_final')"
   ]
  },
  {
   "cell_type": "markdown",
   "metadata": {},
   "source": [
    "### חיבור הטבלאות\n"
   ]
  },
  {
   "cell_type": "code",
   "execution_count": 9,
   "metadata": {},
   "outputs": [],
   "source": [
    "education=pd.concat([BShemesh, JLM, Gschool], ignore_index=True)"
   ]
  },
  {
   "cell_type": "markdown",
   "metadata": {},
   "source": [
    "### יצירת שכבת חינוך\n"
   ]
  },
  {
   "cell_type": "code",
   "execution_count": null,
   "metadata": {},
   "outputs": [],
   "source": [
    "# יצירת שכבה גאומטרית\n",
    "geometry = [Point(xy) for xy in zip(education['x'], education['y'])]\n",
    "gdf = gpd.GeoDataFrame(education, geometry=geometry, crs='EPSG:2039')\n",
    "\n",
    "gdf.rename(columns={'SRC': 'coord_src'}, inplace=True)\n",
    "gdf = gdf.drop(['x', 'y'], axis=1)"
   ]
  },
  {
   "cell_type": "markdown",
   "metadata": {},
   "source": [
    "### מחיקת מוסדות בלי תלמידים\n"
   ]
  },
  {
   "cell_type": "code",
   "execution_count": null,
   "metadata": {},
   "outputs": [],
   "source": [
    "gdf = gdf[~((gdf['ele_stu'] == 0) & \n",
    "                                  (gdf['mid_stu'] == 0) & \n",
    "                                  (gdf['high_stu'] == 0))]\n",
    "\n",
    "education = education[~((education['ele_stu'] == 0) & \n",
    "                                  (education['mid_stu'] == 0) & \n",
    "                                  (education['high_stu'] == 0))]\n"
   ]
  },
  {
   "cell_type": "markdown",
   "metadata": {},
   "source": [
    "### ייצוא\n"
   ]
  },
  {
   "cell_type": "code",
   "execution_count": 12,
   "metadata": {},
   "outputs": [],
   "source": [
    "gdf.to_file(out_shp, driver=\"ESRI Shapefile\")\n",
    "education.to_excel(r'{}\\education_final_{}.xlsx'.format(output_folder_location, file_date), index=False)"
   ]
  }
 ],
 "metadata": {
  "kernelspec": {
   "display_name": "creat_forecast_ad_hoc_env",
   "language": "python",
   "name": "python3"
  },
  "language_info": {
   "codemirror_mode": {
    "name": "ipython",
    "version": 3
   },
   "file_extension": ".py",
   "mimetype": "text/x-python",
   "name": "python",
   "nbconvert_exporter": "python",
   "pygments_lexer": "ipython3",
   "version": "3.11.5"
  }
 },
 "nbformat": 4,
 "nbformat_minor": 2
}

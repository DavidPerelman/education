{
 "cells": [
  {
   "cell_type": "code",
   "execution_count": 1,
   "metadata": {},
   "outputs": [],
   "source": [
    "import pandas as pd\n",
    "import os\n",
    "import sys\n",
    "import requests\n",
    "\n",
    "pd.set_option('display.max_rows', None)\n",
    "pd.set_option('display.max_columns', None)\n",
    "pd.set_option('display.float_format', lambda x: '%.2f' % x)"
   ]
  },
  {
   "cell_type": "code",
   "execution_count": 2,
   "metadata": {},
   "outputs": [],
   "source": [
    "cwd = os.getcwd()\n",
    "\n",
    "education_folder_path = os.path.dirname(cwd)\n",
    "\n",
    "sys.path.append(education_folder_path)"
   ]
  },
  {
   "cell_type": "code",
   "execution_count": 3,
   "metadata": {},
   "outputs": [],
   "source": [
    "from global_functions import remove_spaces_in_columns, up_load_df"
   ]
  },
  {
   "cell_type": "code",
   "execution_count": 4,
   "metadata": {},
   "outputs": [
    {
     "data": {
      "text/html": [
       "<div>\n",
       "<style scoped>\n",
       "    .dataframe tbody tr th:only-of-type {\n",
       "        vertical-align: middle;\n",
       "    }\n",
       "\n",
       "    .dataframe tbody tr th {\n",
       "        vertical-align: top;\n",
       "    }\n",
       "\n",
       "    .dataframe thead th {\n",
       "        text-align: right;\n",
       "    }\n",
       "</style>\n",
       "<table border=\"1\" class=\"dataframe\">\n",
       "  <thead>\n",
       "    <tr style=\"text-align: right;\">\n",
       "      <th></th>\n",
       "      <th>סמל_מוסד</th>\n",
       "      <th>שם_מוסד</th>\n",
       "      <th>יישוב</th>\n",
       "      <th>כתובת</th>\n",
       "      <th>סוג_חינוך</th>\n",
       "      <th>סוג_פיקוח</th>\n",
       "      <th>מגזר</th>\n",
       "      <th>יחידת_דיווח</th>\n",
       "      <th>שכבה</th>\n",
       "      <th>מספר_תלמידים</th>\n",
       "      <th>coordinate_x</th>\n",
       "      <th>coordinate_y</th>\n",
       "    </tr>\n",
       "  </thead>\n",
       "  <tbody>\n",
       "    <tr>\n",
       "      <th>0</th>\n",
       "      <td>110023</td>\n",
       "      <td>בית יעקב מטרסדורף</td>\n",
       "      <td>ירושלים</td>\n",
       "      <td>זכרון יעקב 3</td>\n",
       "      <td>רגיל</td>\n",
       "      <td>חרדי</td>\n",
       "      <td>יהודי</td>\n",
       "      <td>רשת החינוך העצמאי</td>\n",
       "      <td>א - ח</td>\n",
       "      <td>782.00</td>\n",
       "      <td>219040.00</td>\n",
       "      <td>633692.00</td>\n",
       "    </tr>\n",
       "    <tr>\n",
       "      <th>1</th>\n",
       "      <td>110098</td>\n",
       "      <td>השחר</td>\n",
       "      <td>טל שחר</td>\n",
       "      <td>טל שחר</td>\n",
       "      <td>רגיל</td>\n",
       "      <td>ממלכתי</td>\n",
       "      <td>יהודי</td>\n",
       "      <td>ירושלים</td>\n",
       "      <td>א - ו</td>\n",
       "      <td>420.00</td>\n",
       "      <td>190867.00</td>\n",
       "      <td>634787.00</td>\n",
       "    </tr>\n",
       "    <tr>\n",
       "      <th>2</th>\n",
       "      <td>110130</td>\n",
       "      <td>סאלד</td>\n",
       "      <td>ירושלים</td>\n",
       "      <td>כט' בנובמבר 6</td>\n",
       "      <td>רגיל</td>\n",
       "      <td>ממלכתי</td>\n",
       "      <td>יהודי</td>\n",
       "      <td>מנח'י</td>\n",
       "      <td>א - ו</td>\n",
       "      <td>328.00</td>\n",
       "      <td>220523.00</td>\n",
       "      <td>630416.00</td>\n",
       "    </tr>\n",
       "    <tr>\n",
       "      <th>3</th>\n",
       "      <td>110155</td>\n",
       "      <td>בית הכרם</td>\n",
       "      <td>ירושלים</td>\n",
       "      <td>מעגל בית המדרש 8</td>\n",
       "      <td>רגיל</td>\n",
       "      <td>ממלכתי</td>\n",
       "      <td>יהודי</td>\n",
       "      <td>מנח'י</td>\n",
       "      <td>א - ו</td>\n",
       "      <td>376.00</td>\n",
       "      <td>218115.00</td>\n",
       "      <td>632094.00</td>\n",
       "    </tr>\n",
       "    <tr>\n",
       "      <th>4</th>\n",
       "      <td>110171</td>\n",
       "      <td>תל\"י גאולים ע\"ש יצחק נבון</td>\n",
       "      <td>ירושלים</td>\n",
       "      <td>קבוץ גלויות 4</td>\n",
       "      <td>רגיל</td>\n",
       "      <td>ממלכתי</td>\n",
       "      <td>יהודי</td>\n",
       "      <td>מנח'י</td>\n",
       "      <td>א - ו</td>\n",
       "      <td>306.00</td>\n",
       "      <td>220854.00</td>\n",
       "      <td>629272.00</td>\n",
       "    </tr>\n",
       "  </tbody>\n",
       "</table>\n",
       "</div>"
      ],
      "text/plain": [
       "   סמל_מוסד                    שם_מוסד    יישוב             כתובת סוג_חינוך  \\\n",
       "0    110023          בית יעקב מטרסדורף  ירושלים      זכרון יעקב 3      רגיל   \n",
       "1    110098                       השחר   טל שחר            טל שחר      רגיל   \n",
       "2    110130                       סאלד  ירושלים     כט' בנובמבר 6      רגיל   \n",
       "3    110155                   בית הכרם  ירושלים  מעגל בית המדרש 8      רגיל   \n",
       "4    110171  תל\"י גאולים ע\"ש יצחק נבון  ירושלים     קבוץ גלויות 4      רגיל   \n",
       "\n",
       "  סוג_פיקוח   מגזר        יחידת_דיווח   שכבה  מספר_תלמידים  coordinate_x  \\\n",
       "0      חרדי  יהודי  רשת החינוך העצמאי  א - ח        782.00     219040.00   \n",
       "1    ממלכתי  יהודי            ירושלים  א - ו        420.00     190867.00   \n",
       "2    ממלכתי  יהודי              מנח'י  א - ו        328.00     220523.00   \n",
       "3    ממלכתי  יהודי              מנח'י  א - ו        376.00     218115.00   \n",
       "4    ממלכתי  יהודי              מנח'י  א - ו        306.00     220854.00   \n",
       "\n",
       "   coordinate_y  \n",
       "0     633692.00  \n",
       "1     634787.00  \n",
       "2     630416.00  \n",
       "3     632094.00  \n",
       "4     629272.00  "
      ]
     },
     "execution_count": 4,
     "metadata": {},
     "output_type": "execute_result"
    }
   ],
   "source": [
    "JTMT_setls_schools_with_coordinates=up_load_df(r'{}'.format(cwd),'JTMT_setls_schools_with_coordinates')\n",
    "JTMT_setls_schools_with_coordinates.head()"
   ]
  },
  {
   "cell_type": "code",
   "execution_count": 5,
   "metadata": {},
   "outputs": [
    {
     "data": {
      "text/html": [
       "<div>\n",
       "<style scoped>\n",
       "    .dataframe tbody tr th:only-of-type {\n",
       "        vertical-align: middle;\n",
       "    }\n",
       "\n",
       "    .dataframe tbody tr th {\n",
       "        vertical-align: top;\n",
       "    }\n",
       "\n",
       "    .dataframe thead th {\n",
       "        text-align: right;\n",
       "    }\n",
       "</style>\n",
       "<table border=\"1\" class=\"dataframe\">\n",
       "  <thead>\n",
       "    <tr style=\"text-align: right;\">\n",
       "      <th></th>\n",
       "      <th>סמל_מוסד</th>\n",
       "      <th>שם_מוסד</th>\n",
       "      <th>יישוב</th>\n",
       "      <th>כתובת</th>\n",
       "      <th>סוג_חינוך</th>\n",
       "      <th>סוג_פיקוח</th>\n",
       "      <th>מגזר</th>\n",
       "      <th>יחידת_דיווח</th>\n",
       "      <th>שכבה</th>\n",
       "      <th>מספר_תלמידים</th>\n",
       "      <th>coordinate_x</th>\n",
       "      <th>coordinate_y</th>\n",
       "    </tr>\n",
       "  </thead>\n",
       "  <tbody>\n",
       "    <tr>\n",
       "      <th>0</th>\n",
       "      <td>359836</td>\n",
       "      <td>איליאא</td>\n",
       "      <td>ירושלים</td>\n",
       "      <td>חי זע'ייר 21</td>\n",
       "      <td>רגיל</td>\n",
       "      <td>ממלכתי</td>\n",
       "      <td>ערבי</td>\n",
       "      <td>מנח'י</td>\n",
       "      <td>א - ו</td>\n",
       "      <td>NaN</td>\n",
       "      <td>220820</td>\n",
       "      <td>642486</td>\n",
       "    </tr>\n",
       "    <tr>\n",
       "      <th>1</th>\n",
       "      <td>632323</td>\n",
       "      <td>תורת חיים ביתר</td>\n",
       "      <td>ביתר עילית</td>\n",
       "      <td>הרב בנדר 10</td>\n",
       "      <td>רגיל</td>\n",
       "      <td>חרדי</td>\n",
       "      <td>יהודי</td>\n",
       "      <td>מעיין החינוך התורני</td>\n",
       "      <td>א - ד</td>\n",
       "      <td>80.00</td>\n",
       "      <td>211310</td>\n",
       "      <td>623292</td>\n",
       "    </tr>\n",
       "    <tr>\n",
       "      <th>2</th>\n",
       "      <td>637231</td>\n",
       "      <td>בית ספר חב\"ד יצהר</td>\n",
       "      <td>יצהר</td>\n",
       "      <td>יצהר 770</td>\n",
       "      <td>רגיל</td>\n",
       "      <td>חרדי</td>\n",
       "      <td>יהודי</td>\n",
       "      <td>מוכרים</td>\n",
       "      <td>א - ו</td>\n",
       "      <td>NaN</td>\n",
       "      <td>222401</td>\n",
       "      <td>675053</td>\n",
       "    </tr>\n",
       "    <tr>\n",
       "      <th>3</th>\n",
       "      <td>645986</td>\n",
       "      <td>בית הספר האמריקאי יר</td>\n",
       "      <td>ירושלים</td>\n",
       "      <td>שד ש\"י עגנון 24</td>\n",
       "      <td>רגיל</td>\n",
       "      <td>ממלכתי</td>\n",
       "      <td>ערבי</td>\n",
       "      <td>מוכרים-לא חרדי</td>\n",
       "      <td>א - ז</td>\n",
       "      <td>70.00</td>\n",
       "      <td>219320</td>\n",
       "      <td>629530</td>\n",
       "    </tr>\n",
       "    <tr>\n",
       "      <th>4</th>\n",
       "      <td>655233</td>\n",
       "      <td>שירת ציון</td>\n",
       "      <td>כוכב יעקב</td>\n",
       "      <td>אהבת ישראל 57</td>\n",
       "      <td>רגיל</td>\n",
       "      <td>חרדי</td>\n",
       "      <td>יהודי</td>\n",
       "      <td>מוכרים</td>\n",
       "      <td>ט - י</td>\n",
       "      <td>28.00</td>\n",
       "      <td>222637</td>\n",
       "      <td>643097</td>\n",
       "    </tr>\n",
       "  </tbody>\n",
       "</table>\n",
       "</div>"
      ],
      "text/plain": [
       "   סמל_מוסד               שם_מוסד       יישוב            כתובת סוג_חינוך  \\\n",
       "0    359836                איליאא     ירושלים     חי זע'ייר 21      רגיל   \n",
       "1    632323        תורת חיים ביתר  ביתר עילית      הרב בנדר 10      רגיל   \n",
       "2    637231     בית ספר חב\"ד יצהר        יצהר         יצהר 770      רגיל   \n",
       "3    645986  בית הספר האמריקאי יר     ירושלים  שד ש\"י עגנון 24      רגיל   \n",
       "4    655233             שירת ציון   כוכב יעקב    אהבת ישראל 57      רגיל   \n",
       "\n",
       "  סוג_פיקוח   מגזר          יחידת_דיווח   שכבה  מספר_תלמידים  coordinate_x  \\\n",
       "0    ממלכתי   ערבי                מנח'י  א - ו           NaN        220820   \n",
       "1      חרדי  יהודי  מעיין החינוך התורני  א - ד         80.00        211310   \n",
       "2      חרדי  יהודי               מוכרים  א - ו           NaN        222401   \n",
       "3    ממלכתי   ערבי       מוכרים-לא חרדי  א - ז         70.00        219320   \n",
       "4      חרדי  יהודי               מוכרים  ט - י         28.00        222637   \n",
       "\n",
       "   coordinate_y  \n",
       "0        642486  \n",
       "1        623292  \n",
       "2        675053  \n",
       "3        629530  \n",
       "4        643097  "
      ]
     },
     "execution_count": 5,
     "metadata": {},
     "output_type": "execute_result"
    }
   ],
   "source": [
    "JTMT_setls_schools_without_coordinates=up_load_df(r'{}'.format(cwd),'JTMT_setls_schools_without_coordinates')\n",
    "JTMT_setls_schools_without_coordinates.head()"
   ]
  },
  {
   "cell_type": "code",
   "execution_count": 6,
   "metadata": {},
   "outputs": [
    {
     "data": {
      "text/html": [
       "<div>\n",
       "<style scoped>\n",
       "    .dataframe tbody tr th:only-of-type {\n",
       "        vertical-align: middle;\n",
       "    }\n",
       "\n",
       "    .dataframe tbody tr th {\n",
       "        vertical-align: top;\n",
       "    }\n",
       "\n",
       "    .dataframe thead th {\n",
       "        text-align: right;\n",
       "    }\n",
       "</style>\n",
       "<table border=\"1\" class=\"dataframe\">\n",
       "  <thead>\n",
       "    <tr style=\"text-align: right;\">\n",
       "      <th></th>\n",
       "      <th>סמל_מוסד</th>\n",
       "      <th>coordinate_x</th>\n",
       "      <th>coordinate_y</th>\n",
       "    </tr>\n",
       "  </thead>\n",
       "  <tbody>\n",
       "    <tr>\n",
       "      <th>0</th>\n",
       "      <td>110023</td>\n",
       "      <td>219040.00</td>\n",
       "      <td>633692.00</td>\n",
       "    </tr>\n",
       "    <tr>\n",
       "      <th>1</th>\n",
       "      <td>110098</td>\n",
       "      <td>190867.00</td>\n",
       "      <td>634787.00</td>\n",
       "    </tr>\n",
       "    <tr>\n",
       "      <th>2</th>\n",
       "      <td>110130</td>\n",
       "      <td>220523.00</td>\n",
       "      <td>630416.00</td>\n",
       "    </tr>\n",
       "    <tr>\n",
       "      <th>3</th>\n",
       "      <td>110155</td>\n",
       "      <td>218115.00</td>\n",
       "      <td>632094.00</td>\n",
       "    </tr>\n",
       "    <tr>\n",
       "      <th>4</th>\n",
       "      <td>110171</td>\n",
       "      <td>220854.00</td>\n",
       "      <td>629272.00</td>\n",
       "    </tr>\n",
       "  </tbody>\n",
       "</table>\n",
       "</div>"
      ],
      "text/plain": [
       "   סמל_מוסד  coordinate_x  coordinate_y\n",
       "0    110023     219040.00     633692.00\n",
       "1    110098     190867.00     634787.00\n",
       "2    110130     220523.00     630416.00\n",
       "3    110155     218115.00     632094.00\n",
       "4    110171     220854.00     629272.00"
      ]
     },
     "execution_count": 6,
     "metadata": {},
     "output_type": "execute_result"
    }
   ],
   "source": [
    "JTMT_setls_schools_coordinates=up_load_df(r'{}\\background_files'.format(education_folder_path),'JTMT_setls_schools_coordinates')\n",
    "JTMT_setls_schools_coordinates.head()"
   ]
  },
  {
   "cell_type": "code",
   "execution_count": 7,
   "metadata": {},
   "outputs": [
    {
     "data": {
      "text/html": [
       "<div>\n",
       "<style scoped>\n",
       "    .dataframe tbody tr th:only-of-type {\n",
       "        vertical-align: middle;\n",
       "    }\n",
       "\n",
       "    .dataframe tbody tr th {\n",
       "        vertical-align: top;\n",
       "    }\n",
       "\n",
       "    .dataframe thead th {\n",
       "        text-align: right;\n",
       "    }\n",
       "</style>\n",
       "<table border=\"1\" class=\"dataframe\">\n",
       "  <thead>\n",
       "    <tr style=\"text-align: right;\">\n",
       "      <th></th>\n",
       "      <th>סמל_מוסד</th>\n",
       "      <th>coordinate_x</th>\n",
       "      <th>coordinate_y</th>\n",
       "      <th>SRC</th>\n",
       "    </tr>\n",
       "  </thead>\n",
       "  <tbody>\n",
       "    <tr>\n",
       "      <th>0</th>\n",
       "      <td>110023</td>\n",
       "      <td>219040.00</td>\n",
       "      <td>633692.00</td>\n",
       "      <td>moe_mosdot_coordinates</td>\n",
       "    </tr>\n",
       "    <tr>\n",
       "      <th>1</th>\n",
       "      <td>110098</td>\n",
       "      <td>190867.00</td>\n",
       "      <td>634787.00</td>\n",
       "      <td>moe_mosdot_coordinates</td>\n",
       "    </tr>\n",
       "    <tr>\n",
       "      <th>2</th>\n",
       "      <td>110130</td>\n",
       "      <td>220523.00</td>\n",
       "      <td>630416.00</td>\n",
       "      <td>moe_mosdot_coordinates</td>\n",
       "    </tr>\n",
       "    <tr>\n",
       "      <th>3</th>\n",
       "      <td>110155</td>\n",
       "      <td>218115.00</td>\n",
       "      <td>632094.00</td>\n",
       "      <td>moe_mosdot_coordinates</td>\n",
       "    </tr>\n",
       "    <tr>\n",
       "      <th>4</th>\n",
       "      <td>110171</td>\n",
       "      <td>220854.00</td>\n",
       "      <td>629272.00</td>\n",
       "      <td>moe_mosdot_coordinates</td>\n",
       "    </tr>\n",
       "  </tbody>\n",
       "</table>\n",
       "</div>"
      ],
      "text/plain": [
       "   סמל_מוסד  coordinate_x  coordinate_y                     SRC\n",
       "0    110023     219040.00     633692.00  moe_mosdot_coordinates\n",
       "1    110098     190867.00     634787.00  moe_mosdot_coordinates\n",
       "2    110130     220523.00     630416.00  moe_mosdot_coordinates\n",
       "3    110155     218115.00     632094.00  moe_mosdot_coordinates\n",
       "4    110171     220854.00     629272.00  moe_mosdot_coordinates"
      ]
     },
     "execution_count": 7,
     "metadata": {},
     "output_type": "execute_result"
    }
   ],
   "source": [
    "JTMT_setls_schools_coordinates['SRC'] = JTMT_setls_schools_coordinates['סמל_מוסד'].apply(\n",
    "    lambda x: 'moe_mosdot_coordinates' if x in JTMT_setls_schools_with_coordinates['סמל_מוסד'].values \n",
    "              else 'manual' if x in JTMT_setls_schools_without_coordinates['סמל_מוסד'].values \n",
    "              else None\n",
    ")\n",
    "\n",
    "JTMT_setls_schools_coordinates.head()"
   ]
  },
  {
   "cell_type": "code",
   "execution_count": 8,
   "metadata": {},
   "outputs": [],
   "source": [
    "JTMT_setls_schools_coordinates.to_excel('JTMT_setls_schools_coordinates.xlsx', index=False)"
   ]
  },
  {
   "cell_type": "code",
   "execution_count": null,
   "metadata": {},
   "outputs": [],
   "source": [
    "schools_2023=up_load_df(r'{}\\background_files\\ministry_of_education\\מוסדות'.format(education_folder_path),'schools_2023')\n",
    "schools_2023=remove_spaces_in_columns(schools_2023)\n",
    "schools_2023.head()"
   ]
  },
  {
   "cell_type": "code",
   "execution_count": null,
   "metadata": {},
   "outputs": [],
   "source": [
    "Gschool = pd.merge(schools_2023, moe_mosdot_coordinates_2022,\n",
    "                     on='סמל_מוסד', how='left')\n",
    "Gschool.head()"
   ]
  },
  {
   "cell_type": "code",
   "execution_count": null,
   "metadata": {},
   "outputs": [],
   "source": [
    "JTMT_setls=up_load_df(r'{}\\background_files'.format(education_folder_path),'210615_מקוצר_רשימת_יישובים_באחריות_צתאל')\n",
    "JTMT_setls = remove_spaces_in_columns(JTMT_setls)\n",
    "JTMT_setls.head()\n",
    "Gschool=Gschool[Gschool['יישוב'].isin(JTMT_setls['שם_יישוב'])]\n",
    "Gschool.head()\n"
   ]
  },
  {
   "cell_type": "code",
   "execution_count": null,
   "metadata": {},
   "outputs": [],
   "source": [
    "Gschool=Gschool[Gschool['ITM_X'] != 0]\n",
    "Gschool.head()"
   ]
  },
  {
   "cell_type": "code",
   "execution_count": null,
   "metadata": {},
   "outputs": [],
   "source": [
    "Gschool=Gschool.drop(columns=['שם_מוסד', 'יישוב', 'כתובת', 'כתובת_חט\"ב', 'טלפון', 'דוא\"ל_מזכירות', 'סוג_חינוך', 'מעמד_משפטי', 'סוג_פיקוח',\n",
    "                                                                            'מגזר', 'יחידת_דיווח', 'שכבה', 'מספר_תלמידים', 'SHEM_MOSAD', 'UTM_X',\n",
    "                                                                            'UTM_Y', 'RAMAT_DIYUK_MIKUM'])\n",
    "Gschool.rename(columns={'ITM_X': 'x'}, inplace=True)\n",
    "Gschool.rename(columns={'ITM_Y': 'y'}, inplace=True)\n",
    "Gschool.to_excel('Gschool_JTMT_setls_schools_coordinates.xlsx', index=False)\n",
    "Gschool.head()"
   ]
  },
  {
   "cell_type": "code",
   "execution_count": null,
   "metadata": {},
   "outputs": [],
   "source": [
    "jerusalem_muni=up_load_df(r'{}\\background_files\\jerusalem_muni'.format(education_folder_path),'מוסדות בירושלים 2020')\n",
    "jerusalem_muni=remove_spaces_in_columns(jerusalem_muni)\n",
    "# jerusalem_muni['src'] = 'moe_mosdot_coordinates'\n",
    "jerusalem_muni.rename(columns={'סמל_עירייה': 'סמל_מוסד'}, inplace=True)\n",
    "\n",
    "jerusalem_muni.head()"
   ]
  },
  {
   "cell_type": "code",
   "execution_count": null,
   "metadata": {},
   "outputs": [],
   "source": [
    "# מיזוג הטבלאות לפי העמודה \"סמל_מוסד\"\n",
    "Gschool = pd.merge(moe_mosdot_coordinates_2022, jerusalem_muni,\n",
    "                     on='סמל_מוסד', how='left')\n",
    "Gschool.head()"
   ]
  },
  {
   "cell_type": "code",
   "execution_count": null,
   "metadata": {},
   "outputs": [],
   "source": [
    "#בתי ספר ממשרד החינוך בכל הארץ\n",
    "JTMT_setls_schools_with_coordinates=up_load_df(r'{}'.format(cwd),'JTMT_setls_schools_with_coordinates')\n",
    "JTMT_setls_schools_with_coordinates.head()"
   ]
  },
  {
   "cell_type": "code",
   "execution_count": null,
   "metadata": {},
   "outputs": [],
   "source": [
    "#בתי ספר ממשרד החינוך בכל הארץ\n",
    "JTMT_setls_schools_without_coordinates=up_load_df(r'{}'.format(cwd),'JTMT_setls_schools_without_coordinates')\n",
    "JTMT_setls_schools_without_coordinates.head()"
   ]
  },
  {
   "cell_type": "code",
   "execution_count": null,
   "metadata": {},
   "outputs": [],
   "source": [
    "# מיזוג הטבלאות לפי העמודה \"סמל_מוסד\"\n",
    "Gschool = pd.merge(JTMT_setls_schools_with_coordinates, JTMT_setls_schools_without_coordinates[['סמל_מוסד', 'coordinate_x', 'coordinate_y']],\n",
    "                     on='סמל_מוסד', how='left')"
   ]
  },
  {
   "cell_type": "code",
   "execution_count": null,
   "metadata": {},
   "outputs": [],
   "source": [
    "JTMT_setls_schools_coordinates=pd.concat([JTMT_setls_schools_with_coordinates, JTMT_setls_schools_without_coordinates], ignore_index=True)"
   ]
  },
  {
   "cell_type": "code",
   "execution_count": null,
   "metadata": {},
   "outputs": [],
   "source": [
    "JTMT_setls_schools_coordinates.head()"
   ]
  },
  {
   "cell_type": "code",
   "execution_count": null,
   "metadata": {},
   "outputs": [],
   "source": [
    "JTMT_setls_schools_coordinates=JTMT_setls_schools_coordinates.drop(columns=['שם_מוסד', 'יישוב', 'כתובת', 'סוג_חינוך', 'סוג_פיקוח',\n",
    "                                                                            'מגזר', 'יחידת_דיווח', 'שכבה', 'מספר_תלמידים'])\n",
    "# JTMT_setls_schools_coordinates.to_excel('JTMT_setls_schools_coordinates.xlsx', index=False)"
   ]
  },
  {
   "cell_type": "code",
   "execution_count": null,
   "metadata": {},
   "outputs": [],
   "source": [
    "JTMT_setls_schools_coordinates=JTMT_setls_schools_coordinates[JTMT_setls_schools_coordinates['coordinate_x'] != 0]\n",
    "JTMT_setls_schools_coordinates.head()"
   ]
  },
  {
   "cell_type": "code",
   "execution_count": null,
   "metadata": {},
   "outputs": [],
   "source": [
    "GschoolXYNaN = Gschool[Gschool['coordinate_x'].isna()]\n",
    "Gschool = Gschool[~Gschool['coordinate_x'].isna()]"
   ]
  },
  {
   "cell_type": "code",
   "execution_count": null,
   "metadata": {},
   "outputs": [],
   "source": [
    "is_unique = Gschool['סמל_מוסד'].is_unique\n",
    "is_unique"
   ]
  }
 ],
 "metadata": {
  "kernelspec": {
   "display_name": "creat_forecast_ad_hoc_env",
   "language": "python",
   "name": "python3"
  },
  "language_info": {
   "codemirror_mode": {
    "name": "ipython",
    "version": 3
   },
   "file_extension": ".py",
   "mimetype": "text/x-python",
   "name": "python",
   "nbconvert_exporter": "python",
   "pygments_lexer": "ipython3",
   "version": "3.11.5"
  }
 },
 "nbformat": 4,
 "nbformat_minor": 2
}

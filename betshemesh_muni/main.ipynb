{
 "cells": [
  {
   "cell_type": "code",
   "execution_count": 1,
   "metadata": {},
   "outputs": [],
   "source": [
    "import pandas as pd\n",
    "import os\n",
    "import sys\n",
    "\n",
    "pd.set_option('display.max_rows', None)\n",
    "pd.set_option('display.max_columns', None)\n",
    "pd.set_option('display.float_format', lambda x: '%.2f' % x)"
   ]
  },
  {
   "cell_type": "code",
   "execution_count": 2,
   "metadata": {},
   "outputs": [],
   "source": [
    "cwd = os.getcwd()\n",
    "\n",
    "education_folder_path = os.path.dirname(cwd)\n",
    "\n",
    "sys.path.append(education_folder_path)"
   ]
  },
  {
   "cell_type": "code",
   "execution_count": 3,
   "metadata": {},
   "outputs": [],
   "source": [
    "from global_functions import remove_spaces_in_columns, up_load_shp, up_load_df, drop_geo, change_cols_names, get_newest_date_file, get_output_folder_location"
   ]
  },
  {
   "cell_type": "code",
   "execution_count": 4,
   "metadata": {},
   "outputs": [],
   "source": [
    "#בתי ספר וגנים מעיריית בית שמש\n",
    "BShemesh=up_load_df(r'{}\\background_files\\betshemesh_muni\\חינוך'.format(education_folder_path),'מצבת מוסדות חינוך תשפג משרדי')\n",
    "BShemesh=remove_spaces_in_columns(BShemesh)"
   ]
  },
  {
   "cell_type": "code",
   "execution_count": 5,
   "metadata": {},
   "outputs": [],
   "source": [
    "BShemesh=BShemesh[~BShemesh['הערות'].str.contains('גן', na=False)]"
   ]
  },
  {
   "cell_type": "code",
   "execution_count": 6,
   "metadata": {},
   "outputs": [],
   "source": [
    "#קאורדינטות של מוסדות חינוך בכל הארץ ממשרד החינוך\n",
    "moe_mosdot_coordinates_2022=up_load_df(r'{}\\background_files\\ministry_of_education\\מוסדות'.format(education_folder_path),'moe_mosdot_coordinates_2022')\n",
    "moe_mosdot_coordinates_2022=remove_spaces_in_columns(moe_mosdot_coordinates_2022)"
   ]
  },
  {
   "cell_type": "code",
   "execution_count": 7,
   "metadata": {},
   "outputs": [],
   "source": [
    "moe_mosdot_coordinates_2022.rename(columns={'SEMEL_MOSAD': 'סמל_מוסד'}, inplace=True)\n",
    "moe_mosdot_coordinates_2022.rename(columns={'SHEM_MOSAD': 'שם מוסד'}, inplace=True)\n",
    "moe_mosdot_coordinates_2022.rename(columns={'ITM_X': 'coordinate_x'}, inplace=True)\n",
    "moe_mosdot_coordinates_2022.rename(columns={'ITM_Y': 'coordinate_y'}, inplace=True)\n",
    "\n",
    "moe_mosdot_coordinates_2022 = moe_mosdot_coordinates_2022.drop(columns=['UTM_X', 'UTM_Y', 'RAMAT_DIYUK_MIKUM'])"
   ]
  },
  {
   "cell_type": "code",
   "execution_count": 8,
   "metadata": {},
   "outputs": [],
   "source": [
    "# מיזוג הטבלאות לפי העמודה \"סמל_מוסד\"\n",
    "BShemesh = pd.merge(BShemesh, moe_mosdot_coordinates_2022[['סמל_מוסד', 'coordinate_x', 'coordinate_y']],\n",
    "                     on='סמל_מוסד', how='left')"
   ]
  },
  {
   "cell_type": "code",
   "execution_count": null,
   "metadata": {},
   "outputs": [],
   "source": [
    "BShemesh=BShemesh.drop(columns=['שכונה', 'כתובת', 'טלפון', 'פקס', 'מייל', 'שם_מנהל/ת',\n",
    "                                    'כתובת_מנהל', 'נייד', 'שם_מזכיר/ה', 'נייד.1', 'הערות', 'מפקח', 'קב\"ט_מוס\"ח',\n",
    "                                    'גן_טרום_חובה', 'גן_חובה', 'גני_חינוך_מיוחד', 'סה\"כ_גנים'])\n",
    "BShemesh.head()"
   ]
  },
  {
   "cell_type": "code",
   "execution_count": null,
   "metadata": {},
   "outputs": [],
   "source": [
    "# רשימת שמות השכבות (א' עד ו')\n",
    "grades = ['א', 'ב', 'ג', 'ד', 'ה', 'ו', 'ז', 'ח', 'ט', 'י', 'יא', 'יב']\n",
    "\n",
    "# לולאה שמבצעת את הסכימה והמחיקה עבור כל שכבה\n",
    "for i, grade in enumerate(grades):\n",
    "    # איתור העמודות הרלוונטיות לכל שכבה (כולל כיתה מקדמת אם קיימת לאותה שכבה)\n",
    "    grade_columns = [col for col in BShemesh.columns if col.startswith(f'כיתה_{grade}')]\n",
    "    \n",
    "    # הוספת העמודה של הכיתה המקדמת של אותה שכבה אם קיימת\n",
    "    if f'כיתה_מקדמת.{i}' in BShemesh.columns:\n",
    "        grade_columns.append(f'כיתה_מקדמת.{i}')\n",
    "    elif 'כיתה_מקדמת' in BShemesh.columns and i == 0:\n",
    "        grade_columns.append('כיתה_מקדמת')\n",
    "    \n",
    "    # סכימת העמודות אם יש כיתות רלוונטיות לשכבה הזו\n",
    "    if grade_columns:\n",
    "        BShemesh[f'כיתה_{grade}'] = BShemesh[grade_columns].sum(axis=1, skipna=True)\n",
    "        \n",
    "        # מחיקת העמודות שסוכמו\n",
    "        BShemesh.drop(columns=grade_columns, inplace=True)\n",
    "\n",
    "# institutions_table = pd.merge(institutions_table, BShemesh, on='סמל_מוסד', how='outer')\n",
    "# institutions_table = institutions_table.dropna(axis=1, how='all')\n",
    "\n",
    "BShemesh.head()"
   ]
  },
  {
   "cell_type": "code",
   "execution_count": 11,
   "metadata": {},
   "outputs": [],
   "source": [
    "# יצירת עמודה \"סה\"כ\" שמכילה את סכום כל העמודות הרלוונטיות\n",
    "BShemesh['סה\"כ_תלמידים'] = BShemesh[['סה\"כ_יסודי_מ\"מ_וממ\"ד', 'סה\"כ_יסודי_חרדי', '_סה\"כ_על_יסודי_מ\"מ_וממ\"ד', 'סה\"כ_על_יסודי_חרדי']].sum(axis=1)\n",
    "\n",
    "# הסרת העמודות הישנות אם אינך זקוק להן יותר\n",
    "BShemesh=BShemesh.drop(columns=['סה\"כ_יסודי_מ\"מ_וממ\"ד', 'סה\"כ_יסודי_חרדי', '_סה\"כ_על_יסודי_מ\"מ_וממ\"ד', 'סה\"כ_על_יסודי_חרדי'])"
   ]
  },
  {
   "cell_type": "code",
   "execution_count": 12,
   "metadata": {},
   "outputs": [],
   "source": [
    "#sector\n",
    "BShemesh.loc[BShemesh['מגזר']=='חרדי','sector'] = 2\n",
    "BShemesh.loc[BShemesh['מגזר']=='ממ\"ח','sector'] = 2\n",
    "BShemesh.loc[BShemesh['מגזר']=='מ\"מ','sector'] = 3\n",
    "BShemesh.loc[BShemesh['מגזר']=='ממ\"ד','sector'] = 3\n",
    "BShemesh.loc[BShemesh['מגזר']=='עירוני','sector'] = 3"
   ]
  },
  {
   "cell_type": "code",
   "execution_count": 13,
   "metadata": {},
   "outputs": [],
   "source": [
    "# סינון שורות שבהן העמודה \"סה\"כ\" אינה שווה לאפס\n",
    "BShemesh=BShemesh[BShemesh['סה\"כ_תלמידים'] != 0]"
   ]
  },
  {
   "cell_type": "code",
   "execution_count": 14,
   "metadata": {},
   "outputs": [],
   "source": [
    "# חלוקה לשכבות גיל\n",
    "ages = {\n",
    "    'ele': ['כיתה_א', 'כיתה_ב', 'כיתה_ג', 'כיתה_ד', 'כיתה_ה', 'כיתה_ו'],\n",
    "    'mid': ['כיתה_ז', 'כיתה_ח', 'כיתה_ט'],\n",
    "    'high': ['כיתה_י', 'כיתה_יא', 'כיתה_יב']\n",
    "}\n",
    "\n",
    "# חישוב מספר התלמידים לכל שכבה\n",
    "BShemesh['ele_stu'] = BShemesh[ages['ele']].sum(axis=1)\n",
    "BShemesh['mid_stu'] = BShemesh[ages['mid']].sum(axis=1)\n",
    "BShemesh['high_stu'] = BShemesh[ages['high']].sum(axis=1)\n",
    "\n",
    "BShemesh_final = BShemesh.drop(['כיתה_א', 'כיתה_ב', 'כיתה_ג', 'כיתה_ד', 'כיתה_ה', 'כיתה_ו', 'כיתה_ז', 'כיתה_ח', 'כיתה_ט', 'כיתה_י', 'כיתה_יא', 'כיתה_יב'], axis=1)"
   ]
  },
  {
   "cell_type": "code",
   "execution_count": null,
   "metadata": {},
   "outputs": [],
   "source": [
    "BShemesh.head()"
   ]
  },
  {
   "cell_type": "code",
   "execution_count": null,
   "metadata": {},
   "outputs": [],
   "source": [
    "BShemesh_final.head()"
   ]
  },
  {
   "cell_type": "code",
   "execution_count": null,
   "metadata": {},
   "outputs": [],
   "source": [
    "is_unique = BShemesh_final['סמל_מוסד'].is_unique\n",
    "is_unique"
   ]
  },
  {
   "cell_type": "code",
   "execution_count": null,
   "metadata": {},
   "outputs": [],
   "source": [
    "# מציאת שורות עם ערכים כפולים בעמודה סמל_מוסד\n",
    "duplicated_rows = BShemesh_final[BShemesh_final.duplicated(subset=['סמל_מוסד'], keep=False)]\n",
    "duplicated_rows"
   ]
  },
  {
   "cell_type": "code",
   "execution_count": null,
   "metadata": {},
   "outputs": [],
   "source": [
    "BShemesh_final.to_excel('BShemesh_final.xlsx', index=False)"
   ]
  }
 ],
 "metadata": {
  "kernelspec": {
   "display_name": "creat_forecast_ad_hoc_env",
   "language": "python",
   "name": "python3"
  },
  "language_info": {
   "codemirror_mode": {
    "name": "ipython",
    "version": 3
   },
   "file_extension": ".py",
   "mimetype": "text/x-python",
   "name": "python",
   "nbconvert_exporter": "python",
   "pygments_lexer": "ipython3",
   "version": "3.11.5"
  }
 },
 "nbformat": 4,
 "nbformat_minor": 2
}

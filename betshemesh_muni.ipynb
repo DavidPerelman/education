{
 "cells": [
  {
   "cell_type": "markdown",
   "metadata": {},
   "source": [
    "### ספריות\n"
   ]
  },
  {
   "cell_type": "code",
   "execution_count": 1,
   "metadata": {},
   "outputs": [],
   "source": [
    "import pandas as pd\n",
    "import os\n",
    "import sys\n",
    "\n",
    "pd.set_option('display.max_rows', None)\n",
    "pd.set_option('display.max_columns', None)\n",
    "pd.set_option('display.float_format', lambda x: '%.2f' % x)"
   ]
  },
  {
   "cell_type": "markdown",
   "metadata": {},
   "source": [
    "### העלת משתנים להרצת הקוד\n"
   ]
  },
  {
   "cell_type": "code",
   "execution_count": null,
   "metadata": {},
   "outputs": [],
   "source": [
    "# מיקום תיקייה נוכחית\n",
    "cwd = os.getcwd()"
   ]
  },
  {
   "cell_type": "code",
   "execution_count": null,
   "metadata": {},
   "outputs": [],
   "source": [
    "# תאריך\n",
    "file_date=pd.Timestamp.today().strftime('%y%m%d')"
   ]
  },
  {
   "cell_type": "markdown",
   "metadata": {},
   "source": [
    "### פונקציות גלובליות\n"
   ]
  },
  {
   "cell_type": "code",
   "execution_count": 3,
   "metadata": {},
   "outputs": [],
   "source": [
    "from global_functions import remove_spaces_in_columns, up_load_df, split_to_layers"
   ]
  },
  {
   "cell_type": "markdown",
   "metadata": {},
   "source": [
    "### העלאת טבלאות\n"
   ]
  },
  {
   "cell_type": "code",
   "execution_count": null,
   "metadata": {},
   "outputs": [],
   "source": [
    "# בתי ספר וגנים מעיריית בית שמש\n",
    "BShemesh=up_load_df(r'{}\\background_files\\betshemesh_muni\\חינוך'.format(cwd),'מצבת מוסדות חינוך תשפג משרדי')\n",
    "BShemesh=remove_spaces_in_columns(BShemesh)"
   ]
  },
  {
   "cell_type": "markdown",
   "metadata": {},
   "source": [
    "### עיבוד\n"
   ]
  },
  {
   "cell_type": "code",
   "execution_count": 5,
   "metadata": {},
   "outputs": [],
   "source": [
    "# מחיקת שורות של גני ילדים\n",
    "BShemesh=BShemesh[~BShemesh['הערות'].str.contains('גן', na=False)]"
   ]
  },
  {
   "cell_type": "code",
   "execution_count": null,
   "metadata": {},
   "outputs": [],
   "source": [
    "# קאורדינטות של מוסדות חינוך במרחב ירושלים\n",
    "JTMT_setls_schools_coordinates_with_src=up_load_df(r'{}\\background_files'.format(cwd),'JTMT_setls_schools_coordinates_with_src')\n",
    "JTMT_setls_schools_coordinates_with_src=remove_spaces_in_columns(JTMT_setls_schools_coordinates_with_src)"
   ]
  },
  {
   "cell_type": "code",
   "execution_count": 7,
   "metadata": {},
   "outputs": [],
   "source": [
    "# בדיקה אם יש מוסדות עם אותו סמל מוסד\n",
    "is_unique = JTMT_setls_schools_coordinates_with_src['סמל_מוסד'].is_unique"
   ]
  },
  {
   "cell_type": "code",
   "execution_count": 8,
   "metadata": {},
   "outputs": [],
   "source": [
    "# הוספת עמודת SRC\n",
    "BShemesh['SRC'] = ''"
   ]
  },
  {
   "cell_type": "code",
   "execution_count": null,
   "metadata": {},
   "outputs": [],
   "source": [
    "# מיזוג טבלאות המוסדות והקאורדינטות לפי העמודה \"סמל_מוסד\"\n",
    "BShemesh = pd.merge(BShemesh, JTMT_setls_schools_coordinates_with_src[['סמל_מוסד', 'coordinate_x', 'coordinate_y', 'SRC']],\n",
    "                     on='סמל_מוסד', how='left')"
   ]
  },
  {
   "cell_type": "code",
   "execution_count": null,
   "metadata": {},
   "outputs": [],
   "source": [
    "# מחיקת עמודות מיותרות\n",
    "BShemesh=BShemesh.drop(columns=['שכונה', 'כתובת', 'טלפון', 'פקס', 'מייל', 'שם_מנהל/ת',\n",
    "                                    'כתובת_מנהל', 'נייד', 'שם_מזכיר/ה', 'נייד.1', 'הערות', 'מפקח', 'קב\"ט_מוס\"ח',\n",
    "                                    'גן_טרום_חובה', 'גן_חובה', 'גני_חינוך_מיוחד', 'סה\"כ_גנים'])"
   ]
  },
  {
   "cell_type": "code",
   "execution_count": null,
   "metadata": {},
   "outputs": [],
   "source": [
    "# רשימת שמות השכבות (א' עד יב')\n",
    "grades = ['א', 'ב', 'ג', 'ד', 'ה', 'ו', 'ז', 'ח', 'ט', 'י', 'יא', 'יב']\n",
    "\n",
    "# לולאה שמבצעת את הסכימה של מספר התלמידים עבור כל שכבה\n",
    "for i, grade in enumerate(grades):\n",
    "    # איתור העמודות הרלוונטיות לכל שכבה (כולל כיתה מקדמת אם קיימת לאותה שכבה)\n",
    "    grade_columns = [col for col in BShemesh.columns if col.startswith(f'כיתה_{grade}')]\n",
    "    \n",
    "    # הוספת העמודה של הכיתה המקדמת של אותה שכבה אם קיימת\n",
    "    if f'כיתה_מקדמת.{i}' in BShemesh.columns:\n",
    "        grade_columns.append(f'כיתה_מקדמת.{i}')\n",
    "    elif 'כיתה_מקדמת' in BShemesh.columns and i == 0:\n",
    "        grade_columns.append('כיתה_מקדמת')\n",
    "    \n",
    "    # סכימת העמודות אם יש כיתות רלוונטיות לשכבה הזו\n",
    "    if grade_columns:\n",
    "        BShemesh[f'כיתה_{grade}'] = BShemesh[grade_columns].sum(axis=1, skipna=True)\n",
    "        \n",
    "        # מחיקת העמודות שסוכמו\n",
    "        BShemesh.drop(columns=grade_columns, inplace=True)"
   ]
  },
  {
   "cell_type": "code",
   "execution_count": 12,
   "metadata": {},
   "outputs": [],
   "source": [
    "# יצירת עמודה \"סהכ_תלמידים\" שמכילה את סך התלמידים במוסד\n",
    "BShemesh['סה\"כ_תלמידים'] = BShemesh[['סה\"כ_יסודי_מ\"מ_וממ\"ד', 'סה\"כ_יסודי_חרדי', '_סה\"כ_על_יסודי_מ\"מ_וממ\"ד', 'סה\"כ_על_יסודי_חרדי']].sum(axis=1)\n",
    "\n",
    "# הסרת העמודות הישנות\n",
    "BShemesh=BShemesh.drop(columns=['סה\"כ_יסודי_מ\"מ_וממ\"ד', 'סה\"כ_יסודי_חרדי', '_סה\"כ_על_יסודי_מ\"מ_וממ\"ד', 'סה\"כ_על_יסודי_חרדי'])"
   ]
  },
  {
   "cell_type": "code",
   "execution_count": 13,
   "metadata": {},
   "outputs": [],
   "source": [
    "# חלוקה למגזרים\n",
    "BShemesh.loc[BShemesh['מגזר']=='חרדי','sector'] = 2\n",
    "BShemesh.loc[BShemesh['מגזר']=='ממ\"ח','sector'] = 2\n",
    "BShemesh.loc[BShemesh['מגזר']=='מ\"מ','sector'] = 3\n",
    "BShemesh.loc[BShemesh['מגזר']=='ממ\"ד','sector'] = 3\n",
    "BShemesh.loc[BShemesh['מגזר']=='עירוני','sector'] = 3"
   ]
  },
  {
   "cell_type": "code",
   "execution_count": 14,
   "metadata": {},
   "outputs": [],
   "source": [
    "# מחיקת שורות שבהן העמודה \"סהכ_תלמידים\" שווה לאפס\n",
    "BShemesh=BShemesh[BShemesh['סה\"כ_תלמידים'] != 0]"
   ]
  },
  {
   "cell_type": "code",
   "execution_count": 15,
   "metadata": {},
   "outputs": [],
   "source": [
    "# חלוקה לשכבות גיל\n",
    "ages = {\n",
    "    'ele': ['כיתה_א', 'כיתה_ב', 'כיתה_ג', 'כיתה_ד', 'כיתה_ה', 'כיתה_ו'],\n",
    "    'mid': ['כיתה_ז', 'כיתה_ח', 'כיתה_ט'],\n",
    "    'high': ['כיתה_י', 'כיתה_יא', 'כיתה_יב']\n",
    "}\n",
    "\n",
    "# חישוב מספר התלמידים לכל שכבה\n",
    "BShemesh = split_to_layers(BShemesh, ages)\n",
    "\n",
    "BShemesh = BShemesh.drop(['כיתה_א', 'כיתה_ב', 'כיתה_ג', 'כיתה_ד', 'כיתה_ה', 'כיתה_ו', 'כיתה_ז', 'כיתה_ח', 'כיתה_ט', 'כיתה_י', 'כיתה_יא', 'כיתה_יב'], axis=1)"
   ]
  },
  {
   "cell_type": "code",
   "execution_count": 16,
   "metadata": {},
   "outputs": [],
   "source": [
    "# בדיקה אם יש מוסדות עם אותו סמל מוסד\n",
    "is_unique = BShemesh['סמל_מוסד'].is_unique"
   ]
  },
  {
   "cell_type": "code",
   "execution_count": 17,
   "metadata": {},
   "outputs": [],
   "source": [
    "# מציאת שורות עם ערכים כפולים בעמודה סמל_מוסד\n",
    "duplicated_rows = BShemesh[BShemesh.duplicated(subset=['סמל_מוסד'], keep=False)]"
   ]
  },
  {
   "cell_type": "code",
   "execution_count": null,
   "metadata": {},
   "outputs": [],
   "source": [
    "# קיבוץ שורות עם ערכים כפולים בעמודה סמל_מוסד\n",
    "duplicated_rows = duplicated_rows.groupby('סמל_מוסד').agg({\n",
    "    'מגזר': 'first',  # ערך ראשון\n",
    "    'שם_המוסד': 'first',  # ערך ראשון\n",
    "    'coordinate_x': 'first',  # ערך ראשון\n",
    "    'coordinate_y': 'first',  # ערך ראשון\n",
    "    'SRC_y': 'first',  # ערך ראשון\n",
    "    'סה\"כ_תלמידים': 'sum',  # ערך ראשון\n",
    "    'sector': 'first',  # ערך ראשון\n",
    "    'ele_stu': 'sum',    # סכימה\n",
    "    'mid_stu': 'sum',    # סכימה\n",
    "    'high_stu': 'sum',    # סכימה\n",
    "}).reset_index()"
   ]
  },
  {
   "cell_type": "code",
   "execution_count": null,
   "metadata": {},
   "outputs": [],
   "source": [
    "# חיבור של הטבלה המקורית עם הטבלה של המוסדות עם אותו סמל מוסד אחרי קיבוץ\n",
    "BShemesh = pd.concat([duplicated_rows, BShemesh]).drop_duplicates(subset=['סמל_מוסד'], keep='first').reset_index(drop=True)"
   ]
  },
  {
   "cell_type": "code",
   "execution_count": null,
   "metadata": {},
   "outputs": [],
   "source": [
    "# שינוי שם של העמודות\n",
    "BShemesh = BShemesh.rename(columns={\n",
    "    'סמל_מוסד': 'ID',\n",
    "    'coordinate_x': 'x',\n",
    "    'coordinate_y': 'y',\n",
    "    'SRC_y': 'SRC'\n",
    "})\n",
    "\n",
    "# מחיקת עמודות מיותרות\n",
    "BShemesh = BShemesh.drop(['מגזר', 'סה\"כ_תלמידים', 'שם_המוסד', 'SRC_x'], axis=1)"
   ]
  },
  {
   "cell_type": "markdown",
   "metadata": {},
   "source": [
    "### ייצוא\n"
   ]
  },
  {
   "cell_type": "code",
   "execution_count": null,
   "metadata": {},
   "outputs": [],
   "source": [
    "BShemesh.to_excel(r'{}\\Intermediates\\{}_BShemesh_final.xlsx'.format(cwd, file_date), index=False)"
   ]
  }
 ],
 "metadata": {
  "kernelspec": {
   "display_name": "creat_forecast_ad_hoc_env",
   "language": "python",
   "name": "python3"
  },
  "language_info": {
   "codemirror_mode": {
    "name": "ipython",
    "version": 3
   },
   "file_extension": ".py",
   "mimetype": "text/x-python",
   "name": "python",
   "nbconvert_exporter": "python",
   "pygments_lexer": "ipython3",
   "version": "3.11.5"
  }
 },
 "nbformat": 4,
 "nbformat_minor": 2
}

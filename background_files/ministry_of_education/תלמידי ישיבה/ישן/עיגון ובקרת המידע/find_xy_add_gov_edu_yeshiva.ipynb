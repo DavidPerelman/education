{
 "cells": [
  {
   "cell_type": "markdown",
   "id": "65e4c2ef",
   "metadata": {},
   "source": [
    "## הגדרות ומקדים"
   ]
  },
  {
   "cell_type": "code",
   "execution_count": 157,
   "id": "a43ce0cf",
   "metadata": {},
   "outputs": [],
   "source": [
    "\n",
    "\n",
    "import pandas as pd\n",
    "import geopandas as gpd\n",
    "import numpy as np\n",
    "from shapely import wkt\n",
    "from matplotlib import pyplot as plt \n",
    "import folium\n",
    "import fiona\n",
    "from shapely.geometry import Point\n",
    "import googlemaps as gmaps"
   ]
  },
  {
   "cell_type": "code",
   "execution_count": 105,
   "id": "e351ed54",
   "metadata": {},
   "outputs": [],
   "source": [
    "pd.set_option('display.max_rows', None)\n",
    "pd.set_option('display.max_columns', None)\n",
    "pd.set_option('display.float_format', lambda x: '%.3f' % x)\n"
   ]
  },
  {
   "cell_type": "markdown",
   "id": "9624443e",
   "metadata": {},
   "source": [
    "## פונקציות"
   ]
  },
  {
   "cell_type": "code",
   "execution_count": 106,
   "id": "d69c42ff",
   "metadata": {},
   "outputs": [],
   "source": [
    "def double_taz_num(df):\n",
    "    dup_taz_num=df.groupby(['Taz_num']).size().reset_index(name='count').query('count>1').Taz_num.to_list()\n",
    "    return df.loc[df['Taz_num'].isin(dup_taz_num)]"
   ]
  },
  {
   "cell_type": "code",
   "execution_count": 107,
   "id": "d048994a",
   "metadata": {},
   "outputs": [],
   "source": [
    "def make_point(df):\n",
    "    df_point=df.copy()\n",
    "    df_point['centroid'] = df_point.representative_point()\n",
    "    df_point=df_point.set_geometry('centroid')\n",
    "    df_point=df_point.drop(columns=['geometry'],axis=1)\n",
    "    return df_point"
   ]
  },
  {
   "cell_type": "code",
   "execution_count": 108,
   "id": "86bf5cad",
   "metadata": {},
   "outputs": [],
   "source": [
    "def up_load_gdb(path,layer_name):\n",
    "    path='{}'.format(path)\n",
    "    layer_list=fiona.listlayers(path)\n",
    "    gpd_layer=gpd.read_file(path, layer=layer_list.index(layer_name))\n",
    "    return gpd_layer"
   ]
  },
  {
   "cell_type": "code",
   "execution_count": 109,
   "id": "6acc6aa7",
   "metadata": {},
   "outputs": [],
   "source": [
    "def up_load_shp(path):\n",
    "    path='{}'.format(path)\n",
    "    gpd_layer=gpd.read_file(path)\n",
    "    return gpd_layer"
   ]
  },
  {
   "cell_type": "code",
   "execution_count": 110,
   "id": "aa32de74",
   "metadata": {},
   "outputs": [],
   "source": [
    "def unique_id_in_one_taz(df_to_geoode,unique_field,gpd_for_geocode,taz):\n",
    "    \n",
    "    code_to_find=list(df_to_geoode[unique_field].unique())\n",
    "\n",
    "    gpd_for_geocode_to_sum_by_taz=gpd_for_geocode[[unique_field,'geometry']].loc[gpd_for_geocode[unique_field].isin(code_to_find)]\n",
    "\n",
    "    gpd_for_geocode_to_sum_by_taz=gpd.sjoin(taz[['Taz_num','geometry']],gpd_for_geocode_to_sum_by_taz)\n",
    "\n",
    "    gpd_for_geocode_in_one_taz=list(gpd_for_geocode_to_sum_by_taz.groupby(unique_field)[['Taz_num']].nunique().query('Taz_num==1').reset_index()[unique_field])\n",
    "\n",
    "    return gpd_for_geocode_in_one_taz"
   ]
  },
  {
   "cell_type": "code",
   "execution_count": 111,
   "id": "94c692b3",
   "metadata": {},
   "outputs": [],
   "source": [
    "def many_towns_in_one_taz(df_to_geoode,unique_field,gpd_for_geocode,taz):\n",
    "    \n",
    "    code_to_find=list(df_to_geoode[unique_field].unique())\n",
    "\n",
    "    gpd_for_geocode_to_sum_by_taz=gpd_for_geocode[[unique_field,'geometry']].loc[gpd_for_geocode[unique_field].isin(code_to_find)]\n",
    "\n",
    "    gpd_for_geocode_to_sum_by_taz=gpd.sjoin(taz[['Taz_num','geometry']],gpd_for_geocode_to_sum_by_taz)\n",
    "\n",
    "    gpd_for_geocode_in_one_taz=list(gpd_for_geocode_to_sum_by_taz.groupby('Taz_num')[[unique_field]].nunique().query(f'{unique_field} > 1').reset_index()['Taz_num'])\n",
    "    \n",
    "    gpd_for_geocode_in_one_taz=list(gpd_for_geocode_to_sum_by_taz.loc[gpd_for_geocode_to_sum_by_taz['Taz_num'].isin(gpd_for_geocode_in_one_taz)][unique_field])\n",
    "    \n",
    "    return gpd_for_geocode_in_one_taz"
   ]
  },
  {
   "cell_type": "code",
   "execution_count": 112,
   "id": "c5d7d54b",
   "metadata": {},
   "outputs": [],
   "source": [
    "def up_load_df(folder_path,file_name):\n",
    "    \n",
    "    path_df=r'{}\\{}.xlsx'.format(folder_path,file_name)\n",
    "    df=pd.read_excel(path_df)\n",
    "    df=df.dropna(how='all')\n",
    "\n",
    "    return df\n"
   ]
  },
  {
   "cell_type": "markdown",
   "id": "c097eaf7",
   "metadata": {},
   "source": [
    "## העלת טבלת מוסדות"
   ]
  },
  {
   "cell_type": "code",
   "execution_count": 113,
   "id": "78ca8a9a",
   "metadata": {},
   "outputs": [],
   "source": [
    "folder_path=r'\\\\FILE-SRV\\Jtmt\\projections_team\\GIS_backround\\INFO\\משרד החינוך\\תלמידי ישביה וסמינירים'\n",
    "file_name='כתובות של מוסדות של ירושלים ויוש_עיבוד_ראשוני'\n",
    "\n",
    "path_df=r'{}\\{}.xlsx'.format(folder_path,file_name)\n",
    "df=pd.read_excel(path_df)\n",
    "df=df.dropna(how='all')\n",
    "\n",
    "\n",
    "gov_edu_yeshvia=df"
   ]
  },
  {
   "cell_type": "markdown",
   "id": "fbe10278",
   "metadata": {},
   "source": [
    "## מס עמותה סניף שחוזר על עצמו "
   ]
  },
  {
   "cell_type": "code",
   "execution_count": 114,
   "id": "1fe85b9e",
   "metadata": {
    "scrolled": true
   },
   "outputs": [
    {
     "data": {
      "text/html": [
       "<div>\n",
       "<style scoped>\n",
       "    .dataframe tbody tr th:only-of-type {\n",
       "        vertical-align: middle;\n",
       "    }\n",
       "\n",
       "    .dataframe tbody tr th {\n",
       "        vertical-align: top;\n",
       "    }\n",
       "\n",
       "    .dataframe thead th {\n",
       "        text-align: right;\n",
       "    }\n",
       "</style>\n",
       "<table border=\"1\" class=\"dataframe\">\n",
       "  <thead>\n",
       "    <tr style=\"text-align: right;\">\n",
       "      <th></th>\n",
       "      <th>שם_העמותה</th>\n",
       "      <th>מס_עמותה_סניף</th>\n",
       "      <th>SETL_CODE</th>\n",
       "      <th>עיר</th>\n",
       "      <th>STR_CODE</th>\n",
       "      <th>רחוב</th>\n",
       "      <th>HOUSE_NUM</th>\n",
       "      <th>num_yeshiva_students</th>\n",
       "    </tr>\n",
       "  </thead>\n",
       "  <tbody>\n",
       "    <tr>\n",
       "      <th>301</th>\n",
       "      <td>תלמוד שמביא לידי מעשה</td>\n",
       "      <td>580253151-5</td>\n",
       "      <td>3000</td>\n",
       "      <td>ירושלים</td>\n",
       "      <td>350</td>\n",
       "      <td>שטראוס</td>\n",
       "      <td>16</td>\n",
       "      <td>56</td>\n",
       "    </tr>\n",
       "    <tr>\n",
       "      <th>302</th>\n",
       "      <td>תלמוד שמביא לידי מעשה</td>\n",
       "      <td>580253151-5</td>\n",
       "      <td>3000</td>\n",
       "      <td>ירושלים</td>\n",
       "      <td>4361</td>\n",
       "      <td>בתי מחסה</td>\n",
       "      <td>6</td>\n",
       "      <td>56</td>\n",
       "    </tr>\n",
       "    <tr>\n",
       "      <th>324</th>\n",
       "      <td>ביאליסטוק</td>\n",
       "      <td>580101202-0</td>\n",
       "      <td>3000</td>\n",
       "      <td>ירושלים</td>\n",
       "      <td>6624</td>\n",
       "      <td>גבעת שאול</td>\n",
       "      <td>5</td>\n",
       "      <td>53</td>\n",
       "    </tr>\n",
       "    <tr>\n",
       "      <th>325</th>\n",
       "      <td>ביאליסטוק</td>\n",
       "      <td>580101202-0</td>\n",
       "      <td>3000</td>\n",
       "      <td>ירושלים</td>\n",
       "      <td>996</td>\n",
       "      <td>בעל השאילתות</td>\n",
       "      <td>23</td>\n",
       "      <td>53</td>\n",
       "    </tr>\n",
       "    <tr>\n",
       "      <th>335</th>\n",
       "      <td>קרלין סטולין ביתר</td>\n",
       "      <td>580184612-0</td>\n",
       "      <td>3780</td>\n",
       "      <td>ביתר עילית</td>\n",
       "      <td>104</td>\n",
       "      <td>חת\"ם סופר</td>\n",
       "      <td>8</td>\n",
       "      <td>51</td>\n",
       "    </tr>\n",
       "    <tr>\n",
       "      <th>336</th>\n",
       "      <td>קרלין סטולין ביתר</td>\n",
       "      <td>580184612-0</td>\n",
       "      <td>3780</td>\n",
       "      <td>ביתר עילית</td>\n",
       "      <td>203</td>\n",
       "      <td>הרב ברים</td>\n",
       "      <td>12</td>\n",
       "      <td>51</td>\n",
       "    </tr>\n",
       "    <tr>\n",
       "      <th>472</th>\n",
       "      <td>אור ההלכה</td>\n",
       "      <td>580098663-0</td>\n",
       "      <td>3000</td>\n",
       "      <td>ירושלים</td>\n",
       "      <td>4962</td>\n",
       "      <td>הרב לופיאן</td>\n",
       "      <td>17</td>\n",
       "      <td>31</td>\n",
       "    </tr>\n",
       "    <tr>\n",
       "      <th>473</th>\n",
       "      <td>אור ההלכה</td>\n",
       "      <td>580098663-0</td>\n",
       "      <td>3000</td>\n",
       "      <td>ירושלים</td>\n",
       "      <td>4962</td>\n",
       "      <td>הרב לופיאן</td>\n",
       "      <td>1</td>\n",
       "      <td>31</td>\n",
       "    </tr>\n",
       "  </tbody>\n",
       "</table>\n",
       "</div>"
      ],
      "text/plain": [
       "                 שם_העמותה מס_עמותה_סניף  SETL_CODE  \\\n",
       "301  תלמוד שמביא לידי מעשה   580253151-5       3000   \n",
       "302  תלמוד שמביא לידי מעשה   580253151-5       3000   \n",
       "324              ביאליסטוק   580101202-0       3000   \n",
       "325              ביאליסטוק   580101202-0       3000   \n",
       "335      קרלין סטולין ביתר   580184612-0       3780   \n",
       "336      קרלין סטולין ביתר   580184612-0       3780   \n",
       "472              אור ההלכה   580098663-0       3000   \n",
       "473              אור ההלכה   580098663-0       3000   \n",
       "\n",
       "                           עיר  STR_CODE          רחוב HOUSE_NUM  \\\n",
       "301  ירושלים                         350        שטראוס        16   \n",
       "302  ירושלים                        4361      בתי מחסה         6   \n",
       "324  ירושלים                        6624     גבעת שאול         5   \n",
       "325  ירושלים                         996  בעל השאילתות        23   \n",
       "335  ביתר עילית                      104     חת\"ם סופר         8   \n",
       "336  ביתר עילית                      203      הרב ברים        12   \n",
       "472  ירושלים                        4962    הרב לופיאן        17   \n",
       "473  ירושלים                        4962    הרב לופיאן         1   \n",
       "\n",
       "     num_yeshiva_students  \n",
       "301                    56  \n",
       "302                    56  \n",
       "324                    53  \n",
       "325                    53  \n",
       "335                    51  \n",
       "336                    51  \n",
       "472                    31  \n",
       "473                    31  "
      ]
     },
     "execution_count": 114,
     "metadata": {},
     "output_type": "execute_result"
    }
   ],
   "source": [
    "gov_edu_yeshvia.loc[gov_edu_yeshvia.duplicated(subset=['מס_עמותה_סניף'],keep=False)]"
   ]
  },
  {
   "cell_type": "code",
   "execution_count": 115,
   "id": "e768250e",
   "metadata": {},
   "outputs": [
    {
     "data": {
      "text/plain": [
       "692"
      ]
     },
     "execution_count": 115,
     "metadata": {},
     "output_type": "execute_result"
    }
   ],
   "source": [
    "len(gov_edu_yeshvia)"
   ]
  },
  {
   "cell_type": "code",
   "execution_count": 116,
   "id": "a5a9ea3d",
   "metadata": {
    "scrolled": true
   },
   "outputs": [],
   "source": [
    "gov_edu_yeshvia.drop_duplicates(subset=['מס_עמותה_סניף'],keep='first',inplace=True)"
   ]
  },
  {
   "cell_type": "code",
   "execution_count": 117,
   "id": "17ef811f",
   "metadata": {
    "scrolled": true
   },
   "outputs": [
    {
     "data": {
      "text/plain": [
       "688"
      ]
     },
     "execution_count": 117,
     "metadata": {},
     "output_type": "execute_result"
    }
   ],
   "source": [
    "len(gov_edu_yeshvia)"
   ]
  },
  {
   "cell_type": "markdown",
   "id": "5bce238f",
   "metadata": {},
   "source": [
    "## עיגון על ידי רחוב ומספר בית "
   ]
  },
  {
   "cell_type": "code",
   "execution_count": 118,
   "id": "589f58c3",
   "metadata": {},
   "outputs": [],
   "source": [
    "bld_path=r'\\\\svm-nas\\GIS\\Yali\\Main_DataBase_By_Source\\MPI\\BNTL\\BNTL 2022\\jm_ApQZDNdNOE6B5XU_selections_122\\Jerusalem_Transportation_122.gdb'"
   ]
  },
  {
   "cell_type": "code",
   "execution_count": 119,
   "id": "8fbbab65",
   "metadata": {},
   "outputs": [],
   "source": [
    "addr_point=up_load_gdb(bld_path,'ADDRESS_POINT_Clip')"
   ]
  },
  {
   "cell_type": "code",
   "execution_count": 120,
   "id": "44764bca",
   "metadata": {},
   "outputs": [],
   "source": [
    "gov_edu_yeshvia_xy=pd.merge(addr_point[['SETL_CODE','STR_CODE','HOUSE_NUM','geometry']],gov_edu_yeshvia,on=['SETL_CODE','STR_CODE','HOUSE_NUM'])"
   ]
  },
  {
   "cell_type": "markdown",
   "id": "42654130",
   "metadata": {},
   "source": [
    "## עיגון על ידי רחוב שמרוכז באזור תנועה  "
   ]
  },
  {
   "cell_type": "code",
   "execution_count": 121,
   "id": "3e2f292b",
   "metadata": {
    "scrolled": true
   },
   "outputs": [
    {
     "name": "stderr",
     "output_type": "stream",
     "text": [
      "C:\\Users\\gidon\\Anaconda3\\envs\\geo_env\\lib\\site-packages\\pandas\\core\\reshape\\merge.py:916: FutureWarning: In a future version, the Index constructor will not infer numeric dtypes when passed object-dtype sequences (matching Series behavior)\n",
      "  key_col = Index(lvals).where(~mask_left, rvals)\n"
     ]
    }
   ],
   "source": [
    "gov_edu_yeshvia_without_xy=pd.merge(addr_point[['SETL_CODE','STR_CODE','HOUSE_NUM','geometry']],gov_edu_yeshvia,on=['SETL_CODE','STR_CODE','HOUSE_NUM'],how='right').query('geometry.isna()')"
   ]
  },
  {
   "cell_type": "code",
   "execution_count": 122,
   "id": "c865859f",
   "metadata": {},
   "outputs": [],
   "source": [
    "taz=up_load_shp(r'Y:\\New Netwroks\\4.0\\TAZ\\TAZ_V4_221113_Published.shp')"
   ]
  },
  {
   "cell_type": "code",
   "execution_count": 123,
   "id": "310a1477",
   "metadata": {},
   "outputs": [],
   "source": [
    "town_street_code_to_find=gov_edu_yeshvia_without_xy.drop_duplicates(subset=['SETL_CODE','STR_CODE'],keep='first')[['SETL_CODE','STR_CODE']]"
   ]
  },
  {
   "cell_type": "code",
   "execution_count": 124,
   "id": "d735ce07",
   "metadata": {},
   "outputs": [],
   "source": [
    "town_street_code_to_find['town_str_code']=town_street_code_to_find['SETL_CODE'].astype(str)+town_street_code_to_find['STR_CODE'].astype(str)"
   ]
  },
  {
   "cell_type": "code",
   "execution_count": 125,
   "id": "0f1191fb",
   "metadata": {},
   "outputs": [],
   "source": [
    "addr_point['town_str_code']=addr_point['SETL_CODE'].astype(str)+addr_point['STR_CODE'].astype(str)"
   ]
  },
  {
   "cell_type": "code",
   "execution_count": 126,
   "id": "23de942d",
   "metadata": {},
   "outputs": [],
   "source": [
    "addr_point_to_sum_by_taz=addr_point[['town_str_code','geometry']].loc[addr_point['town_str_code'].isin(list(town_street_code_to_find.town_str_code))]"
   ]
  },
  {
   "cell_type": "code",
   "execution_count": 127,
   "id": "fdbf35cd",
   "metadata": {},
   "outputs": [],
   "source": [
    "addr_point_to_sum_by_taz=gpd.sjoin(taz[['Taz_num','geometry']],addr_point_to_sum_by_taz)"
   ]
  },
  {
   "cell_type": "code",
   "execution_count": 128,
   "id": "1860e354",
   "metadata": {},
   "outputs": [],
   "source": [
    "addr_in_one_taz=addr_point_to_sum_by_taz.groupby('town_str_code')[['Taz_num']].nunique().query('Taz_num==1')"
   ]
  },
  {
   "cell_type": "code",
   "execution_count": 129,
   "id": "1b11c4db",
   "metadata": {},
   "outputs": [],
   "source": [
    "taz_point=make_point(taz)"
   ]
  },
  {
   "cell_type": "code",
   "execution_count": 130,
   "id": "7a7ab67c",
   "metadata": {},
   "outputs": [],
   "source": [
    "gov_edu_yeshvia_without_xy['town_str_code']=gov_edu_yeshvia_without_xy['SETL_CODE'].astype(str)+gov_edu_yeshvia_without_xy['STR_CODE'].astype(str)"
   ]
  },
  {
   "cell_type": "code",
   "execution_count": 131,
   "id": "ff2633ca",
   "metadata": {},
   "outputs": [],
   "source": [
    "addr_in_one_taz=pd.merge(addr_in_one_taz.reset_index(),taz_point[['Taz_num','centroid']],on='Taz_num')"
   ]
  },
  {
   "cell_type": "code",
   "execution_count": 132,
   "id": "a48b71ab",
   "metadata": {},
   "outputs": [],
   "source": [
    "gov_edu_yeshvia_with_xy_of_taz=pd.merge(addr_in_one_taz,gov_edu_yeshvia_without_xy.drop(columns=['geometry']),on='town_str_code',how='right').query('~centroid.isna()')"
   ]
  },
  {
   "cell_type": "code",
   "execution_count": 133,
   "id": "40359cb2",
   "metadata": {},
   "outputs": [],
   "source": [
    "gov_edu_yeshvia_with_xy_of_taz.rename(columns={'centroid':'geometry'},inplace=True)"
   ]
  },
  {
   "cell_type": "code",
   "execution_count": 134,
   "id": "aa357214",
   "metadata": {},
   "outputs": [],
   "source": [
    "gov_edu_yeshvia_without_xy=pd.merge(addr_in_one_taz,gov_edu_yeshvia_without_xy.drop(columns=['geometry']),on='town_str_code',how='right').query('centroid.isna()')"
   ]
  },
  {
   "cell_type": "markdown",
   "id": "a0ce9cfd",
   "metadata": {},
   "source": [
    "## עיגון על ידי יישוב שמרוכז באזור תנועה  "
   ]
  },
  {
   "cell_type": "code",
   "execution_count": 135,
   "id": "fc74435a",
   "metadata": {},
   "outputs": [],
   "source": [
    "town_path=r'\\\\FILE-SRV\\Jtmt\\projections_team\\GIS_backround\\INFO\\למ_ס\\אוכלוסיה\\pop_cbs.gdb'"
   ]
  },
  {
   "cell_type": "code",
   "execution_count": 136,
   "id": "fca2e459",
   "metadata": {},
   "outputs": [],
   "source": [
    "town_point=up_load_gdb(town_path,'yhsuv_cbs_pop_2020')"
   ]
  },
  {
   "cell_type": "code",
   "execution_count": 137,
   "id": "133be3e5",
   "metadata": {},
   "outputs": [],
   "source": [
    "town_point['SETL_CODE']=town_point['סמל_יישוב']"
   ]
  },
  {
   "cell_type": "code",
   "execution_count": 138,
   "id": "e9ae4b16",
   "metadata": {
    "scrolled": true
   },
   "outputs": [],
   "source": [
    "town_in_one_taz=unique_id_in_one_taz(gov_edu_yeshvia_without_xy,'SETL_CODE',addr_point,taz)"
   ]
  },
  {
   "cell_type": "code",
   "execution_count": 139,
   "id": "f89d5ae0",
   "metadata": {
    "scrolled": true
   },
   "outputs": [],
   "source": [
    "gov_edu_yeshvia_with_town_xy=pd.merge(town_point[['סמל_יישוב','geometry']],gov_edu_yeshvia_without_xy.loc[gov_edu_yeshvia_without_xy['SETL_CODE'].isin(town_in_one_taz)],left_on=['סמל_יישוב'],right_on=['SETL_CODE'])"
   ]
  },
  {
   "cell_type": "code",
   "execution_count": 140,
   "id": "00411a5c",
   "metadata": {
    "scrolled": true
   },
   "outputs": [],
   "source": [
    "gov_edu_yeshvia_without_xy=gov_edu_yeshvia_without_xy.loc[~gov_edu_yeshvia_without_xy['SETL_CODE'].isin(town_in_one_taz)]"
   ]
  },
  {
   "cell_type": "markdown",
   "id": "5c093b7a",
   "metadata": {},
   "source": [
    "## עיגון על ידי יישובים שמרוכזים באזור תנועה  "
   ]
  },
  {
   "cell_type": "code",
   "execution_count": 141,
   "id": "49c0646f",
   "metadata": {
    "scrolled": true
   },
   "outputs": [],
   "source": [
    "town_in_one_taz=many_towns_in_one_taz(gov_edu_yeshvia_without_xy,'SETL_CODE',town_point,taz)"
   ]
  },
  {
   "cell_type": "code",
   "execution_count": 142,
   "id": "2f47c6c4",
   "metadata": {
    "scrolled": true
   },
   "outputs": [],
   "source": [
    "gov_edu_yeshvia_with_town_xy_from_taz_withmany=pd.merge(town_point[['סמל_יישוב','geometry']],gov_edu_yeshvia_without_xy.loc[gov_edu_yeshvia_without_xy['SETL_CODE'].isin(town_in_one_taz)],left_on=['סמל_יישוב'],right_on=['SETL_CODE'])"
   ]
  },
  {
   "cell_type": "markdown",
   "id": "4de84f22",
   "metadata": {},
   "source": [
    "## ייצוא של רשומות ללא עיגון "
   ]
  },
  {
   "cell_type": "code",
   "execution_count": 143,
   "id": "1b50ef72",
   "metadata": {
    "scrolled": true
   },
   "outputs": [],
   "source": [
    "gov_edu_yeshvia_without_xy=gov_edu_yeshvia_without_xy.loc[~gov_edu_yeshvia_without_xy['SETL_CODE'].isin(town_in_one_taz)]"
   ]
  },
  {
   "cell_type": "code",
   "execution_count": 144,
   "id": "38ff150b",
   "metadata": {
    "scrolled": true
   },
   "outputs": [],
   "source": [
    "gov_edu_yeshvia_without_xy['city']=gov_edu_yeshvia_without_xy['עיר']"
   ]
  },
  {
   "cell_type": "code",
   "execution_count": 145,
   "id": "64345892",
   "metadata": {
    "scrolled": true
   },
   "outputs": [],
   "source": [
    "gov_edu_yeshvia_without_xy['\"street\"']='\"'+gov_edu_yeshvia_without_xy['רחוב']+'\"'"
   ]
  },
  {
   "cell_type": "code",
   "execution_count": 146,
   "id": "d9e9221f",
   "metadata": {
    "scrolled": true
   },
   "outputs": [],
   "source": [
    "gov_edu_yeshvia_without_xy['\"num\"']='\"'+gov_edu_yeshvia_without_xy['HOUSE_NUM'].astype(str)+'\"'"
   ]
  },
  {
   "cell_type": "code",
   "execution_count": 147,
   "id": "691a767f",
   "metadata": {
    "scrolled": true
   },
   "outputs": [],
   "source": [
    "gov_edu_yeshvia_without_xy.loc[gov_edu_yeshvia_without_xy['\"num\"']=='\"2022-03-01 00:00:00\"','\"num\"']=''"
   ]
  },
  {
   "cell_type": "code",
   "execution_count": 148,
   "id": "94f4b6b9",
   "metadata": {
    "scrolled": true
   },
   "outputs": [],
   "source": [
    "gov_edu_yeshvia_without_xy.loc[gov_edu_yeshvia_without_xy['\"num\"']=='\"0\"','\"num\"']=''"
   ]
  },
  {
   "cell_type": "code",
   "execution_count": 149,
   "id": "e0ab4bfc",
   "metadata": {
    "scrolled": true
   },
   "outputs": [],
   "source": [
    "gov_edu_yeshvia_without_xy.loc[gov_edu_yeshvia_without_xy['\"num\"']=='\"חורש\"','\"num\"']=''"
   ]
  },
  {
   "cell_type": "code",
   "execution_count": 159,
   "id": "e5e76b1d",
   "metadata": {},
   "outputs": [],
   "source": [
    "col=['city','\"street\"', '\"num\"']"
   ]
  },
  {
   "cell_type": "code",
   "execution_count": 160,
   "id": "3a2653cc",
   "metadata": {
    "scrolled": true
   },
   "outputs": [],
   "source": [
    "addresses=gov_edu_yeshvia_without_xy[col].to_csv('addresses.csv')"
   ]
  },
  {
   "cell_type": "markdown",
   "id": "5b40c2ea",
   "metadata": {},
   "source": [
    "## ייצירת שכבה"
   ]
  },
  {
   "cell_type": "code",
   "execution_count": 152,
   "id": "21fd023c",
   "metadata": {},
   "outputs": [],
   "source": [
    "lst=['gov_edu_yeshvia_with_town_xy','gov_edu_yeshvia_xy','gov_edu_yeshvia_with_xy_of_taz','gov_edu_yeshvia_with_town_xy_from_taz_withmany']\n",
    "\n",
    "for i in lst:\n",
    "    locals()[i]['source']= '{}'.format(i)"
   ]
  },
  {
   "cell_type": "code",
   "execution_count": 153,
   "id": "689ca502",
   "metadata": {},
   "outputs": [],
   "source": [
    "col=['geometry','num_yeshiva_students', 'שם_העמותה', 'מס_עמותה_סניף','source']"
   ]
  },
  {
   "cell_type": "code",
   "execution_count": 156,
   "id": "8a679901",
   "metadata": {},
   "outputs": [],
   "source": [
    "student_yeshiva=pd.concat([gov_edu_yeshvia_with_town_xy[col],gov_edu_yeshvia_xy[col],gov_edu_yeshvia_with_xy_of_taz[col],gov_edu_yeshvia_with_town_xy_from_taz_withmany[col]],axis=0)"
   ]
  },
  {
   "cell_type": "code",
   "execution_count": 169,
   "id": "37918aeb",
   "metadata": {},
   "outputs": [],
   "source": [
    "student_yeshiva.rename(columns={'מס_עמותה_סניף':'org_id','שם_העמותה':'org_name'},inplace=True)"
   ]
  },
  {
   "cell_type": "code",
   "execution_count": 170,
   "id": "daec7287",
   "metadata": {},
   "outputs": [
    {
     "name": "stderr",
     "output_type": "stream",
     "text": [
      "C:\\Users\\gidon\\Anaconda3\\envs\\geo_env\\lib\\site-packages\\geopandas\\io\\file.py:362: FutureWarning: pandas.Int64Index is deprecated and will be removed from pandas in a future version. Use pandas.Index with the appropriate dtype instead.\n",
      "  pd.Int64Index,\n",
      "C:\\Users\\gidon\\AppData\\Local\\Temp\\ipykernel_25332\\450756755.py:1: UserWarning: Column names longer than 10 characters will be truncated when saved to ESRI Shapefile.\n",
      "  student_yeshiva.to_file('student_yeshiva.shp')\n"
     ]
    }
   ],
   "source": [
    "student_yeshiva.to_file('student_yeshiva.shp')"
   ]
  }
 ],
 "metadata": {
  "kernelspec": {
   "display_name": "Python 3 (ipykernel)",
   "language": "python",
   "name": "python3"
  },
  "language_info": {
   "codemirror_mode": {
    "name": "ipython",
    "version": 3
   },
   "file_extension": ".py",
   "mimetype": "text/x-python",
   "name": "python",
   "nbconvert_exporter": "python",
   "pygments_lexer": "ipython3",
   "version": "3.10.4"
  },
  "toc": {
   "base_numbering": 1,
   "nav_menu": {},
   "number_sections": true,
   "sideBar": true,
   "skip_h1_title": false,
   "title_cell": "Table of Contents",
   "title_sidebar": "Contents",
   "toc_cell": false,
   "toc_position": {
    "height": "calc(100% - 180px)",
    "left": "10px",
    "top": "150px",
    "width": "152.358px"
   },
   "toc_section_display": true,
   "toc_window_display": true
  }
 },
 "nbformat": 4,
 "nbformat_minor": 5
}

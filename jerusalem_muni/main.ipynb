{
 "cells": [
  {
   "cell_type": "code",
   "execution_count": 1,
   "metadata": {},
   "outputs": [],
   "source": [
    "import pandas as pd\n",
    "import numpy as np\n",
    "import os\n",
    "import sys\n",
    "\n",
    "pd.set_option('display.max_rows', None)\n",
    "pd.set_option('display.max_columns', None)\n",
    "pd.set_option('display.float_format', lambda x: '%.2f' % x)"
   ]
  },
  {
   "cell_type": "code",
   "execution_count": 2,
   "metadata": {},
   "outputs": [],
   "source": [
    "cwd = os.getcwd()\n",
    "\n",
    "education_folder_path = os.path.dirname(cwd)\n",
    "\n",
    "sys.path.append(education_folder_path)"
   ]
  },
  {
   "cell_type": "code",
   "execution_count": 3,
   "metadata": {},
   "outputs": [],
   "source": [
    "from global_functions import remove_spaces_in_columns, up_load_df"
   ]
  },
  {
   "cell_type": "code",
   "execution_count": 4,
   "metadata": {},
   "outputs": [],
   "source": [
    "#בתי ספר וגנים מעיריית ירושלים\n",
    "JLM=up_load_df(r'{}\\background_files\\jerusalem_muni'.format(education_folder_path),'מוסדות בירושלים 2020')\n",
    "JLM = remove_spaces_in_columns(JLM)"
   ]
  },
  {
   "cell_type": "code",
   "execution_count": 5,
   "metadata": {},
   "outputs": [
    {
     "data": {
      "text/html": [
       "<div>\n",
       "<style scoped>\n",
       "    .dataframe tbody tr th:only-of-type {\n",
       "        vertical-align: middle;\n",
       "    }\n",
       "\n",
       "    .dataframe tbody tr th {\n",
       "        vertical-align: top;\n",
       "    }\n",
       "\n",
       "    .dataframe thead th {\n",
       "        text-align: right;\n",
       "    }\n",
       "</style>\n",
       "<table border=\"1\" class=\"dataframe\">\n",
       "  <thead>\n",
       "    <tr style=\"text-align: right;\">\n",
       "      <th></th>\n",
       "      <th>סמל_עירייה</th>\n",
       "      <th>סמל_מוסד</th>\n",
       "      <th>שלב_חינוך</th>\n",
       "      <th>מכיתה</th>\n",
       "      <th>עד_כיתה</th>\n",
       "      <th>סה\"כ_תלמידים</th>\n",
       "    </tr>\n",
       "  </thead>\n",
       "  <tbody>\n",
       "    <tr>\n",
       "      <th>0</th>\n",
       "      <td>21321.00</td>\n",
       "      <td>110106.00</td>\n",
       "      <td>יסודי</td>\n",
       "      <td>א</td>\n",
       "      <td>ו</td>\n",
       "      <td>230.00</td>\n",
       "    </tr>\n",
       "    <tr>\n",
       "      <th>1</th>\n",
       "      <td>21323.00</td>\n",
       "      <td>110312.00</td>\n",
       "      <td>יסודי</td>\n",
       "      <td>א</td>\n",
       "      <td>ח</td>\n",
       "      <td>347.00</td>\n",
       "    </tr>\n",
       "    <tr>\n",
       "      <th>2</th>\n",
       "      <td>21326.00</td>\n",
       "      <td>110155.00</td>\n",
       "      <td>יסודי</td>\n",
       "      <td>א</td>\n",
       "      <td>ו</td>\n",
       "      <td>534.00</td>\n",
       "    </tr>\n",
       "    <tr>\n",
       "      <th>3</th>\n",
       "      <td>21327.00</td>\n",
       "      <td>110171.00</td>\n",
       "      <td>יסודי</td>\n",
       "      <td>א</td>\n",
       "      <td>ו</td>\n",
       "      <td>331.00</td>\n",
       "    </tr>\n",
       "    <tr>\n",
       "      <th>4</th>\n",
       "      <td>21328.00</td>\n",
       "      <td>111112.00</td>\n",
       "      <td>יסודי</td>\n",
       "      <td>א</td>\n",
       "      <td>ו</td>\n",
       "      <td>367.00</td>\n",
       "    </tr>\n",
       "  </tbody>\n",
       "</table>\n",
       "</div>"
      ],
      "text/plain": [
       "   סמל_עירייה  סמל_מוסד שלב_חינוך מכיתה עד_כיתה  סה\"כ_תלמידים\n",
       "0    21321.00 110106.00     יסודי     א       ו        230.00\n",
       "1    21323.00 110312.00     יסודי     א       ח        347.00\n",
       "2    21326.00 110155.00     יסודי     א       ו        534.00\n",
       "3    21327.00 110171.00     יסודי     א       ו        331.00\n",
       "4    21328.00 111112.00     יסודי     א       ו        367.00"
      ]
     },
     "execution_count": 5,
     "metadata": {},
     "output_type": "execute_result"
    }
   ],
   "source": [
    "JLM.rename(columns={'סמל_חינוך': 'סמל_מוסד'}, inplace=True)\n",
    "\n",
    "JLM = JLM.drop(columns=['שם_מוסד', 'coordinate_x', 'coordinate_y', 'אגף', 'פיקוח', 'סוג_חינוך', 'מעמד_משפטי', 'מספר_כיתות', \"מס'_תלמידים_ז-ט\", \"מס'_תלמידים_י-יד\", 'קוד_אזור_סטיסטי', 'תאור_אזור_סטטיסטי', 'Unnamed:_18', 'Unnamed:_19'])\n",
    "\n",
    "JLM.head()"
   ]
  },
  {
   "cell_type": "code",
   "execution_count": 6,
   "metadata": {},
   "outputs": [],
   "source": [
    "# פונקציה להמרת כיתות לאותיות למספרים\n",
    "def get_grade_number(grade):\n",
    "    grade_map = {\n",
    "        '3': 3, '4': 4, '5': 5, 'א': 6, 'ב': 7, 'ג': 8, 'ד': 9, 'ה': 10, 'ו': 11, 'ז': 12, 'ח': 13, 'ט': 14, 'י': 15, 'יא': 16, 'יב': 17, 'יג': 18, 'יד': 19,\n",
    "    }\n",
    "    return grade_map.get(grade, np.nan)"
   ]
  },
  {
   "cell_type": "code",
   "execution_count": 7,
   "metadata": {},
   "outputs": [],
   "source": [
    "# חישוב מספר הכיתות\n",
    "JLM['מספר_כיתות'] = JLM.apply(lambda row: get_grade_number(row['עד_כיתה']) - get_grade_number(row['מכיתה']) + 1, axis=1)\n",
    "JLM['מספר_כיתות']\n",
    "\n",
    "# חלוקת התלמידים לפי כיתות\n",
    "JLM['תלמידים_לכיתה'] = JLM['סה\"כ_תלמידים'] / JLM['מספר_כיתות']"
   ]
  },
  {
   "cell_type": "code",
   "execution_count": 8,
   "metadata": {},
   "outputs": [],
   "source": [
    "# יצירת עמודות עבור כל כיתה\n",
    "grades = ['א', 'ב', 'ג', 'ד', 'ה', 'ו', 'ז', 'ח', 'ט', 'י', 'יא', 'יב', 'יג', 'יד']\n",
    "for grade in grades:\n",
    "    JLM[grade] = JLM.apply(lambda row: row['תלמידים_לכיתה'] if get_grade_number(row['מכיתה']) <= get_grade_number(grade) <= get_grade_number(row['עד_כיתה']) else 0, axis=1)\n",
    "\n",
    "# JLM.head(600)"
   ]
  },
  {
   "cell_type": "code",
   "execution_count": 9,
   "metadata": {},
   "outputs": [],
   "source": [
    "# מיפוי הכיתות לפי שכבות גיל\n",
    "ages = {\n",
    "    'kgarden': [3, 4, 5],\n",
    "    'ele': ['א', 'ב', 'ג', 'ד', 'ה', 'ו'],\n",
    "    'mid': ['ז', 'ח', 'ט'],\n",
    "    'high': ['י', 'יא', 'יב', 'יג', 'יד']\n",
    "}\n",
    "\n",
    "# פונקציה להמרת אותיות למספרים עבור השדה 'מכיתה' ו'עד כיתה'\n",
    "def class_to_num(c):\n",
    "    classes = {'א': 6, 'ב': 7, 'ג': 8, 'ד': 9, 'ה': 10, 'ו': 11, 'ז': 12, 'ח': 13, 'ט': 14, 'י': 15, 'יא': 16, 'יב': 17, 'יג': 18, 'יד': 19}\n",
    "    return classes.get(c, c)\n",
    "\n",
    "JLM['מכיתה_num'] = JLM['מכיתה'].apply(class_to_num)\n",
    "JLM['עד_כיתה_num'] = JLM['עד_כיתה'].apply(class_to_num)\n",
    "\n",
    "# פונקציה לחישוב מספר הכיתות לכל שכבת גיל\n",
    "def calc_classes_for_age(row, age_group):\n",
    "    # קבלת טווח הכיתות עבור כל שכבת גיל\n",
    "    if age_group == 'kgarden':\n",
    "        # גן ילדים\n",
    "        return sum([1 for x in ages['kgarden'] if row['מכיתה_num'] <= x <= row['עד_כיתה_num']])\n",
    "    elif age_group == 'ele':\n",
    "        # יסודי\n",
    "        return sum([1 for x in ages['ele'] if class_to_num(x) >= row['מכיתה_num'] and class_to_num(x) <= row['עד_כיתה_num']])\n",
    "    elif age_group == 'mid':\n",
    "        # חטיבת ביניים\n",
    "        return sum([1 for x in ages['mid'] if class_to_num(x) >= row['מכיתה_num'] and class_to_num(x) <= row['עד_כיתה_num']])\n",
    "    elif age_group == 'high':\n",
    "        # על יסודי\n",
    "        return sum([1 for x in ages['high'] if class_to_num(x) >= row['מכיתה_num'] and class_to_num(x) <= row['עד_כיתה_num']])\n",
    "    return 0\n",
    "\n",
    "# הוספת עמודות לכל שכבת גיל\n",
    "JLM['kgarden_class'] = JLM.apply(calc_classes_for_age, axis=1, age_group='kgarden')\n",
    "JLM['ele_class'] = JLM.apply(calc_classes_for_age, axis=1, age_group='ele')\n",
    "JLM['mid_class'] = JLM.apply(calc_classes_for_age, axis=1, age_group='mid')\n",
    "JLM['high_class'] = JLM.apply(calc_classes_for_age, axis=1, age_group='high')\n",
    "\n",
    "JLM = JLM.drop(columns=['מכיתה_num', 'עד_כיתה_num'])\n",
    "\n",
    "# JLM.head(600)"
   ]
  },
  {
   "cell_type": "code",
   "execution_count": 10,
   "metadata": {},
   "outputs": [],
   "source": [
    "# פונקציה לחישוב מספר התלמידים לפי שכבת גיל\n",
    "def calculate_students_by_class(row):\n",
    "    if row['שלב_חינוך'] == 'גני ילדים':\n",
    "        row['kgarden_stu'] = row['סה\"כ_תלמידים']\n",
    "    else:\n",
    "        row['kgarden_stu'] = 0\n",
    "    \n",
    "    # חישוב תלמידים לשכבת יסודי\n",
    "    row['ele_stu'] = row[ages['ele']].sum()\n",
    "    \n",
    "    # חישוב תלמידים לשכבת חטיבת ביניים\n",
    "    row['mid_stu'] = row[ages['mid']].sum()\n",
    "    \n",
    "    # חישוב תלמידים לשכבת תיכון\n",
    "    row['high_stu'] = row[ages['high']].sum()\n",
    "    \n",
    "    return row\n",
    "\n",
    "# עדכון כל שורה בטבלה עם הנתונים החדשים\n",
    "JLM = JLM.apply(calculate_students_by_class, axis=1)\n",
    "\n",
    "# JLM.head(600)"
   ]
  },
  {
   "cell_type": "code",
   "execution_count": 14,
   "metadata": {},
   "outputs": [],
   "source": [
    "# # הצגת התוצאה\n",
    "JLM = JLM.drop(columns=['סמל_עירייה', 'תלמידים_לכיתה', 'מספר_כיתות'])\n",
    "\n",
    "# JLM.head(600)\n",
    "\n",
    "JLM.to_excel('data.xlsx', index=False)"
   ]
  }
 ],
 "metadata": {
  "kernelspec": {
   "display_name": "creat_forecast_ad_hoc_env",
   "language": "python",
   "name": "python3"
  },
  "language_info": {
   "codemirror_mode": {
    "name": "ipython",
    "version": 3
   },
   "file_extension": ".py",
   "mimetype": "text/x-python",
   "name": "python",
   "nbconvert_exporter": "python",
   "pygments_lexer": "ipython3",
   "version": "3.11.5"
  }
 },
 "nbformat": 4,
 "nbformat_minor": 2
}

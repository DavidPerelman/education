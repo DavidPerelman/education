{
 "cells": [
  {
   "cell_type": "markdown",
   "metadata": {},
   "source": [
    "### ספריות\n"
   ]
  },
  {
   "cell_type": "code",
   "execution_count": 1,
   "metadata": {},
   "outputs": [],
   "source": [
    "import pandas as pd\n",
    "import numpy as np\n",
    "import os\n",
    "import sys\n",
    "\n",
    "pd.set_option('display.max_rows', None)\n",
    "pd.set_option('display.max_columns', None)\n",
    "pd.set_option('display.float_format', lambda x: '%.2f' % x)"
   ]
  },
  {
   "cell_type": "code",
   "execution_count": 2,
   "metadata": {},
   "outputs": [],
   "source": [
    "cwd = os.getcwd()\n",
    "\n",
    "education_folder_path = os.path.dirname(cwd)\n",
    "\n",
    "sys.path.append(education_folder_path)"
   ]
  },
  {
   "cell_type": "markdown",
   "metadata": {},
   "source": [
    "### פונקציות גלובליות\n"
   ]
  },
  {
   "cell_type": "code",
   "execution_count": 3,
   "metadata": {},
   "outputs": [],
   "source": [
    "from global_functions import remove_spaces_in_columns, up_load_df, first_15_division, equal_distribution_students, split_to_layers"
   ]
  },
  {
   "cell_type": "markdown",
   "metadata": {},
   "source": [
    "### העלאת טבלאות\n"
   ]
  },
  {
   "cell_type": "code",
   "execution_count": null,
   "metadata": {},
   "outputs": [],
   "source": [
    "# בתי ספר וגנים מעיריית ירושלים\n",
    "JLM=up_load_df(r'{}\\background_files\\jerusalem_muni'.format(education_folder_path),'מוסדות בירושלים 2020')\n",
    "JLM=remove_spaces_in_columns(JLM)"
   ]
  },
  {
   "cell_type": "code",
   "execution_count": null,
   "metadata": {},
   "outputs": [],
   "source": [
    "# קאורדינטות של מוסדות חינוך במרחב ירושלים\n",
    "JTMT_setls_schools_coordinates_with_src=up_load_df(r'{}\\background_files'.format(education_folder_path),'JTMT_setls_schools_coordinates_with_src')\n",
    "JTMT_setls_schools_coordinates_with_src=remove_spaces_in_columns(JTMT_setls_schools_coordinates_with_src)"
   ]
  },
  {
   "cell_type": "markdown",
   "metadata": {},
   "source": [
    "### עיבוד\n"
   ]
  },
  {
   "cell_type": "code",
   "execution_count": 6,
   "metadata": {},
   "outputs": [],
   "source": [
    "JLM.rename(columns={'סמל_חינוך': 'סמל_מוסד'}, inplace=True)\n",
    "\n",
    "JLM = JLM.drop(columns=['פיקוח', 'מעמד_משפטי', \"מס'_תלמידים_ז-ט\", \"מס'_תלמידים_י-יד\", 'קוד_אזור_סטיסטי', 'תאור_אזור_סטטיסטי', 'Unnamed:_18', 'Unnamed:_19'])\n",
    "\n",
    "# מחיקת שורות של גני ילדים\n",
    "JLM=JLM[JLM['שלב_חינוך'] != 'גני ילדים']"
   ]
  },
  {
   "cell_type": "code",
   "execution_count": 7,
   "metadata": {},
   "outputs": [],
   "source": [
    "# מחיקת שורות שבהן העמודה \"סהכ_תלמידים\" שווה לאפס\n",
    "JLM=JLM[JLM['סה\"כ_תלמידים'] != 0]"
   ]
  },
  {
   "cell_type": "code",
   "execution_count": 8,
   "metadata": {},
   "outputs": [],
   "source": [
    "# בדיקה אם יש מוסדות עם אותו סמל מוסד\n",
    "is_unique = JTMT_setls_schools_coordinates_with_src['סמל_מוסד'].is_unique"
   ]
  },
  {
   "cell_type": "code",
   "execution_count": 9,
   "metadata": {},
   "outputs": [],
   "source": [
    "# יצירת טבלה של כל המוסדות בלי קוארדינטות\n",
    "rows_with_zero = JLM[JLM['coordinate_x'] == 0]\n",
    "\n",
    "# יצירת טבלה של כל המוסדות עם קוארדינטות\n",
    "JLM = JLM[JLM['coordinate_x'] != 0]"
   ]
  },
  {
   "cell_type": "code",
   "execution_count": 10,
   "metadata": {},
   "outputs": [],
   "source": [
    "# הגדרת מקור קוארדינטות ל- jerusalem_muni\n",
    "JLM['SRC'] = 'jerusalem_muni'"
   ]
  },
  {
   "cell_type": "code",
   "execution_count": 11,
   "metadata": {},
   "outputs": [],
   "source": [
    "# הוספת עמודת SRC לטבלה של כל המוסדות בלי קוארדינטות\n",
    "rows_with_zero['SRC'] = ''"
   ]
  },
  {
   "cell_type": "code",
   "execution_count": 12,
   "metadata": {},
   "outputs": [],
   "source": [
    "# הוספת קוארדינטות לטבלה של כל המוסדות בלי קוארדינטות\n",
    "rows_with_zero = pd.merge(rows_with_zero, JTMT_setls_schools_coordinates_with_src[['סמל_מוסד', 'coordinate_x', 'coordinate_y', 'SRC']],\n",
    "                     on='סמל_מוסד', how='left')\n",
    "\n",
    "# עדכון העמודות coordinate_x, coordinate_y, SRC\n",
    "rows_with_zero['coordinate_x'] = rows_with_zero['coordinate_x_y']\n",
    "rows_with_zero['coordinate_y'] = rows_with_zero['coordinate_y_y']\n",
    "rows_with_zero['SRC'] = rows_with_zero['SRC_y']\n",
    "\n",
    "rows_with_zero = rows_with_zero.drop(['coordinate_x_x', 'coordinate_y_x', 'coordinate_x_y', 'coordinate_y_y', 'SRC_x', 'SRC_y'], axis=1)"
   ]
  },
  {
   "cell_type": "code",
   "execution_count": 13,
   "metadata": {},
   "outputs": [],
   "source": [
    "# מיזוג הטבלאות של כל המוסדות עם קוארדינטות אחרי עדכון הטבלה של כל המוסדות בלי קוארדינטות\n",
    "JLM=pd.concat([JLM, rows_with_zero], ignore_index=True)"
   ]
  },
  {
   "cell_type": "code",
   "execution_count": 14,
   "metadata": {},
   "outputs": [],
   "source": [
    "# שינוי סמל_עירייה ל-סמל_מוסד\n",
    "JLM['סמל_מוסד'] = JLM['סמל_עירייה']\n",
    "JLM.drop(columns='סמל_עירייה', inplace=True)"
   ]
  },
  {
   "cell_type": "code",
   "execution_count": 15,
   "metadata": {},
   "outputs": [],
   "source": [
    "# בדיקה אם יש מוסדות עם אותו סמל מוסד\n",
    "is_unique = JLM['סמל_מוסד'].is_unique"
   ]
  },
  {
   "cell_type": "code",
   "execution_count": 16,
   "metadata": {},
   "outputs": [],
   "source": [
    "# הגדרת רשימת הכיתות לטווח א עד יד'\n",
    "class_map = ['א', 'ב', 'ג', 'ד', 'ה', 'ו', 'ז', 'ח', 'ט', 'י', 'יא', 'יב', 'יג', 'יד']\n",
    "\n",
    "# הגדרת עמודות לכיתות עם NaN כערך ברירת מחדל\n",
    "for single_class in class_map:\n",
    "    JLM[f'כיתה_{single_class}'] = np.nan\n",
    "\n",
    "# פונקציה לחלוקה ראשונית של 15 תלמידים לכל כיתה בטווח\n",
    "JLM = JLM.apply(lambda row: first_15_division(class_map, row), axis=1)\n",
    "# JLM = JLM.apply(first_15_division(class_map), axis=1)"
   ]
  },
  {
   "cell_type": "code",
   "execution_count": 17,
   "metadata": {},
   "outputs": [],
   "source": [
    "# פונקציה לחלוקת התלמידים הנותרים שווה בשווה\n",
    "JLM = JLM.apply(lambda row: equal_distribution_students(class_map, row), axis=1)\n",
    "# JLM = JLM.apply(equal_distribution_students, axis=1)"
   ]
  },
  {
   "cell_type": "code",
   "execution_count": 18,
   "metadata": {},
   "outputs": [],
   "source": [
    "# הגדרת רשימת הכיתות לטווח א עד יד'\n",
    "class_map = ['כיתה_א', 'כיתה_ב', 'כיתה_ג', 'כיתה_ד', 'כיתה_ה', 'כיתה_ו', 'כיתה_ז', 'כיתה_ח', 'כיתה_ט', 'כיתה_י', 'כיתה_יא', 'כיתה_יב', 'כיתה_יג', 'כיתה_יד']\n",
    "\n",
    "# בדיקה בכל כיתה אם מספר התלמידים קטן מ-15 ועדכון ל-0\n",
    "for single_class in class_map:\n",
    "    JLM[single_class] = JLM[single_class].apply(lambda x: x if pd.isna(x) or x >= 15 else 0)"
   ]
  },
  {
   "cell_type": "code",
   "execution_count": 19,
   "metadata": {},
   "outputs": [],
   "source": [
    "# חלוקה לשכבות גיל\n",
    "ages = {\n",
    "    'ele': ['כיתה_א', 'כיתה_ב', 'כיתה_ג', 'כיתה_ד', 'כיתה_ה', 'כיתה_ו'],\n",
    "    'mid': ['כיתה_ז', 'כיתה_ח', 'כיתה_ט'],\n",
    "    'high': ['כיתה_י', 'כיתה_יא', 'כיתה_יב', 'כיתה_יג', 'כיתה_יד']\n",
    "}\n",
    "\n",
    "# חישוב מספר התלמידים לכל שכבת גיל\n",
    "JLM = split_to_layers(JLM, ages)\n",
    "\n",
    "# חלוקה למגזרים\n",
    "JLM.loc[JLM['אגף']=='ערבי','sector'] = 1\n",
    "JLM.loc[JLM['אגף']=='חרדי','sector'] = 2\n",
    "JLM.loc[JLM['אגף']=='כללי','sector'] = 3\n",
    "\n",
    "# שינוי שם של העמודות\n",
    "JLM.rename(columns={'סמל_מוסד': 'ID'}, inplace=True)\n",
    "JLM.rename(columns={'coordinate_x': 'x'}, inplace=True)\n",
    "JLM.rename(columns={'coordinate_y': 'y'}, inplace=True)\n",
    "\n",
    "JLM = JLM.drop(['אגף', 'שלב_חינוך', 'כיתה_א', 'כיתה_ב', 'כיתה_ג', 'כיתה_ד', 'כיתה_ה', 'כיתה_ו', 'כיתה_ז', 'כיתה_ח', 'כיתה_ט', 'כיתה_י', 'כיתה_יא', 'כיתה_יב', 'כיתה_יג', 'כיתה_יד', 'מספר_כיתות', 'סה\"כ_תלמידים', 'מכיתה', 'עד_כיתה', 'שם_מוסד', 'סוג_חינוך'], axis=1)"
   ]
  },
  {
   "cell_type": "markdown",
   "metadata": {},
   "source": [
    "### ייצוא\n"
   ]
  },
  {
   "cell_type": "code",
   "execution_count": 20,
   "metadata": {},
   "outputs": [],
   "source": [
    "JLM.to_excel(r'{}\\Intermediates\\JLM_final.xlsx'.format(cwd), index=False)"
   ]
  }
 ],
 "metadata": {
  "kernelspec": {
   "display_name": "creat_forecast_ad_hoc_env",
   "language": "python",
   "name": "python3"
  },
  "language_info": {
   "codemirror_mode": {
    "name": "ipython",
    "version": 3
   },
   "file_extension": ".py",
   "mimetype": "text/x-python",
   "name": "python",
   "nbconvert_exporter": "python",
   "pygments_lexer": "ipython3",
   "version": "3.11.5"
  }
 },
 "nbformat": 4,
 "nbformat_minor": 2
}

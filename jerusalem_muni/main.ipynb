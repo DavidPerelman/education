{
 "cells": [
  {
   "cell_type": "code",
   "execution_count": 1,
   "metadata": {},
   "outputs": [],
   "source": [
    "import pandas as pd\n",
    "import numpy as np\n",
    "import os\n",
    "import sys\n",
    "\n",
    "pd.set_option('display.max_rows', None)\n",
    "pd.set_option('display.max_columns', None)\n",
    "pd.set_option('display.float_format', lambda x: '%.2f' % x)"
   ]
  },
  {
   "cell_type": "code",
   "execution_count": 2,
   "metadata": {},
   "outputs": [],
   "source": [
    "cwd = os.getcwd()\n",
    "\n",
    "education_folder_path = os.path.dirname(cwd)\n",
    "\n",
    "sys.path.append(education_folder_path)"
   ]
  },
  {
   "cell_type": "code",
   "execution_count": 3,
   "metadata": {},
   "outputs": [],
   "source": [
    "from global_functions import remove_spaces_in_columns, up_load_df"
   ]
  },
  {
   "cell_type": "code",
   "execution_count": 4,
   "metadata": {},
   "outputs": [],
   "source": [
    "#בתי ספר וגנים מעיריית ירושלים\n",
    "JLM=up_load_df(r'{}\\background_files\\jerusalem_muni'.format(education_folder_path),'מוסדות בירושלים 2020')\n",
    "JLM = remove_spaces_in_columns(JLM)"
   ]
  },
  {
   "cell_type": "code",
   "execution_count": null,
   "metadata": {},
   "outputs": [],
   "source": [
    "JLM.rename(columns={'סמל_חינוך': 'סמל_מוסד'}, inplace=True)\n",
    "\n",
    "JLM = JLM.drop(columns=['שם_מוסד', 'coordinate_x', 'coordinate_y', 'אגף', 'פיקוח', 'סוג_חינוך', 'מעמד_משפטי', 'מספר_כיתות', \"מס'_תלמידים_ז-ט\", \"מס'_תלמידים_י-יד\", 'קוד_אזור_סטיסטי', 'תאור_אזור_סטטיסטי', 'Unnamed:_18', 'Unnamed:_19'])\n",
    "\n",
    "JLM.head()"
   ]
  },
  {
   "cell_type": "code",
   "execution_count": 6,
   "metadata": {},
   "outputs": [],
   "source": [
    "# פונקציה להמרת כיתות לאותיות למספרים\n",
    "def get_grade_number(grade):\n",
    "    grade_map = {\n",
    "        'א': 1, 'ב': 2, 'ג': 3, 'ד': 4, 'ה': 5, 'ו': 6,\n",
    "        'ז': 7, 'ח': 8, 'ט': 9, 'י': 10, 'יא': 11, 'יב': 12, 'יג': 13, 'יד': 14,\n",
    "        '3': 3, '4': 4, '5': 5  # עבור גני ילדים\n",
    "    }\n",
    "    return grade_map.get(grade, np.nan)"
   ]
  },
  {
   "cell_type": "code",
   "execution_count": 7,
   "metadata": {},
   "outputs": [],
   "source": [
    "# חישוב מספר הכיתות\n",
    "JLM['מספר_כיתות'] = JLM.apply(lambda row: get_grade_number(row['עד_כיתה']) - get_grade_number(row['מכיתה']) + 1, axis=1)\n",
    "JLM['מספר_כיתות']\n",
    "\n",
    "# חלוקת התלמידים לפי כיתות\n",
    "JLM['תלמידים_לכיתה'] = JLM['סה\"כ_תלמידים'] / JLM['מספר_כיתות']"
   ]
  },
  {
   "cell_type": "code",
   "execution_count": 8,
   "metadata": {},
   "outputs": [],
   "source": [
    "# יצירת עמודות עבור כל כיתה\n",
    "grades = ['א', 'ב', 'ג', 'ד', 'ה', 'ו', 'ז', 'ח', 'ט', 'י', 'יא', 'יב', 'יג', 'יד']\n",
    "for grade in grades:\n",
    "    JLM[grade] = JLM.apply(lambda row: row['תלמידים_לכיתה'] if get_grade_number(row['מכיתה']) <= get_grade_number(grade) <= get_grade_number(row['עד_כיתה']) else 0, axis=1)\n",
    "\n",
    "# JLM.head(600)"
   ]
  },
  {
   "cell_type": "code",
   "execution_count": null,
   "metadata": {},
   "outputs": [],
   "source": [
    "# מיפוי הכיתות לפי שכבות גיל\n",
    "ages = {\n",
    "    'kgarden': [3, 4, 5],\n",
    "    'ele': ['א', 'ב', 'ג', 'ד', 'ה', 'ו'],\n",
    "    'mid': ['ז', 'ח', 'ט'],\n",
    "    'high': ['י', 'יא', 'יב', 'יג', 'יד']\n",
    "}\n",
    "\n",
    "# פונקציה להמרת אותיות למספרים עבור השדה 'מכיתה' ו'עד כיתה'\n",
    "def class_to_num(c):\n",
    "    classes = {'א': 6, 'ב': 7, 'ג': 8, 'ד': 9, 'ה': 10, 'ו': 11, 'ז': 12, 'ח': 13, 'ט': 14, 'י': 15, 'יא': 16, 'יב': 17, 'יג': 18, 'יד': 19}\n",
    "    return classes.get(c, c)\n",
    "\n",
    "JLM['מכיתה_num'] = JLM['מכיתה'].apply(class_to_num)\n",
    "JLM['עד_כיתה_num'] = JLM['עד_כיתה'].apply(class_to_num)\n",
    "\n",
    "# פונקציה לחישוב מספר הכיתות לכל שכבת גיל\n",
    "def calc_classes_for_age(row, age_group):\n",
    "    # קבלת טווח הכיתות עבור כל שכבת גיל\n",
    "    if age_group == 'kgarden':\n",
    "        # גן ילדים\n",
    "        return sum([1 for x in ages['kgarden'] if row['מכיתה_num'] <= x <= row['עד_כיתה_num']])\n",
    "    elif age_group == 'ele':\n",
    "        # יסודי\n",
    "        return sum([1 for x in ages['ele'] if class_to_num(x) >= row['מכיתה_num'] and class_to_num(x) <= row['עד_כיתה_num']])\n",
    "    elif age_group == 'mid':\n",
    "        # חטיבת ביניים\n",
    "        return sum([1 for x in ages['mid'] if class_to_num(x) >= row['מכיתה_num'] and class_to_num(x) <= row['עד_כיתה_num']])\n",
    "    elif age_group == 'high':\n",
    "        # על יסודי\n",
    "        return sum([1 for x in ages['high'] if class_to_num(x) >= row['מכיתה_num'] and class_to_num(x) <= row['עד_כיתה_num']])\n",
    "    return 0\n",
    "\n",
    "# הוספת עמודות לכל שכבת גיל\n",
    "JLM['kgarden_class'] = JLM.apply(calc_classes_for_age, axis=1, age_group='kgarden')\n",
    "JLM['ele_class'] = JLM.apply(calc_classes_for_age, axis=1, age_group='ele')\n",
    "JLM['mid_class'] = JLM.apply(calc_classes_for_age, axis=1, age_group='mid')\n",
    "JLM['high_class'] = JLM.apply(calc_classes_for_age, axis=1, age_group='high')\n",
    "\n",
    "JLM = JLM.drop(columns=['מכיתה_num', 'עד_כיתה_num'])\n",
    "\n",
    "JLM.head(600)"
   ]
  },
  {
   "cell_type": "code",
   "execution_count": 11,
   "metadata": {},
   "outputs": [],
   "source": [
    "# פונקציה לסיווג לפי שכבת גיל\n",
    "def classify_students(row, grades_dict):\n",
    "    # אם זה גני ילדים, נכניס את כל התלמידים לקטגוריה kgarden\n",
    "    if row['שלב_חינוך'] == 'גני ילדים':\n",
    "        return pd.Series({'kgarden_stu': row['סה\"כ_תלמידים'], 'ele_stu': 0, 'mid_stu': 0, 'high_stu': 0})\n",
    "    \n",
    "    # חישוב מספר הכיתות בטווח\n",
    "    from_grade = get_grade_number(row['מכיתה'])\n",
    "    to_grade = get_grade_number(row['עד_כיתה'])\n",
    "    \n",
    "    # חלוקה לפי שכבות גיל\n",
    "    ele_students = 0\n",
    "    mid_students = 0\n",
    "    high_students = 0\n",
    "\n",
    "    # נבדוק באיזה טווח כיתות הערכים ונחלק את התלמידים לפי שכבת גיל\n",
    "    if from_grade <= 6 and to_grade >= 1:  # יסודי\n",
    "        ele_students = row['סה\"כ_תלמידים'] * len([g for g in grades_dict['ele'] if from_grade <= get_grade_number(g) <= to_grade]) / (to_grade - from_grade + 1)\n",
    "    \n",
    "    if from_grade <= 9 and to_grade >= 7:  # חטיבת ביניים\n",
    "        mid_students = row['סה\"כ_תלמידים'] * len([g for g in grades_dict['mid'] if from_grade <= get_grade_number(g) <= to_grade]) / (to_grade - from_grade + 1)\n",
    "    \n",
    "    if from_grade >= 10:  # תיכון\n",
    "        high_students = row['סה\"כ_תלמידים'] * len([g for g in grades_dict['high'] if from_grade <= get_grade_number(g) <= to_grade]) / (to_grade - from_grade + 1)\n",
    "        print(row['סמל_מוסד'])\n",
    "        print(high_students)\n",
    "    return pd.Series({'kgarden_stu': 0, 'ele_stu': ele_students, 'mid_stu': mid_students, 'high_stu': high_students})"
   ]
  },
  {
   "cell_type": "code",
   "execution_count": null,
   "metadata": {},
   "outputs": [],
   "source": [
    "# המרת תלמידים לפי שכבות הגיל שהוגדרו\n",
    "ages = {'kgarden':[3, 4, 5],'ele':['א', 'ב', 'ג', 'ד','ה','ו'],'mid':['ז', 'ח', 'ט'], 'high':['י', 'יא', 'יב', 'יג', 'יד']}\n",
    "\n",
    "# הוספת עמודות של התלמידים לפי שכבת גיל\n",
    "JLM[['kgarden_stu', 'ele_stu', 'mid_stu', 'high_stu']] = JLM.apply(lambda row: classify_students(row, ages), axis=1)\n",
    "\n",
    "# תצוגת הדאטה פריים הסופי\n",
    "# JLM.head()\n"
   ]
  },
  {
   "cell_type": "code",
   "execution_count": 21,
   "metadata": {},
   "outputs": [],
   "source": [
    "# פונקציה לחישוב מספר הכיתות או הגנים\n",
    "def calculate_classes(row, grades_dict):\n",
    "    # גני ילדים\n",
    "    if row['שלב_חינוך'] == 'גני ילדים':\n",
    "        from_grade = get_grade_number(row['מכיתה'])\n",
    "        to_grade = get_grade_number(row['עד_כיתה'])\n",
    "        \n",
    "        # אם יש ערך במספרי הכיתות ומספר התלמידים גדול מאפס\n",
    "        if pd.notna(from_grade) and pd.notna(to_grade) and row['סה\"כ_תלמידים'] > 0:\n",
    "            num_grades = to_grade - from_grade + 1  # מספר הגנים\n",
    "            kgarden_class = num_grades\n",
    "        else:\n",
    "            kgarden_class = 0\n",
    "        return pd.Series({'kgarden_class': kgarden_class, 'ele_class': 0, 'mid_class': 0, 'high_class': 0})\n",
    "    \n",
    "    # חישוב מספר הכיתות בטווח\n",
    "    from_grade = get_grade_number(row['מכיתה'])\n",
    "    to_grade = get_grade_number(row['עד_כיתה'])\n",
    "    \n",
    "    # מספר הכיתות לכל שכבת גיל\n",
    "    ele_class = 0\n",
    "    mid_class = 0\n",
    "    high_class = 0\n",
    "    \n",
    "    # חישוב מספר הכיתות בכל שכבת גיל\n",
    "    if from_grade <= 6 and to_grade >= 1:  # יסודי (א-ו)\n",
    "        ele_class = len([g for g in grades_dict['ele'] if from_grade <= get_grade_number(g) <= to_grade])\n",
    "    \n",
    "    if from_grade <= 9 and to_grade >= 7:  # חטיבת ביניים (ז-ט)\n",
    "        mid_class = len([g for g in grades_dict['mid'] if from_grade <= get_grade_number(g) <= to_grade])\n",
    "    \n",
    "    if from_grade >= 10:  # על יסודי (י-יד)\n",
    "        high_class = len([g for g in grades_dict['high'] if from_grade <= get_grade_number(g) <= to_grade])\n",
    "        print(high_class)\n",
    "    \n",
    "    return pd.Series({'kgarden_class': 0, 'ele_class': ele_class, 'mid_class': mid_class, 'high_class': high_class})"
   ]
  },
  {
   "cell_type": "code",
   "execution_count": null,
   "metadata": {},
   "outputs": [],
   "source": [
    "# הגדרת המילון עבור שכבות גיל\n",
    "ages = {'kgarden':[3, 4, 5],'ele':['א', 'ב', 'ג', 'ד','ה','ו'],'mid':['ז', 'ח', 'ט'], 'high':['י', 'יא', 'יב', 'יג', 'יד']}\n",
    "\n",
    "# חישוב הכיתות עבור כל מוסד\n",
    "JLM[['kgarden_class', 'ele_class', 'mid_class', 'high_class']] = JLM.apply(lambda row: calculate_classes(row, ages), axis=1)\n",
    "\n",
    "# הצגת התוצאה\n",
    "JLM = JLM.drop(columns=['תלמידים_לכיתה'])\n",
    "\n",
    "JLM.head(600)\n",
    "\n",
    "JLM.to_excel('data.xlsx', index=False)"
   ]
  }
 ],
 "metadata": {
  "kernelspec": {
   "display_name": "creat_forecast_ad_hoc_env",
   "language": "python",
   "name": "python3"
  },
  "language_info": {
   "codemirror_mode": {
    "name": "ipython",
    "version": 3
   },
   "file_extension": ".py",
   "mimetype": "text/x-python",
   "name": "python",
   "nbconvert_exporter": "python",
   "pygments_lexer": "ipython3",
   "version": "3.11.5"
  }
 },
 "nbformat": 4,
 "nbformat_minor": 2
}

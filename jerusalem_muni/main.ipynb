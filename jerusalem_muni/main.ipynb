{
 "cells": [
  {
   "cell_type": "code",
   "execution_count": 1,
   "metadata": {},
   "outputs": [],
   "source": [
    "import pandas as pd\n",
    "import numpy as np\n",
    "import os\n",
    "import sys\n",
    "\n",
    "pd.set_option('display.max_rows', None)\n",
    "pd.set_option('display.max_columns', None)\n",
    "pd.set_option('display.float_format', lambda x: '%.2f' % x)"
   ]
  },
  {
   "cell_type": "code",
   "execution_count": 2,
   "metadata": {},
   "outputs": [],
   "source": [
    "cwd = os.getcwd()\n",
    "\n",
    "education_folder_path = os.path.dirname(cwd)\n",
    "\n",
    "sys.path.append(education_folder_path)"
   ]
  },
  {
   "cell_type": "code",
   "execution_count": 3,
   "metadata": {},
   "outputs": [],
   "source": [
    "from global_functions import remove_spaces_in_columns, up_load_df"
   ]
  },
  {
   "cell_type": "code",
   "execution_count": 4,
   "metadata": {},
   "outputs": [],
   "source": [
    "#בתי ספר וגנים מעיריית ירושלים\n",
    "JLM=up_load_df(r'{}\\background_files\\jerusalem_muni'.format(education_folder_path),'מוסדות בירושלים 2020')\n",
    "JLM=remove_spaces_in_columns(JLM)"
   ]
  },
  {
   "cell_type": "code",
   "execution_count": 5,
   "metadata": {},
   "outputs": [],
   "source": [
    "#קאורדינטות של מוסדות חינוך במרחב ירושלים\n",
    "JTMT_setls_schools_coordinates_with_src=up_load_df(r'{}\\background_files'.format(education_folder_path),'JTMT_setls_schools_coordinates_with_src')\n",
    "JTMT_setls_schools_coordinates_with_src=remove_spaces_in_columns(JTMT_setls_schools_coordinates_with_src)"
   ]
  },
  {
   "cell_type": "code",
   "execution_count": 6,
   "metadata": {},
   "outputs": [],
   "source": [
    "JLM.rename(columns={'סמל_חינוך': 'סמל_מוסד'}, inplace=True)\n",
    "\n",
    "JLM = JLM.drop(columns=['פיקוח', 'מעמד_משפטי', \"מס'_תלמידים_ז-ט\", \"מס'_תלמידים_י-יד\", 'קוד_אזור_סטיסטי', 'תאור_אזור_סטטיסטי', 'Unnamed:_18', 'Unnamed:_19'])\n",
    "\n",
    "JLM=JLM[JLM['שלב_חינוך'] != 'גני ילדים']"
   ]
  },
  {
   "cell_type": "code",
   "execution_count": 7,
   "metadata": {},
   "outputs": [],
   "source": [
    "JLM.to_excel('JLM_without_garden.xlsx', index=False)"
   ]
  },
  {
   "cell_type": "code",
   "execution_count": null,
   "metadata": {},
   "outputs": [],
   "source": [
    "# סינון שורות שבהן העמודה \"סה\"כ\" אינה שווה לאפס\n",
    "JLM=JLM[JLM['סה\"כ_תלמידים'] != 0]"
   ]
  },
  {
   "cell_type": "code",
   "execution_count": null,
   "metadata": {},
   "outputs": [],
   "source": [
    "JTMT_setls_schools_coordinates_with_src.head()"
   ]
  },
  {
   "cell_type": "code",
   "execution_count": null,
   "metadata": {},
   "outputs": [],
   "source": [
    "is_unique = JTMT_setls_schools_coordinates_with_src['סמל_מוסד'].is_unique\n",
    "is_unique"
   ]
  },
  {
   "cell_type": "code",
   "execution_count": null,
   "metadata": {},
   "outputs": [],
   "source": [
    "rows_with_zero = JLM[JLM['coordinate_x'] == 0]\n",
    "JLM = JLM[JLM['coordinate_x'] != 0]"
   ]
  },
  {
   "cell_type": "code",
   "execution_count": null,
   "metadata": {},
   "outputs": [],
   "source": [
    "JLM['SRC'] = 'jerusalem_muni'"
   ]
  },
  {
   "cell_type": "code",
   "execution_count": null,
   "metadata": {},
   "outputs": [],
   "source": [
    "rows_with_zero['SRC'] = ''"
   ]
  },
  {
   "cell_type": "code",
   "execution_count": null,
   "metadata": {},
   "outputs": [],
   "source": [
    "# מיזוג הטבלאות לפי העמודה \"סמל_מוסד\"\n",
    "rows_with_zero = pd.merge(rows_with_zero, JTMT_setls_schools_coordinates_with_src[['סמל_מוסד', 'coordinate_x', 'coordinate_y', 'SRC']],\n",
    "                     on='סמל_מוסד', how='left')\n",
    "\n",
    "# עדכון העמודות המקוריות\n",
    "rows_with_zero['coordinate_x'] = rows_with_zero['coordinate_x_y']\n",
    "rows_with_zero['coordinate_y'] = rows_with_zero['coordinate_y_y']\n",
    "rows_with_zero['SRC'] = rows_with_zero['SRC_y']\n",
    "\n",
    "# מחיקת העמודות המיותרות\n",
    "rows_with_zero = rows_with_zero.drop(['coordinate_x_x', 'coordinate_y_x', 'coordinate_x_y', 'coordinate_y_y', 'SRC_x', 'SRC_y'], axis=1)\n",
    "rows_with_zero.head()"
   ]
  },
  {
   "cell_type": "code",
   "execution_count": null,
   "metadata": {},
   "outputs": [],
   "source": [
    "# מיזוג הטבלאות\n",
    "JLM=pd.concat([JLM, rows_with_zero], ignore_index=True)"
   ]
  },
  {
   "cell_type": "code",
   "execution_count": null,
   "metadata": {},
   "outputs": [],
   "source": [
    "JLM['סמל_מוסד'] = JLM['סמל_עירייה']\n",
    "JLM.drop(columns='סמל_עירייה', inplace=True)"
   ]
  },
  {
   "cell_type": "code",
   "execution_count": null,
   "metadata": {},
   "outputs": [],
   "source": [
    "is_unique = JLM['סמל_מוסד'].is_unique\n",
    "is_unique"
   ]
  },
  {
   "cell_type": "code",
   "execution_count": null,
   "metadata": {},
   "outputs": [],
   "source": [
    "JLM.head()"
   ]
  },
  {
   "cell_type": "code",
   "execution_count": null,
   "metadata": {},
   "outputs": [],
   "source": [
    "JLM.to_excel('JLM_1.xlsx', index=False)"
   ]
  },
  {
   "cell_type": "code",
   "execution_count": null,
   "metadata": {},
   "outputs": [],
   "source": [
    "# הגדרת רשימת הכיתות לטווח א' עד ח'\n",
    "class_map = ['א', 'ב', 'ג', 'ד', 'ה', 'ו', 'ז', 'ח', 'ט', 'י', 'יא', 'יב', 'יג', 'יד']\n",
    "\n",
    "# הגדרת עמודות לכיתות עם NaN כערך ברירת מחדל\n",
    "for single_class in class_map:\n",
    "    JLM[f'כיתה_{single_class}'] = np.nan\n",
    "\n",
    "# פונקציה לחישוב מספר התלמידים לכל כיתה בטווח\n",
    "def first_15_division(row):\n",
    "    start_idx = class_map.index(row['מכיתה'])\n",
    "    end_idx = class_map.index(row['עד_כיתה'])\n",
    "    class_range = class_map[start_idx:end_idx + 1]\n",
    "\n",
    "    students_remaining = row['סה\"כ_תלמידים']\n",
    "    for single_class in class_range:\n",
    "        students_in_class = min(15, students_remaining)\n",
    "        row[f'כיתה_{single_class}'] = students_in_class\n",
    "        students_remaining -= students_in_class\n",
    "\n",
    "    row['סה\"כ_תלמידים'] = students_remaining\n",
    "    return row\n",
    "\n",
    "\n",
    "# החלת הפונקציה על כל השורות בטבלה\n",
    "JLM = JLM.apply(first_15_division, axis=1)\n",
    "\n",
    "# הצגת הטבלה החדשה\n",
    "JLM.head()"
   ]
  },
  {
   "cell_type": "code",
   "execution_count": null,
   "metadata": {},
   "outputs": [],
   "source": [
    "# פונקציה לחלוקת התלמידים הנותרים שווה בשווה\n",
    "def equal_distribution_students(row):\n",
    "    # איתור הטווח של הכיתות\n",
    "    start_idx = class_map.index(row['מכיתה'])\n",
    "    end_idx = class_map.index(row['עד_כיתה'])\n",
    "    class_range = class_map[start_idx:end_idx + 1]\n",
    "    \n",
    "    # חישוב מספר התלמידים הנותרים\n",
    "    students_remaining = row['סה\"כ_תלמידים']\n",
    "    num_of_classes = len(class_range)\n",
    "    \n",
    "    if num_of_classes > 0:\n",
    "        # חלוקת התלמידים הנותרים שווה בשווה לכיתות בטווח\n",
    "        students_per_class = students_remaining / num_of_classes\n",
    "        for single_class in class_range:\n",
    "            # אם יש כבר ערך בעמודת הכיתה, נוסיף את הערך החדש\n",
    "            if pd.notna(row[f'כיתה_{single_class}']):\n",
    "                row[f'כיתה_{single_class}'] += students_per_class\n",
    "            else:\n",
    "                row[f'כיתה_{single_class}'] = students_per_class\n",
    "\n",
    "    # עדכון סה\"כ תלמידים לאחר חלוקה\n",
    "    row['סה\"כ_תלמידים'] = 0\n",
    "    return row\n",
    "\n",
    "# החלת הפונקציה על כל השורות בטבלה\n",
    "JLM = JLM.apply(equal_distribution_students, axis=1)\n",
    "\n",
    "# הצגת הטבלה החדשה\n",
    "JLM.head()"
   ]
  },
  {
   "cell_type": "code",
   "execution_count": null,
   "metadata": {},
   "outputs": [],
   "source": [
    "class_map = ['כיתה_א', 'כיתה_ב', 'כיתה_ג', 'כיתה_ד', 'כיתה_ה', 'כיתה_ו', 'כיתה_ז', 'כיתה_ח', 'כיתה_ט', 'כיתה_י', 'כיתה_יא', 'כיתה_יב', 'כיתה_יג', 'כיתה_יד']\n",
    "\n",
    "# בדיקה ועדכון כל תא אם מספר התלמידים קטן מ-15\n",
    "for single_class in class_map:\n",
    "    JLM[single_class] = JLM[single_class].apply(lambda x: x if pd.isna(x) or x >= 15 else 0)\n",
    "\n",
    "# הצגת הטבלה המעודכנת\n",
    "JLM.head()"
   ]
  },
  {
   "cell_type": "code",
   "execution_count": null,
   "metadata": {},
   "outputs": [],
   "source": [
    "# חלוקה לשכבות גיל\n",
    "ages = {\n",
    "    'ele': ['כיתה_א', 'כיתה_ב', 'כיתה_ג', 'כיתה_ד', 'כיתה_ה', 'כיתה_ו'],\n",
    "    'mid': ['כיתה_ז', 'כיתה_ח', 'כיתה_ט'],\n",
    "    'high': ['כיתה_י', 'כיתה_יא', 'כיתה_יב', 'כיתה_יג', 'כיתה_יד']\n",
    "}\n",
    "\n",
    "# חישוב מספר התלמידים לכל שכבה\n",
    "JLM['ele_stu'] = JLM[ages['ele']].sum(axis=1)\n",
    "JLM['mid_stu'] = JLM[ages['mid']].sum(axis=1)\n",
    "JLM['high_stu'] = JLM[ages['high']].sum(axis=1)\n",
    "\n",
    "#sector\n",
    "JLM.loc[JLM['אגף']=='ערבי','sector'] = 1\n",
    "JLM.loc[JLM['אגף']=='חרדי','sector'] = 2\n",
    "JLM.loc[JLM['אגף']=='כללי','sector'] = 3\n",
    "\n",
    "JLM_final = JLM.drop(['אגף', 'שלב_חינוך', 'כיתה_א', 'כיתה_ב', 'כיתה_ג', 'כיתה_ד', 'כיתה_ה', 'כיתה_ו', 'כיתה_ז', 'כיתה_ח', 'כיתה_ט', 'כיתה_י', 'כיתה_יא', 'כיתה_יב', 'כיתה_יג', 'כיתה_יד', 'מספר_כיתות', 'סה\"כ_תלמידים', 'מכיתה', 'עד_כיתה', 'שם_מוסד', 'סוג_חינוך'], axis=1)\n",
    "\n",
    "JLM_final.rename(columns={'סמל_מוסד': 'ID'}, inplace=True)\n",
    "\n",
    "JLM_final.rename(columns={'coordinate_x': 'x'}, inplace=True)\n",
    "\n",
    "JLM_final.rename(columns={'coordinate_y': 'y'}, inplace=True)"
   ]
  },
  {
   "cell_type": "code",
   "execution_count": null,
   "metadata": {},
   "outputs": [],
   "source": [
    "JLM.to_excel(r'{}\\JLM.xlsx'.format(cwd), index=False)"
   ]
  },
  {
   "cell_type": "code",
   "execution_count": null,
   "metadata": {},
   "outputs": [],
   "source": [
    "JLM.head()"
   ]
  },
  {
   "cell_type": "code",
   "execution_count": null,
   "metadata": {},
   "outputs": [],
   "source": [
    "JLM_final.head()"
   ]
  },
  {
   "cell_type": "code",
   "execution_count": null,
   "metadata": {},
   "outputs": [],
   "source": [
    "JLM_final.to_excel('JLM_final_1.xlsx', index=False)"
   ]
  }
 ],
 "metadata": {
  "kernelspec": {
   "display_name": "creat_forecast_ad_hoc_env",
   "language": "python",
   "name": "python3"
  },
  "language_info": {
   "codemirror_mode": {
    "name": "ipython",
    "version": 3
   },
   "file_extension": ".py",
   "mimetype": "text/x-python",
   "name": "python",
   "nbconvert_exporter": "python",
   "pygments_lexer": "ipython3",
   "version": "3.11.5"
  }
 },
 "nbformat": 4,
 "nbformat_minor": 2
}

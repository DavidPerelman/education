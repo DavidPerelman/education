{
 "cells": [
  {
   "cell_type": "code",
   "execution_count": 1,
   "metadata": {},
   "outputs": [],
   "source": [
    "import pandas as pd\n",
    "import geopandas as gpd\n",
    "import numpy as np\n",
    "from shapely.geometry import Point\n",
    "import os\n",
    "import sys\n",
    "import math\n",
    "import warnings\n",
    "from geopy.geocoders import Nominatim\n",
    "import pyproj\n",
    "\n",
    "pd.set_option('display.max_rows', None)\n",
    "pd.set_option('display.max_columns', None)\n",
    "pd.set_option('display.float_format', lambda x: '%.2f' % x)"
   ]
  },
  {
   "cell_type": "code",
   "execution_count": 2,
   "metadata": {},
   "outputs": [],
   "source": [
    "cwd = os.getcwd()\n",
    "\n",
    "education_folder_path = os.path.dirname(cwd)\n",
    "\n",
    "sys.path.append(education_folder_path)"
   ]
  },
  {
   "cell_type": "code",
   "execution_count": 3,
   "metadata": {},
   "outputs": [],
   "source": [
    "from global_functions import remove_spaces_in_columns, up_load_shp, up_load_df, drop_geo, change_cols_names, get_newest_date_file, get_output_folder_location"
   ]
  },
  {
   "cell_type": "code",
   "execution_count": 4,
   "metadata": {},
   "outputs": [],
   "source": [
    "#בתי ספר וגנים מעיריית ירושלים\n",
    "JLM=up_load_df(r'{}\\background_files\\jerusalem_muni'.format(education_folder_path),'מוסדות בירושלים 2020')\n",
    "JLM = remove_spaces_in_columns(JLM)"
   ]
  },
  {
   "cell_type": "code",
   "execution_count": 5,
   "metadata": {},
   "outputs": [
    {
     "data": {
      "text/html": [
       "<div>\n",
       "<style scoped>\n",
       "    .dataframe tbody tr th:only-of-type {\n",
       "        vertical-align: middle;\n",
       "    }\n",
       "\n",
       "    .dataframe tbody tr th {\n",
       "        vertical-align: top;\n",
       "    }\n",
       "\n",
       "    .dataframe thead th {\n",
       "        text-align: right;\n",
       "    }\n",
       "</style>\n",
       "<table border=\"1\" class=\"dataframe\">\n",
       "  <thead>\n",
       "    <tr style=\"text-align: right;\">\n",
       "      <th></th>\n",
       "      <th>סמל_עירייה</th>\n",
       "      <th>סמל_מוסד</th>\n",
       "      <th>שם_מוסד</th>\n",
       "      <th>שלב_חינוך</th>\n",
       "      <th>מכיתה</th>\n",
       "      <th>עד_כיתה</th>\n",
       "      <th>סה\"כ_תלמידים</th>\n",
       "      <th>coordinate_x</th>\n",
       "      <th>coordinate_y</th>\n",
       "    </tr>\n",
       "  </thead>\n",
       "  <tbody>\n",
       "    <tr>\n",
       "      <th>0</th>\n",
       "      <td>21321.00</td>\n",
       "      <td>110106.00</td>\n",
       "      <td>מ\"מ אגרון</td>\n",
       "      <td>יסודי</td>\n",
       "      <td>א</td>\n",
       "      <td>ו</td>\n",
       "      <td>230.00</td>\n",
       "      <td>216876.00</td>\n",
       "      <td>629987.00</td>\n",
       "    </tr>\n",
       "    <tr>\n",
       "      <th>1</th>\n",
       "      <td>21323.00</td>\n",
       "      <td>110312.00</td>\n",
       "      <td>מ\"מ ארגנטינה הניסויי</td>\n",
       "      <td>יסודי</td>\n",
       "      <td>א</td>\n",
       "      <td>ח</td>\n",
       "      <td>347.00</td>\n",
       "      <td>216154.00</td>\n",
       "      <td>630603.00</td>\n",
       "    </tr>\n",
       "    <tr>\n",
       "      <th>2</th>\n",
       "      <td>21326.00</td>\n",
       "      <td>110155.00</td>\n",
       "      <td>מ\"מ בית הכרם -הישראלי</td>\n",
       "      <td>יסודי</td>\n",
       "      <td>א</td>\n",
       "      <td>ו</td>\n",
       "      <td>534.00</td>\n",
       "      <td>218166.00</td>\n",
       "      <td>632109.00</td>\n",
       "    </tr>\n",
       "    <tr>\n",
       "      <th>3</th>\n",
       "      <td>21327.00</td>\n",
       "      <td>110171.00</td>\n",
       "      <td>מ\"מ תל\"י גאולים ע\"ש יצחק נבון</td>\n",
       "      <td>יסודי</td>\n",
       "      <td>א</td>\n",
       "      <td>ו</td>\n",
       "      <td>331.00</td>\n",
       "      <td>220805.00</td>\n",
       "      <td>629266.00</td>\n",
       "    </tr>\n",
       "    <tr>\n",
       "      <th>4</th>\n",
       "      <td>21328.00</td>\n",
       "      <td>111112.00</td>\n",
       "      <td>מ\"מ זלמן ארן</td>\n",
       "      <td>יסודי</td>\n",
       "      <td>א</td>\n",
       "      <td>ו</td>\n",
       "      <td>367.00</td>\n",
       "      <td>220633.00</td>\n",
       "      <td>628408.00</td>\n",
       "    </tr>\n",
       "  </tbody>\n",
       "</table>\n",
       "</div>"
      ],
      "text/plain": [
       "   סמל_עירייה  סמל_מוסד                        שם_מוסד שלב_חינוך מכיתה  \\\n",
       "0    21321.00 110106.00                      מ\"מ אגרון     יסודי     א   \n",
       "1    21323.00 110312.00           מ\"מ ארגנטינה הניסויי     יסודי     א   \n",
       "2    21326.00 110155.00          מ\"מ בית הכרם -הישראלי     יסודי     א   \n",
       "3    21327.00 110171.00  מ\"מ תל\"י גאולים ע\"ש יצחק נבון     יסודי     א   \n",
       "4    21328.00 111112.00                   מ\"מ זלמן ארן     יסודי     א   \n",
       "\n",
       "  עד_כיתה  סה\"כ_תלמידים  coordinate_x  coordinate_y  \n",
       "0       ו        230.00     216876.00     629987.00  \n",
       "1       ח        347.00     216154.00     630603.00  \n",
       "2       ו        534.00     218166.00     632109.00  \n",
       "3       ו        331.00     220805.00     629266.00  \n",
       "4       ו        367.00     220633.00     628408.00  "
      ]
     },
     "execution_count": 5,
     "metadata": {},
     "output_type": "execute_result"
    }
   ],
   "source": [
    "JLM.rename(columns={'סמל_חינוך': 'סמל_מוסד'}, inplace=True)\n",
    "\n",
    "JLM = JLM.drop(columns=['אגף', 'פיקוח', 'סוג_חינוך', 'מעמד_משפטי', 'מספר_כיתות', \"מס'_תלמידים_ז-ט\", \"מס'_תלמידים_י-יד\", 'קוד_אזור_סטיסטי', 'תאור_אזור_סטטיסטי', 'Unnamed:_18', 'Unnamed:_19'])\n",
    "\n",
    "JLM.head()"
   ]
  },
  {
   "cell_type": "code",
   "execution_count": 6,
   "metadata": {},
   "outputs": [],
   "source": [
    "# פונקציה להמרת כיתות לאותיות למספרים\n",
    "def get_grade_number(grade):\n",
    "    grade_map = {\n",
    "        'א': 1, 'ב': 2, 'ג': 3, 'ד': 4, 'ה': 5, 'ו': 6,\n",
    "        'ז': 7, 'ח': 8, 'ט': 9, 'י': 10, 'יא': 11, 'יב': 12, \n",
    "        'יג': 13, 'יד': 14\n",
    "    }\n",
    "    return grade_map.get(grade, np.nan)"
   ]
  },
  {
   "cell_type": "code",
   "execution_count": 7,
   "metadata": {},
   "outputs": [],
   "source": [
    "# חישוב מספר הכיתות\n",
    "JLM['מספר_כיתות'] = JLM.apply(lambda row: get_grade_number(row['עד_כיתה']) - get_grade_number(row['מכיתה']) + 1, axis=1)\n",
    "JLM['מספר_כיתות']\n",
    "\n",
    "# חלוקת התלמידים לפי כיתות\n",
    "JLM['תלמידים_לכיתה'] = JLM['סה\"כ_תלמידים'] / JLM['מספר_כיתות']\n"
   ]
  },
  {
   "cell_type": "code",
   "execution_count": 8,
   "metadata": {},
   "outputs": [],
   "source": [
    "# יצירת עמודות עבור כל כיתה\n",
    "grades = ['א', 'ב', 'ג', 'ד', 'ה', 'ו', 'ז', 'ח', 'ט', 'י', 'יא', 'יב', 'יג', 'יד']\n",
    "for grade in grades:\n",
    "    JLM[grade] = JLM.apply(lambda row: row['תלמידים_לכיתה'] if get_grade_number(row['מכיתה']) <= get_grade_number(grade) <= get_grade_number(row['עד_כיתה']) else 0, axis=1)"
   ]
  }
 ],
 "metadata": {
  "kernelspec": {
   "display_name": "creat_forecast_ad_hoc_env",
   "language": "python",
   "name": "python3"
  },
  "language_info": {
   "codemirror_mode": {
    "name": "ipython",
    "version": 3
   },
   "file_extension": ".py",
   "mimetype": "text/x-python",
   "name": "python",
   "nbconvert_exporter": "python",
   "pygments_lexer": "ipython3",
   "version": "3.11.5"
  }
 },
 "nbformat": 4,
 "nbformat_minor": 2
}
